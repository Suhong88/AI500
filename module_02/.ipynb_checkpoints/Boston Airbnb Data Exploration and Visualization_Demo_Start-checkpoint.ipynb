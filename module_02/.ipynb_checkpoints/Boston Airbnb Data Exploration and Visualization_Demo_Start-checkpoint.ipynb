{
 "cells": [
  {
   "cell_type": "markdown",
   "id": "19048d3a-f0a9-496e-9dc1-3717686b9a23",
   "metadata": {},
   "source": [
    "# Pre-requisites\n",
    "- You are expected to have a **basic understanding of Python and Pandas**.  \n",
    "- If you are new to Python, please review the attached **Python Review** and **Python Pandas/Numpy Review** PDFs.  \n",
    "- You may also take *Python Essential Training* by Ryan Mitchell on **LinkedIn Learning**.  \n",
    "  - Since Bryant has a LinkedIn Learning site license, you can access this and any other courses by signing in with your Bryant email.  \n",
    "- For all hands-on demonstrations and assignments, you will have free access to a **cloud-based Jupyter Lab**.  The server will give you access to GPU capability.\n",
    "  - Log into the [HPC server](http://hpc.bryant.edu) using your Bryant email and password.  "
   ]
  },
  {
   "cell_type": "markdown",
   "id": "12cd2ff6",
   "metadata": {},
   "source": [
    "# Data Understanding: Boston Airbnb Open Data \n",
    "\n",
    "This project focuses on data preparation and cleaning, the third step in the data process. Once the data is cleaned, we will use simple Python Pandas code to explore the dataset and visualize the results.\n",
    "\n",
    "This dataset was obtained from [Kaggle](https://www.kaggle.com/datasets/airbnb/boston).\n",
    "\n",
    "The following Airbnb activity is included in this Boston dataset:\n",
    "\n",
    " - Listings, including full descriptions and average review score\n",
    " - Reviews, including unique id for each reviewer and detailed comments\n",
    " - Calendar, including listing id and the price and availability for that day\n",
    " \n",
    " For this analysis, we will Listings and reviews data."
   ]
  },
  {
   "cell_type": "markdown",
   "id": "a48c35e0",
   "metadata": {},
   "source": [
    "# Import packages and airbnb listings data"
   ]
  },
  {
   "cell_type": "code",
   "execution_count": null,
   "id": "67cce302",
   "metadata": {
    "tags": []
   },
   "outputs": [],
   "source": []
  },
  {
   "cell_type": "code",
   "execution_count": 1,
   "id": "46091d91",
   "metadata": {
    "tags": []
   },
   "outputs": [],
   "source": [
    "# read listings data\n",
    "\n"
   ]
  },
  {
   "cell_type": "markdown",
   "id": "42b4132d-0d95-4064-a057-e02355a90f86",
   "metadata": {
    "tags": []
   },
   "source": [
    "# Review Listings data\n",
    "\n",
    "For this project, we will mainly focus on listings data"
   ]
  },
  {
   "cell_type": "code",
   "execution_count": 2,
   "id": "29727564-67b1-4773-8ad6-b76bab045fbb",
   "metadata": {
    "tags": []
   },
   "outputs": [],
   "source": [
    "# check the shape of the data. We have 3585 listings with 95 columns\n"
   ]
  },
  {
   "cell_type": "code",
   "execution_count": 3,
   "id": "0b180844-2c5f-476b-bf79-7e2e87670497",
   "metadata": {
    "tags": []
   },
   "outputs": [],
   "source": [
    "# check the first 5 rows of the data\n"
   ]
  },
  {
   "cell_type": "code",
   "execution_count": 4,
   "id": "1ec22d00-55b3-46ef-a3e5-fffd392625e0",
   "metadata": {
    "tags": []
   },
   "outputs": [],
   "source": [
    "# check the last few rows of data\n"
   ]
  },
  {
   "cell_type": "code",
   "execution_count": 5,
   "id": "cdaf6fd1",
   "metadata": {
    "tags": []
   },
   "outputs": [],
   "source": [
    "# check columns in the dataset\n"
   ]
  },
  {
   "cell_type": "code",
   "execution_count": 6,
   "id": "9996c0c3-f9a3-4da2-9ad7-d79234e0c61e",
   "metadata": {
    "tags": []
   },
   "outputs": [],
   "source": [
    "# check total number of columns in the dataset\n",
    "\n"
   ]
  },
  {
   "cell_type": "code",
   "execution_count": 7,
   "id": "089dfff7",
   "metadata": {
    "scrolled": true,
    "tags": []
   },
   "outputs": [],
   "source": [
    "# select interested columns for further analysis. \n",
    "# We will focus understanding price of listings and how it is impacted by other factors such as location, review rating and etc.\n",
    "\n"
   ]
  },
  {
   "cell_type": "code",
   "execution_count": 8,
   "id": "ce35dc62-7f9c-49dd-b977-7a7db99ef384",
   "metadata": {
    "tags": []
   },
   "outputs": [],
   "source": [
    "# Since we have a lot of columns, we can display a few columns at once\n",
    "\n",
    "#check first 10 columns of df1\n",
    "\n",
    "\n",
    "\n",
    "# you can change the range to check other columns. Below code show the columns from 11th to 20th position\n",
    "\n",
    "\n"
   ]
  },
  {
   "cell_type": "markdown",
   "id": "31cc3b24-6129-4bc0-b059-d29c7f1817b2",
   "metadata": {
    "tags": []
   },
   "source": [
    "# Data Cleaning\n",
    "- Check the data type, make sure they look correct"
   ]
  },
  {
   "cell_type": "code",
   "execution_count": null,
   "id": "543d23dc",
   "metadata": {
    "scrolled": true,
    "tags": []
   },
   "outputs": [],
   "source": []
  },
  {
   "cell_type": "code",
   "execution_count": 9,
   "id": "076190b9",
   "metadata": {
    "tags": []
   },
   "outputs": [],
   "source": [
    "# price is object (string type). It should be float.\n",
    "# by looking at the price, we noticed it has dollar sign and thousand seperator. We need to remove them so that we can covert price from object to float\n",
    "\n"
   ]
  },
  {
   "cell_type": "code",
   "execution_count": 10,
   "id": "38f5e072",
   "metadata": {
    "scrolled": true,
    "tags": []
   },
   "outputs": [],
   "source": [
    "# remove $ and thousand seperator ,\n",
    "\n",
    "\n",
    "# convert price from string to float\n",
    "\n",
    "\n",
    "\n",
    "# check cleaned price\n"
   ]
  },
  {
   "cell_type": "code",
   "execution_count": 11,
   "id": "37cab056-87db-4ab8-a27b-298632f5c54b",
   "metadata": {
    "tags": []
   },
   "outputs": [],
   "source": [
    "# first_review and last_review should be date and was imported as object\n",
    "\n"
   ]
  },
  {
   "cell_type": "code",
   "execution_count": 12,
   "id": "4e3fc0f3-fcb7-47d2-b8bd-f7d79c628960",
   "metadata": {
    "tags": []
   },
   "outputs": [],
   "source": [
    "# use to_datetime to convert first review and last reviw to date\n",
    "\n"
   ]
  },
  {
   "cell_type": "code",
   "execution_count": 13,
   "id": "eb06886a-aae3-46b6-a77e-e7ffdfc44ff8",
   "metadata": {
    "tags": []
   },
   "outputs": [],
   "source": [
    "# check the data type again\n"
   ]
  },
  {
   "cell_type": "markdown",
   "id": "52689858",
   "metadata": {},
   "source": [
    "# Summary statistics"
   ]
  },
  {
   "cell_type": "code",
   "execution_count": 14,
   "id": "1b76af51-d8a2-4f73-8a31-5ede5435de33",
   "metadata": {
    "tags": []
   },
   "outputs": [],
   "source": [
    "# summarize numerial columns\n"
   ]
  },
  {
   "cell_type": "code",
   "execution_count": 15,
   "id": "c77ca69e",
   "metadata": {
    "scrolled": true,
    "tags": []
   },
   "outputs": [],
   "source": [
    "# use transpose if you have many columns\n"
   ]
  },
  {
   "cell_type": "code",
   "execution_count": 16,
   "id": "bcdaa05f",
   "metadata": {
    "tags": []
   },
   "outputs": [],
   "source": [
    "# summarize categorical columns\n",
    "\n"
   ]
  },
  {
   "cell_type": "code",
   "execution_count": 17,
   "id": "37b8fb04",
   "metadata": {
    "scrolled": true,
    "tags": []
   },
   "outputs": [],
   "source": [
    "# check missing values in each column\n"
   ]
  },
  {
   "cell_type": "code",
   "execution_count": 18,
   "id": "bfda1cd7-5303-401e-8b65-7665e534dfb4",
   "metadata": {
    "tags": []
   },
   "outputs": [],
   "source": [
    "# square_feet has 3529/3585 (98%) missing value, drop it from further analysis\n",
    "\n"
   ]
  },
  {
   "cell_type": "code",
   "execution_count": 19,
   "id": "43dee600-880c-4723-823a-37be5848cf21",
   "metadata": {
    "tags": []
   },
   "outputs": [],
   "source": [
    "# deal with missing values.\n",
    "# for summary and property_type column, replace with NA\n",
    "\n"
   ]
  },
  {
   "cell_type": "code",
   "execution_count": 20,
   "id": "7e0982cc-53f6-4881-85c9-cbc482dd7890",
   "metadata": {
    "tags": []
   },
   "outputs": [],
   "source": [
    "# deal with missing values.\n",
    "# for numerical column, replace with mean\n",
    "\n",
    "#Step 1: select all numerical columns with missing values\n",
    "\n",
    "\n",
    "\n",
    "# step 2: replace missing value with mean\n",
    "\n"
   ]
  },
  {
   "cell_type": "markdown",
   "id": "abb4fd4f-3e0c-45d8-a641-ee87fd5177c7",
   "metadata": {
    "tags": []
   },
   "source": [
    "## Note about dates\n",
    "We will leave missing value for date (first_review and last_review) for the time being.\n",
    "we generally don’t want to replace missing dates with the mean or “NA” string the same way we do with categorical or numeric data.\n",
    "Dates need a different strategy depending on how you’ll use them."
   ]
  },
  {
   "cell_type": "code",
   "execution_count": 21,
   "id": "b347e54a",
   "metadata": {
    "tags": []
   },
   "outputs": [],
   "source": [
    "# we can use value_counts() to find unique values in a column\n",
    "# what are different type of beds available in airbnb?\n",
    "\n"
   ]
  },
  {
   "cell_type": "markdown",
   "id": "af8d5286-05b1-4c13-9887-99d2774bde09",
   "metadata": {},
   "source": [
    "## Understand shape and distribution of data\n",
    "\n",
    "Histogram/Boxplot"
   ]
  },
  {
   "cell_type": "code",
   "execution_count": 22,
   "id": "17302c2e-c590-4195-868d-4acfb4a091f4",
   "metadata": {
    "tags": []
   },
   "outputs": [],
   "source": [
    "# check distribution of price using histogram\n",
    "\n",
    "# set the figure size\n"
   ]
  },
  {
   "cell_type": "code",
   "execution_count": 23,
   "id": "b0e39153-bb03-46e9-92e2-62ef55e6f135",
   "metadata": {
    "tags": []
   },
   "outputs": [],
   "source": [
    "# limit to price below 1000, use 20 bins\n",
    "\n",
    "\n",
    "# save figure\n",
    "\n"
   ]
  },
  {
   "cell_type": "code",
   "execution_count": 24,
   "id": "78ff629c-f213-4ff7-8830-bd187a1cfac2",
   "metadata": {
    "tags": []
   },
   "outputs": [],
   "source": [
    "# we only lose 10 listings after removing all listings with price over 1000\n",
    "\n"
   ]
  },
  {
   "cell_type": "code",
   "execution_count": 25,
   "id": "d113989f-0317-49d6-8ffd-6db992f4a326",
   "metadata": {
    "tags": []
   },
   "outputs": [],
   "source": [
    "# boxplot\n",
    "\n"
   ]
  },
  {
   "cell_type": "code",
   "execution_count": 26,
   "id": "8b2cef0a-7237-4de6-856e-234a0d804ca6",
   "metadata": {
    "tags": []
   },
   "outputs": [],
   "source": [
    "# Save the cleaned data as csv for further analysis\n",
    "\n"
   ]
  },
  {
   "cell_type": "markdown",
   "id": "d0965524-6977-45e7-9e9b-0b34d92e3635",
   "metadata": {},
   "source": [
    "# Exploratory Analysis\n",
    "- display top 5 neighbourhood by number of listings\n",
    "- Average listing price by neighbourhood. Limit to the top 5 neighbourhood that has the highest average price\n",
    "- Number of Listings by price range\n",
    "- display count, mean, max, min price for all listings by neighborhood. Limit to top 5 neighbourhood based on number of listings\n",
    "- Identify top 10 amenities.\n",
    "- Average number of reviews by property_type and room_type. Limit to top 3 property\n",
    "- Display Average Price and Review Score of Location by top 10 Neighbourhood\n",
    "- whether review score rating is related to price\n",
    "- number of reviews by date"
   ]
  },
  {
   "cell_type": "code",
   "execution_count": 27,
   "id": "7534ae63-f9c5-4a02-b7be-924eeb039ad6",
   "metadata": {
    "tags": []
   },
   "outputs": [],
   "source": [
    "# read cleaned listing data in\n",
    "\n"
   ]
  },
  {
   "cell_type": "code",
   "execution_count": null,
   "id": "25d5ace0-3bd0-47d6-bfe4-b53e4aa3bdaa",
   "metadata": {
    "tags": []
   },
   "outputs": [],
   "source": []
  },
  {
   "cell_type": "markdown",
   "id": "2e72c881-04ee-4865-9971-0dc556239ab0",
   "metadata": {
    "tags": []
   },
   "source": [
    "## display top 5 neighbourhood by number of listings"
   ]
  },
  {
   "cell_type": "code",
   "execution_count": null,
   "id": "8c40a8a2-ccb4-4f52-87ec-92ea0af12a33",
   "metadata": {
    "tags": []
   },
   "outputs": [],
   "source": []
  },
  {
   "cell_type": "code",
   "execution_count": 28,
   "id": "7376ea67",
   "metadata": {
    "tags": []
   },
   "outputs": [],
   "source": [
    "# prepare for visualization\n",
    "\n"
   ]
  },
  {
   "cell_type": "code",
   "execution_count": 29,
   "id": "04520fe3-6c36-4b98-8b1f-3553e95ca975",
   "metadata": {
    "tags": []
   },
   "outputs": [],
   "source": [
    "# visualize the result\n",
    "\n",
    "#Create bar plot\n",
    "\n",
    "\n",
    "# Labels and title\n"
   ]
  },
  {
   "cell_type": "markdown",
   "id": "7c1c219a-b6c1-4f85-8139-d0c71e3a1a97",
   "metadata": {},
   "source": [
    "## Average listing price by neighbourhood. Limit to the top 5 neighbourhood that has the highest average price"
   ]
  },
  {
   "cell_type": "code",
   "execution_count": 30,
   "id": "a2747eed-9e21-4e66-984e-c808fd15cade",
   "metadata": {
    "tags": []
   },
   "outputs": [],
   "source": [
    "#step 1: find the mean of price by neighbourhood\n",
    "\n",
    "\n",
    "# step 2: sort the list by avarage price\n",
    "\n",
    "\n",
    "# rename price_cleaned to average_price\n",
    "\n"
   ]
  },
  {
   "cell_type": "code",
   "execution_count": 31,
   "id": "6d719a5a-ccef-40c0-811a-5a940ae9f213",
   "metadata": {
    "tags": []
   },
   "outputs": [],
   "source": [
    "# Visualize the result\n",
    "\n",
    "# Create bar plot\n",
    "\n",
    "\n",
    "# use sequential color\n",
    "\n",
    "\n",
    "# Labels and title\n"
   ]
  },
  {
   "cell_type": "code",
   "execution_count": 32,
   "id": "3b421c1b-1134-467b-a1af-7dd305729103",
   "metadata": {
    "tags": []
   },
   "outputs": [],
   "source": [
    "# Modify the above chart to rotate x label\n",
    "\n",
    "# Create bar plot\n",
    "\n",
    "# Labels and title\n",
    "\n",
    "# Rotate x labels\n"
   ]
  },
  {
   "cell_type": "markdown",
   "id": "d471e31f-ec0a-4bfc-8ba7-c7d3f0722898",
   "metadata": {},
   "source": [
    "## Number of Listings by price range"
   ]
  },
  {
   "cell_type": "code",
   "execution_count": 33,
   "id": "a02dbecc",
   "metadata": {
    "tags": []
   },
   "outputs": [],
   "source": [
    "#Classify price into different range. Create 4 bins for price\n",
    "\n"
   ]
  },
  {
   "cell_type": "code",
   "execution_count": 34,
   "id": "3956c947-5071-4a8c-a7de-24fbd2da0e75",
   "metadata": {
    "tags": []
   },
   "outputs": [],
   "source": [
    "# we can define our own value range for the price\n",
    "\n"
   ]
  },
  {
   "cell_type": "code",
   "execution_count": 35,
   "id": "ab38ee0e-143b-4f0a-94bb-77eec690d106",
   "metadata": {
    "tags": []
   },
   "outputs": [],
   "source": [
    "# visualize the result\n",
    "\n"
   ]
  },
  {
   "cell_type": "code",
   "execution_count": 36,
   "id": "4ce4398e-45e3-48c5-9578-7d8a48058c20",
   "metadata": {
    "tags": []
   },
   "outputs": [],
   "source": [
    "# set the figure size\n"
   ]
  },
  {
   "cell_type": "markdown",
   "id": "4dd271a4-f6b9-40d7-b49d-22c263dd5822",
   "metadata": {},
   "source": [
    "## display count, mean, max, min price for all listings by neighborhood. Limit to top 5 neighbourhood based on number of listings"
   ]
  },
  {
   "cell_type": "code",
   "execution_count": 37,
   "id": "5bc47952-d810-4a4d-b082-26d42fc30bc4",
   "metadata": {
    "tags": []
   },
   "outputs": [],
   "source": [
    "# identify top 5 listing based on count (number of listings)\n",
    "\n"
   ]
  },
  {
   "cell_type": "code",
   "execution_count": 38,
   "id": "f880cc90-9bb3-4c66-86ec-2dfe7c1a9aa6",
   "metadata": {
    "tags": []
   },
   "outputs": [],
   "source": [
    "# sort the value by average price\n",
    "\n"
   ]
  },
  {
   "cell_type": "code",
   "execution_count": 39,
   "id": "dedbfca5-ca55-4bc9-aa72-97419b1a27bd",
   "metadata": {
    "tags": []
   },
   "outputs": [],
   "source": [
    "# visualize mean, min and max price by neighbourhood\n",
    "\n",
    "# step 1 drop count\n",
    "\n",
    "\n",
    "# use melt function to transform a wide-format DataFrame into a long-format DataFrame (also called “unpivoting”).\n"
   ]
  },
  {
   "cell_type": "code",
   "execution_count": 40,
   "id": "bedbbf77-c5a0-4e6b-a76d-c75468d5d483",
   "metadata": {
    "tags": []
   },
   "outputs": [],
   "source": [
    "# set the figure size\n"
   ]
  },
  {
   "cell_type": "markdown",
   "id": "09eeda53-3514-42a9-9a45-ec959c5df02f",
   "metadata": {},
   "source": [
    "## Identify top 10 amenities."
   ]
  },
  {
   "cell_type": "code",
   "execution_count": null,
   "id": "5f69211e-d244-4344-8f0c-2575a0aebda3",
   "metadata": {
    "tags": []
   },
   "outputs": [],
   "source": []
  },
  {
   "cell_type": "code",
   "execution_count": 41,
   "id": "c471f563-e237-4efe-977e-f59fe2f32a62",
   "metadata": {
    "tags": []
   },
   "outputs": [],
   "source": [
    "# increase width of pandas column to see the full content of amenities\n",
    "\n"
   ]
  },
  {
   "cell_type": "code",
   "execution_count": 42,
   "id": "3804651b-f1ff-4e41-9eb0-6a0ecdcab9e9",
   "metadata": {
    "tags": []
   },
   "outputs": [],
   "source": [
    "# split amenities by comma\n",
    "\n",
    "\n",
    "\n",
    "# explode each amentity into one row\n",
    "#  ignore_index resets the index of the exploded result to a continuous 0, 1, 2, … sequence.\n"
   ]
  },
  {
   "cell_type": "code",
   "execution_count": 43,
   "id": "0dfbb1cb-6339-474e-a912-dec7a287e524",
   "metadata": {
    "tags": []
   },
   "outputs": [],
   "source": [
    "# show top 10 amenities\n",
    "\n"
   ]
  },
  {
   "cell_type": "code",
   "execution_count": 44,
   "id": "82b81b93-b64f-4a78-a1ed-4908b1f8aaac",
   "metadata": {
    "tags": []
   },
   "outputs": [],
   "source": [
    "# need to clean amentities. Remove special character\n",
    "\n"
   ]
  },
  {
   "cell_type": "code",
   "execution_count": 45,
   "id": "177f8d9f-ddd7-4cc2-b018-89761e6083c5",
   "metadata": {
    "tags": []
   },
   "outputs": [],
   "source": [
    "# visualize the result\n",
    "\n",
    "\n",
    "\n",
    "# set the figure size\n",
    "\n",
    "# Labels and title\n",
    "\n",
    "\n",
    "# Rotate x labels\n"
   ]
  },
  {
   "cell_type": "markdown",
   "id": "bbd5f963-629c-4169-a374-6fba80a8464c",
   "metadata": {
    "tags": []
   },
   "source": [
    "## Average number of reviews by property type and room type. Limit to top 3 property based on numbe of listings"
   ]
  },
  {
   "cell_type": "code",
   "execution_count": null,
   "id": "d2dbd966-0441-4bf3-8eb3-43b89864d849",
   "metadata": {
    "tags": []
   },
   "outputs": [],
   "source": []
  },
  {
   "cell_type": "code",
   "execution_count": 46,
   "id": "e6c43f35-63ee-4e92-bc90-90187c9e1bbb",
   "metadata": {
    "tags": []
   },
   "outputs": [],
   "source": [
    "# store ther result in a dataframe for visualization\n",
    "\n"
   ]
  },
  {
   "cell_type": "code",
   "execution_count": 47,
   "id": "984a658f-b67f-4174-b696-4b36b6c8e82f",
   "metadata": {
    "tags": []
   },
   "outputs": [],
   "source": [
    "# visualize the result\n",
    "\n",
    "# set the figure size\n",
    "\n",
    "# Labels and title\n"
   ]
  },
  {
   "cell_type": "markdown",
   "id": "d4530520-c9fe-4861-95e5-7efc2e330016",
   "metadata": {
    "tags": []
   },
   "source": [
    "## Display Average Price and Review Score of Location by top 10 Neighbourhood"
   ]
  },
  {
   "cell_type": "code",
   "execution_count": null,
   "id": "dc92178a-65d7-4cce-86d4-cf9583876cc7",
   "metadata": {
    "tags": []
   },
   "outputs": [],
   "source": []
  },
  {
   "cell_type": "code",
   "execution_count": 48,
   "id": "e135645a-c601-4285-b75d-8f441987566a",
   "metadata": {
    "tags": []
   },
   "outputs": [],
   "source": [
    "# visualize the result\n",
    "\n",
    "# Set the figure size\n",
    "\n",
    "\n",
    "\n",
    "# use a sequential color with 10 variations\n",
    "\n",
    "\n",
    "\n",
    "# create a bar chart using seaborn\n",
    "\n",
    "\n",
    "# create a line chart using seaborn and Matplotlib\n",
    "\n",
    "\n",
    "\n",
    "# set the chart title and labels\n"
   ]
  },
  {
   "cell_type": "markdown",
   "id": "8836bdd5-ee87-41b0-9817-b4fe1c2e375f",
   "metadata": {},
   "source": [
    "## Check whether review score rating is related to price"
   ]
  },
  {
   "cell_type": "code",
   "execution_count": 49,
   "id": "3a8a96ef-3327-4d3d-9d25-f2255b1c2084",
   "metadata": {
    "tags": []
   },
   "outputs": [],
   "source": [
    "# create a scatter plot between airbnb review scores and price\n",
    "\n"
   ]
  },
  {
   "cell_type": "markdown",
   "id": "79314f6d-843d-4581-b106-850056037323",
   "metadata": {},
   "source": [
    "## Number of Reviews by Date"
   ]
  },
  {
   "cell_type": "code",
   "execution_count": null,
   "id": "2f92a431-ec18-459a-b22b-b4120b32b05c",
   "metadata": {
    "tags": []
   },
   "outputs": [],
   "source": []
  },
  {
   "cell_type": "code",
   "execution_count": null,
   "id": "79f97739-420f-4e15-b849-ae699fa6a4ed",
   "metadata": {
    "tags": []
   },
   "outputs": [],
   "source": []
  },
  {
   "cell_type": "code",
   "execution_count": null,
   "id": "617d782a-3077-4509-8274-8246420ee0e2",
   "metadata": {
    "tags": []
   },
   "outputs": [],
   "source": []
  },
  {
   "cell_type": "code",
   "execution_count": 50,
   "id": "7d45f748-8a1d-4444-a608-fb3daae0c781",
   "metadata": {
    "tags": []
   },
   "outputs": [],
   "source": [
    "# convert data from object to date\n",
    "\n"
   ]
  },
  {
   "cell_type": "code",
   "execution_count": 51,
   "id": "68a6b45d-d32b-4c09-bd97-fc5ff5116342",
   "metadata": {
    "tags": []
   },
   "outputs": [],
   "source": [
    "# number of reviews by date\n",
    "\n",
    "\n",
    "#set figure size\n",
    "\n"
   ]
  },
  {
   "cell_type": "code",
   "execution_count": 52,
   "id": "f3a47b02-11bf-4ef8-bcd4-a20becc6469e",
   "metadata": {
    "tags": []
   },
   "outputs": [],
   "source": [
    "# limit to date after 2014\n",
    "\n",
    "\n",
    "#set figure size\n",
    "\n"
   ]
  },
  {
   "cell_type": "markdown",
   "id": "263b46c4-7376-4ffe-8948-976e046d0383",
   "metadata": {},
   "source": [
    "#  Data joining\n",
    "join listing and review data\n",
    "\n",
    "listing_id in review table is linked to id in the listings table"
   ]
  },
  {
   "cell_type": "code",
   "execution_count": 53,
   "id": "5294e928-1cd4-4ae7-92e8-7d0ff56d4e09",
   "metadata": {
    "tags": []
   },
   "outputs": [],
   "source": [
    "## drop id from reviews table\n",
    "\n",
    "\n",
    "\n",
    "# read cleaned listings data\n",
    "\n",
    "\n",
    "\n",
    "# join listing and review data\n",
    "\n"
   ]
  },
  {
   "cell_type": "code",
   "execution_count": null,
   "id": "cf49f4b3-aae4-48b7-96e0-8e778e58cec4",
   "metadata": {},
   "outputs": [],
   "source": []
  }
 ],
 "metadata": {
  "kernelspec": {
   "display_name": "AI500Env",
   "language": "python",
   "name": "ai500env"
  },
  "language_info": {
   "codemirror_mode": {
    "name": "ipython",
    "version": 3
   },
   "file_extension": ".py",
   "mimetype": "text/x-python",
   "name": "python",
   "nbconvert_exporter": "python",
   "pygments_lexer": "ipython3",
   "version": "3.12.11"
  }
 },
 "nbformat": 4,
 "nbformat_minor": 5
}
