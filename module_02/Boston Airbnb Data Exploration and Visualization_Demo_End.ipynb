{
 "cells": [
  {
   "cell_type": "markdown",
   "id": "19048d3a-f0a9-496e-9dc1-3717686b9a23",
   "metadata": {},
   "source": [
    "# Pre-requisites\n",
    "- You are expected to have a **basic understanding of Python and Pandas**.  \n",
    "- If you are new to Python, please review the attached **Python Review** and **Python Pandas/Numpy Review** PDFs.  \n",
    "- You may also take *Python Essential Training* by Ryan Mitchell on **LinkedIn Learning**.  \n",
    "  - Since Bryant has a LinkedIn Learning site license, you can access this and any other courses by signing in with your Bryant email.  \n",
    "- For all hands-on demonstrations and assignments, you will have free access to a **cloud-based Jupyter Lab**.  The server will give you access to GPU capability.\n",
    "  - Log into the HPC server using your Bryant email and password.  "
   ]
  },
  {
   "cell_type": "markdown",
   "id": "12cd2ff6",
   "metadata": {},
   "source": [
    "# Data Understanding: Boston Airbnb Open Data \n",
    "\n",
    "This project focuses on data preparation and cleaning, the third step in the data process. Once the data is cleaned, we will use simple Python Pandas code to explore the dataset and visualize the results.\n",
    "\n",
    "This dataset was obtained from [Kaggle](https://www.kaggle.com/datasets/airbnb/boston).\n",
    "\n",
    "The following Airbnb activity is included in this Boston dataset:\n",
    "\n",
    " - Listings, including full descriptions and average review score\n",
    " - Reviews, including unique id for each reviewer and detailed comments\n",
    " - Calendar, including listing id and the price and availability for that day\n",
    " \n",
    " For this analysis, we will Listings and reviews data."
   ]
  },
  {
   "cell_type": "markdown",
   "id": "a48c35e0",
   "metadata": {},
   "source": [
    "# Import packages and airbnb listings data"
   ]
  },
  {
   "cell_type": "code",
   "execution_count": 1,
   "id": "67cce302",
   "metadata": {
    "tags": []
   },
   "outputs": [],
   "source": [
    "import pandas as pd\n",
    "import numpy as np\n",
    "import matplotlib.pyplot as plt\n",
    "import seaborn as sns\n",
    "import warnings\n",
    "\n",
    "#ignore warnings message\n",
    "warnings.filterwarnings(\"ignore\")"
   ]
  },
  {
   "cell_type": "code",
   "execution_count": 2,
   "id": "46091d91",
   "metadata": {
    "tags": []
   },
   "outputs": [],
   "source": [
    "# read listings data\n",
    "\n",
    "df=pd.read_csv('listings.csv')"
   ]
  },
  {
   "cell_type": "markdown",
   "id": "42b4132d-0d95-4064-a057-e02355a90f86",
   "metadata": {
    "tags": []
   },
   "source": [
    "# Review Listings data\n",
    "\n",
    "For this project, we will mainly focus on listings data"
   ]
  },
  {
   "cell_type": "code",
   "execution_count": 3,
   "id": "29727564-67b1-4773-8ad6-b76bab045fbb",
   "metadata": {
    "tags": []
   },
   "outputs": [
    {
     "data": {
      "text/plain": [
       "(3585, 95)"
      ]
     },
     "execution_count": 3,
     "metadata": {},
     "output_type": "execute_result"
    }
   ],
   "source": [
    "# check the shape of the data. We have 3585 listings with 95 columns\n",
    "df.shape"
   ]
  },
  {
   "cell_type": "code",
   "execution_count": 4,
   "id": "0b180844-2c5f-476b-bf79-7e2e87670497",
   "metadata": {
    "tags": []
   },
   "outputs": [
    {
     "data": {
      "text/html": [
       "<div>\n",
       "<style scoped>\n",
       "    .dataframe tbody tr th:only-of-type {\n",
       "        vertical-align: middle;\n",
       "    }\n",
       "\n",
       "    .dataframe tbody tr th {\n",
       "        vertical-align: top;\n",
       "    }\n",
       "\n",
       "    .dataframe thead th {\n",
       "        text-align: right;\n",
       "    }\n",
       "</style>\n",
       "<table border=\"1\" class=\"dataframe\">\n",
       "  <thead>\n",
       "    <tr style=\"text-align: right;\">\n",
       "      <th></th>\n",
       "      <th>id</th>\n",
       "      <th>listing_url</th>\n",
       "      <th>scrape_id</th>\n",
       "      <th>last_scraped</th>\n",
       "      <th>name</th>\n",
       "      <th>summary</th>\n",
       "      <th>space</th>\n",
       "      <th>description</th>\n",
       "      <th>experiences_offered</th>\n",
       "      <th>neighborhood_overview</th>\n",
       "      <th>...</th>\n",
       "      <th>review_scores_value</th>\n",
       "      <th>requires_license</th>\n",
       "      <th>license</th>\n",
       "      <th>jurisdiction_names</th>\n",
       "      <th>instant_bookable</th>\n",
       "      <th>cancellation_policy</th>\n",
       "      <th>require_guest_profile_picture</th>\n",
       "      <th>require_guest_phone_verification</th>\n",
       "      <th>calculated_host_listings_count</th>\n",
       "      <th>reviews_per_month</th>\n",
       "    </tr>\n",
       "  </thead>\n",
       "  <tbody>\n",
       "    <tr>\n",
       "      <th>0</th>\n",
       "      <td>12147973</td>\n",
       "      <td>https://www.airbnb.com/rooms/12147973</td>\n",
       "      <td>20160906204935</td>\n",
       "      <td>2016-09-07</td>\n",
       "      <td>Sunny Bungalow in the City</td>\n",
       "      <td>Cozy, sunny, family home.  Master bedroom high...</td>\n",
       "      <td>The house has an open and cozy feel at the sam...</td>\n",
       "      <td>Cozy, sunny, family home.  Master bedroom high...</td>\n",
       "      <td>none</td>\n",
       "      <td>Roslindale is quiet, convenient and friendly. ...</td>\n",
       "      <td>...</td>\n",
       "      <td>NaN</td>\n",
       "      <td>f</td>\n",
       "      <td>NaN</td>\n",
       "      <td>NaN</td>\n",
       "      <td>f</td>\n",
       "      <td>moderate</td>\n",
       "      <td>f</td>\n",
       "      <td>f</td>\n",
       "      <td>1</td>\n",
       "      <td>NaN</td>\n",
       "    </tr>\n",
       "    <tr>\n",
       "      <th>1</th>\n",
       "      <td>3075044</td>\n",
       "      <td>https://www.airbnb.com/rooms/3075044</td>\n",
       "      <td>20160906204935</td>\n",
       "      <td>2016-09-07</td>\n",
       "      <td>Charming room in pet friendly apt</td>\n",
       "      <td>Charming and quiet room in a second floor 1910...</td>\n",
       "      <td>Small but cozy and quite room with a full size...</td>\n",
       "      <td>Charming and quiet room in a second floor 1910...</td>\n",
       "      <td>none</td>\n",
       "      <td>The room is in Roslindale, a diverse and prima...</td>\n",
       "      <td>...</td>\n",
       "      <td>9.0</td>\n",
       "      <td>f</td>\n",
       "      <td>NaN</td>\n",
       "      <td>NaN</td>\n",
       "      <td>t</td>\n",
       "      <td>moderate</td>\n",
       "      <td>f</td>\n",
       "      <td>f</td>\n",
       "      <td>1</td>\n",
       "      <td>1.30</td>\n",
       "    </tr>\n",
       "    <tr>\n",
       "      <th>2</th>\n",
       "      <td>6976</td>\n",
       "      <td>https://www.airbnb.com/rooms/6976</td>\n",
       "      <td>20160906204935</td>\n",
       "      <td>2016-09-07</td>\n",
       "      <td>Mexican Folk Art Haven in Boston</td>\n",
       "      <td>Come stay with a friendly, middle-aged guy in ...</td>\n",
       "      <td>Come stay with a friendly, middle-aged guy in ...</td>\n",
       "      <td>Come stay with a friendly, middle-aged guy in ...</td>\n",
       "      <td>none</td>\n",
       "      <td>The LOCATION: Roslindale is a safe and diverse...</td>\n",
       "      <td>...</td>\n",
       "      <td>10.0</td>\n",
       "      <td>f</td>\n",
       "      <td>NaN</td>\n",
       "      <td>NaN</td>\n",
       "      <td>f</td>\n",
       "      <td>moderate</td>\n",
       "      <td>t</td>\n",
       "      <td>f</td>\n",
       "      <td>1</td>\n",
       "      <td>0.47</td>\n",
       "    </tr>\n",
       "    <tr>\n",
       "      <th>3</th>\n",
       "      <td>1436513</td>\n",
       "      <td>https://www.airbnb.com/rooms/1436513</td>\n",
       "      <td>20160906204935</td>\n",
       "      <td>2016-09-07</td>\n",
       "      <td>Spacious Sunny Bedroom Suite in Historic Home</td>\n",
       "      <td>Come experience the comforts of home away from...</td>\n",
       "      <td>Most places you find in Boston are small howev...</td>\n",
       "      <td>Come experience the comforts of home away from...</td>\n",
       "      <td>none</td>\n",
       "      <td>Roslindale is a lovely little neighborhood loc...</td>\n",
       "      <td>...</td>\n",
       "      <td>10.0</td>\n",
       "      <td>f</td>\n",
       "      <td>NaN</td>\n",
       "      <td>NaN</td>\n",
       "      <td>f</td>\n",
       "      <td>moderate</td>\n",
       "      <td>f</td>\n",
       "      <td>f</td>\n",
       "      <td>1</td>\n",
       "      <td>1.00</td>\n",
       "    </tr>\n",
       "    <tr>\n",
       "      <th>4</th>\n",
       "      <td>7651065</td>\n",
       "      <td>https://www.airbnb.com/rooms/7651065</td>\n",
       "      <td>20160906204935</td>\n",
       "      <td>2016-09-07</td>\n",
       "      <td>Come Home to Boston</td>\n",
       "      <td>My comfy, clean and relaxing home is one block...</td>\n",
       "      <td>Clean, attractive, private room, one block fro...</td>\n",
       "      <td>My comfy, clean and relaxing home is one block...</td>\n",
       "      <td>none</td>\n",
       "      <td>I love the proximity to downtown, the neighbor...</td>\n",
       "      <td>...</td>\n",
       "      <td>10.0</td>\n",
       "      <td>f</td>\n",
       "      <td>NaN</td>\n",
       "      <td>NaN</td>\n",
       "      <td>f</td>\n",
       "      <td>flexible</td>\n",
       "      <td>f</td>\n",
       "      <td>f</td>\n",
       "      <td>1</td>\n",
       "      <td>2.25</td>\n",
       "    </tr>\n",
       "  </tbody>\n",
       "</table>\n",
       "<p>5 rows × 95 columns</p>\n",
       "</div>"
      ],
      "text/plain": [
       "         id                            listing_url       scrape_id  \\\n",
       "0  12147973  https://www.airbnb.com/rooms/12147973  20160906204935   \n",
       "1   3075044   https://www.airbnb.com/rooms/3075044  20160906204935   \n",
       "2      6976      https://www.airbnb.com/rooms/6976  20160906204935   \n",
       "3   1436513   https://www.airbnb.com/rooms/1436513  20160906204935   \n",
       "4   7651065   https://www.airbnb.com/rooms/7651065  20160906204935   \n",
       "\n",
       "  last_scraped                                           name  \\\n",
       "0   2016-09-07                     Sunny Bungalow in the City   \n",
       "1   2016-09-07              Charming room in pet friendly apt   \n",
       "2   2016-09-07               Mexican Folk Art Haven in Boston   \n",
       "3   2016-09-07  Spacious Sunny Bedroom Suite in Historic Home   \n",
       "4   2016-09-07                            Come Home to Boston   \n",
       "\n",
       "                                             summary  \\\n",
       "0  Cozy, sunny, family home.  Master bedroom high...   \n",
       "1  Charming and quiet room in a second floor 1910...   \n",
       "2  Come stay with a friendly, middle-aged guy in ...   \n",
       "3  Come experience the comforts of home away from...   \n",
       "4  My comfy, clean and relaxing home is one block...   \n",
       "\n",
       "                                               space  \\\n",
       "0  The house has an open and cozy feel at the sam...   \n",
       "1  Small but cozy and quite room with a full size...   \n",
       "2  Come stay with a friendly, middle-aged guy in ...   \n",
       "3  Most places you find in Boston are small howev...   \n",
       "4  Clean, attractive, private room, one block fro...   \n",
       "\n",
       "                                         description experiences_offered  \\\n",
       "0  Cozy, sunny, family home.  Master bedroom high...                none   \n",
       "1  Charming and quiet room in a second floor 1910...                none   \n",
       "2  Come stay with a friendly, middle-aged guy in ...                none   \n",
       "3  Come experience the comforts of home away from...                none   \n",
       "4  My comfy, clean and relaxing home is one block...                none   \n",
       "\n",
       "                               neighborhood_overview  ... review_scores_value  \\\n",
       "0  Roslindale is quiet, convenient and friendly. ...  ...                 NaN   \n",
       "1  The room is in Roslindale, a diverse and prima...  ...                 9.0   \n",
       "2  The LOCATION: Roslindale is a safe and diverse...  ...                10.0   \n",
       "3  Roslindale is a lovely little neighborhood loc...  ...                10.0   \n",
       "4  I love the proximity to downtown, the neighbor...  ...                10.0   \n",
       "\n",
       "  requires_license license jurisdiction_names instant_bookable  \\\n",
       "0                f     NaN                NaN                f   \n",
       "1                f     NaN                NaN                t   \n",
       "2                f     NaN                NaN                f   \n",
       "3                f     NaN                NaN                f   \n",
       "4                f     NaN                NaN                f   \n",
       "\n",
       "  cancellation_policy require_guest_profile_picture  \\\n",
       "0            moderate                             f   \n",
       "1            moderate                             f   \n",
       "2            moderate                             t   \n",
       "3            moderate                             f   \n",
       "4            flexible                             f   \n",
       "\n",
       "  require_guest_phone_verification calculated_host_listings_count  \\\n",
       "0                                f                              1   \n",
       "1                                f                              1   \n",
       "2                                f                              1   \n",
       "3                                f                              1   \n",
       "4                                f                              1   \n",
       "\n",
       "   reviews_per_month  \n",
       "0                NaN  \n",
       "1               1.30  \n",
       "2               0.47  \n",
       "3               1.00  \n",
       "4               2.25  \n",
       "\n",
       "[5 rows x 95 columns]"
      ]
     },
     "execution_count": 4,
     "metadata": {},
     "output_type": "execute_result"
    }
   ],
   "source": [
    "# check the first 5 rows of the data\n",
    "df.head(5)"
   ]
  },
  {
   "cell_type": "code",
   "execution_count": 5,
   "id": "1ec22d00-55b3-46ef-a3e5-fffd392625e0",
   "metadata": {
    "tags": []
   },
   "outputs": [
    {
     "data": {
      "text/html": [
       "<div>\n",
       "<style scoped>\n",
       "    .dataframe tbody tr th:only-of-type {\n",
       "        vertical-align: middle;\n",
       "    }\n",
       "\n",
       "    .dataframe tbody tr th {\n",
       "        vertical-align: top;\n",
       "    }\n",
       "\n",
       "    .dataframe thead th {\n",
       "        text-align: right;\n",
       "    }\n",
       "</style>\n",
       "<table border=\"1\" class=\"dataframe\">\n",
       "  <thead>\n",
       "    <tr style=\"text-align: right;\">\n",
       "      <th></th>\n",
       "      <th>id</th>\n",
       "      <th>listing_url</th>\n",
       "      <th>scrape_id</th>\n",
       "      <th>last_scraped</th>\n",
       "      <th>name</th>\n",
       "      <th>summary</th>\n",
       "      <th>space</th>\n",
       "      <th>description</th>\n",
       "      <th>experiences_offered</th>\n",
       "      <th>neighborhood_overview</th>\n",
       "      <th>...</th>\n",
       "      <th>review_scores_value</th>\n",
       "      <th>requires_license</th>\n",
       "      <th>license</th>\n",
       "      <th>jurisdiction_names</th>\n",
       "      <th>instant_bookable</th>\n",
       "      <th>cancellation_policy</th>\n",
       "      <th>require_guest_profile_picture</th>\n",
       "      <th>require_guest_phone_verification</th>\n",
       "      <th>calculated_host_listings_count</th>\n",
       "      <th>reviews_per_month</th>\n",
       "    </tr>\n",
       "  </thead>\n",
       "  <tbody>\n",
       "    <tr>\n",
       "      <th>3580</th>\n",
       "      <td>8373729</td>\n",
       "      <td>https://www.airbnb.com/rooms/8373729</td>\n",
       "      <td>20160906204935</td>\n",
       "      <td>2016-09-07</td>\n",
       "      <td>Big cozy room near T</td>\n",
       "      <td>5 min walking to Orange Line subway with 2 sto...</td>\n",
       "      <td>NaN</td>\n",
       "      <td>5 min walking to Orange Line subway with 2 sto...</td>\n",
       "      <td>none</td>\n",
       "      <td>NaN</td>\n",
       "      <td>...</td>\n",
       "      <td>9.0</td>\n",
       "      <td>f</td>\n",
       "      <td>NaN</td>\n",
       "      <td>NaN</td>\n",
       "      <td>t</td>\n",
       "      <td>strict</td>\n",
       "      <td>f</td>\n",
       "      <td>f</td>\n",
       "      <td>8</td>\n",
       "      <td>0.34</td>\n",
       "    </tr>\n",
       "    <tr>\n",
       "      <th>3581</th>\n",
       "      <td>14844274</td>\n",
       "      <td>https://www.airbnb.com/rooms/14844274</td>\n",
       "      <td>20160906204935</td>\n",
       "      <td>2016-09-07</td>\n",
       "      <td>BU Apartment DexterPark Bright room</td>\n",
       "      <td>Most popular apartment in BU, best located in ...</td>\n",
       "      <td>Best location in BU</td>\n",
       "      <td>Most popular apartment in BU, best located in ...</td>\n",
       "      <td>none</td>\n",
       "      <td>NaN</td>\n",
       "      <td>...</td>\n",
       "      <td>NaN</td>\n",
       "      <td>f</td>\n",
       "      <td>NaN</td>\n",
       "      <td>NaN</td>\n",
       "      <td>f</td>\n",
       "      <td>strict</td>\n",
       "      <td>f</td>\n",
       "      <td>f</td>\n",
       "      <td>2</td>\n",
       "      <td>NaN</td>\n",
       "    </tr>\n",
       "    <tr>\n",
       "      <th>3582</th>\n",
       "      <td>14585486</td>\n",
       "      <td>https://www.airbnb.com/rooms/14585486</td>\n",
       "      <td>20160906204935</td>\n",
       "      <td>2016-09-07</td>\n",
       "      <td>Gorgeous funky apartment</td>\n",
       "      <td>Funky little apartment close to public transpo...</td>\n",
       "      <td>Modern and relaxed space with many facilities ...</td>\n",
       "      <td>Funky little apartment close to public transpo...</td>\n",
       "      <td>none</td>\n",
       "      <td>Cambridge is a short walk into Boston, and set...</td>\n",
       "      <td>...</td>\n",
       "      <td>NaN</td>\n",
       "      <td>f</td>\n",
       "      <td>NaN</td>\n",
       "      <td>NaN</td>\n",
       "      <td>f</td>\n",
       "      <td>flexible</td>\n",
       "      <td>f</td>\n",
       "      <td>f</td>\n",
       "      <td>1</td>\n",
       "      <td>NaN</td>\n",
       "    </tr>\n",
       "    <tr>\n",
       "      <th>3583</th>\n",
       "      <td>14603878</td>\n",
       "      <td>https://www.airbnb.com/rooms/14603878</td>\n",
       "      <td>20160906204935</td>\n",
       "      <td>2016-09-07</td>\n",
       "      <td>Great Location; Train and Restaurants</td>\n",
       "      <td>My place is close to Taco Loco Mexican Grill, ...</td>\n",
       "      <td>NaN</td>\n",
       "      <td>My place is close to Taco Loco Mexican Grill, ...</td>\n",
       "      <td>none</td>\n",
       "      <td>NaN</td>\n",
       "      <td>...</td>\n",
       "      <td>7.0</td>\n",
       "      <td>f</td>\n",
       "      <td>NaN</td>\n",
       "      <td>NaN</td>\n",
       "      <td>f</td>\n",
       "      <td>strict</td>\n",
       "      <td>f</td>\n",
       "      <td>f</td>\n",
       "      <td>1</td>\n",
       "      <td>2.00</td>\n",
       "    </tr>\n",
       "    <tr>\n",
       "      <th>3584</th>\n",
       "      <td>14504422</td>\n",
       "      <td>https://www.airbnb.com/rooms/14504422</td>\n",
       "      <td>20160906204935</td>\n",
       "      <td>2016-09-07</td>\n",
       "      <td>(K1) Private Room near Harvard/MIT</td>\n",
       "      <td>My place is close to My home is a warm and fri...</td>\n",
       "      <td>To ensure a smooth check in: 1. You MUST have ...</td>\n",
       "      <td>My place is close to My home is a warm and fri...</td>\n",
       "      <td>none</td>\n",
       "      <td>NaN</td>\n",
       "      <td>...</td>\n",
       "      <td>NaN</td>\n",
       "      <td>f</td>\n",
       "      <td>NaN</td>\n",
       "      <td>NaN</td>\n",
       "      <td>t</td>\n",
       "      <td>flexible</td>\n",
       "      <td>f</td>\n",
       "      <td>f</td>\n",
       "      <td>3</td>\n",
       "      <td>NaN</td>\n",
       "    </tr>\n",
       "  </tbody>\n",
       "</table>\n",
       "<p>5 rows × 95 columns</p>\n",
       "</div>"
      ],
      "text/plain": [
       "            id                            listing_url       scrape_id  \\\n",
       "3580   8373729   https://www.airbnb.com/rooms/8373729  20160906204935   \n",
       "3581  14844274  https://www.airbnb.com/rooms/14844274  20160906204935   \n",
       "3582  14585486  https://www.airbnb.com/rooms/14585486  20160906204935   \n",
       "3583  14603878  https://www.airbnb.com/rooms/14603878  20160906204935   \n",
       "3584  14504422  https://www.airbnb.com/rooms/14504422  20160906204935   \n",
       "\n",
       "     last_scraped                                   name  \\\n",
       "3580   2016-09-07                   Big cozy room near T   \n",
       "3581   2016-09-07    BU Apartment DexterPark Bright room   \n",
       "3582   2016-09-07               Gorgeous funky apartment   \n",
       "3583   2016-09-07  Great Location; Train and Restaurants   \n",
       "3584   2016-09-07     (K1) Private Room near Harvard/MIT   \n",
       "\n",
       "                                                summary  \\\n",
       "3580  5 min walking to Orange Line subway with 2 sto...   \n",
       "3581  Most popular apartment in BU, best located in ...   \n",
       "3582  Funky little apartment close to public transpo...   \n",
       "3583  My place is close to Taco Loco Mexican Grill, ...   \n",
       "3584  My place is close to My home is a warm and fri...   \n",
       "\n",
       "                                                  space  \\\n",
       "3580                                                NaN   \n",
       "3581                                Best location in BU   \n",
       "3582  Modern and relaxed space with many facilities ...   \n",
       "3583                                                NaN   \n",
       "3584  To ensure a smooth check in: 1. You MUST have ...   \n",
       "\n",
       "                                            description experiences_offered  \\\n",
       "3580  5 min walking to Orange Line subway with 2 sto...                none   \n",
       "3581  Most popular apartment in BU, best located in ...                none   \n",
       "3582  Funky little apartment close to public transpo...                none   \n",
       "3583  My place is close to Taco Loco Mexican Grill, ...                none   \n",
       "3584  My place is close to My home is a warm and fri...                none   \n",
       "\n",
       "                                  neighborhood_overview  ...  \\\n",
       "3580                                                NaN  ...   \n",
       "3581                                                NaN  ...   \n",
       "3582  Cambridge is a short walk into Boston, and set...  ...   \n",
       "3583                                                NaN  ...   \n",
       "3584                                                NaN  ...   \n",
       "\n",
       "     review_scores_value requires_license license jurisdiction_names  \\\n",
       "3580                 9.0                f     NaN                NaN   \n",
       "3581                 NaN                f     NaN                NaN   \n",
       "3582                 NaN                f     NaN                NaN   \n",
       "3583                 7.0                f     NaN                NaN   \n",
       "3584                 NaN                f     NaN                NaN   \n",
       "\n",
       "     instant_bookable cancellation_policy require_guest_profile_picture  \\\n",
       "3580                t              strict                             f   \n",
       "3581                f              strict                             f   \n",
       "3582                f            flexible                             f   \n",
       "3583                f              strict                             f   \n",
       "3584                t            flexible                             f   \n",
       "\n",
       "     require_guest_phone_verification calculated_host_listings_count  \\\n",
       "3580                                f                              8   \n",
       "3581                                f                              2   \n",
       "3582                                f                              1   \n",
       "3583                                f                              1   \n",
       "3584                                f                              3   \n",
       "\n",
       "      reviews_per_month  \n",
       "3580               0.34  \n",
       "3581                NaN  \n",
       "3582                NaN  \n",
       "3583               2.00  \n",
       "3584                NaN  \n",
       "\n",
       "[5 rows x 95 columns]"
      ]
     },
     "execution_count": 5,
     "metadata": {},
     "output_type": "execute_result"
    }
   ],
   "source": [
    "# check the last few rows of data\n",
    "df.tail()"
   ]
  },
  {
   "cell_type": "code",
   "execution_count": 6,
   "id": "cdaf6fd1",
   "metadata": {
    "tags": []
   },
   "outputs": [
    {
     "data": {
      "text/plain": [
       "Index(['id', 'listing_url', 'scrape_id', 'last_scraped', 'name', 'summary',\n",
       "       'space', 'description', 'experiences_offered', 'neighborhood_overview',\n",
       "       'notes', 'transit', 'access', 'interaction', 'house_rules',\n",
       "       'thumbnail_url', 'medium_url', 'picture_url', 'xl_picture_url',\n",
       "       'host_id', 'host_url', 'host_name', 'host_since', 'host_location',\n",
       "       'host_about', 'host_response_time', 'host_response_rate',\n",
       "       'host_acceptance_rate', 'host_is_superhost', 'host_thumbnail_url',\n",
       "       'host_picture_url', 'host_neighbourhood', 'host_listings_count',\n",
       "       'host_total_listings_count', 'host_verifications',\n",
       "       'host_has_profile_pic', 'host_identity_verified', 'street',\n",
       "       'neighbourhood', 'neighbourhood_cleansed',\n",
       "       'neighbourhood_group_cleansed', 'city', 'state', 'zipcode', 'market',\n",
       "       'smart_location', 'country_code', 'country', 'latitude', 'longitude',\n",
       "       'is_location_exact', 'property_type', 'room_type', 'accommodates',\n",
       "       'bathrooms', 'bedrooms', 'beds', 'bed_type', 'amenities', 'square_feet',\n",
       "       'price', 'weekly_price', 'monthly_price', 'security_deposit',\n",
       "       'cleaning_fee', 'guests_included', 'extra_people', 'minimum_nights',\n",
       "       'maximum_nights', 'calendar_updated', 'has_availability',\n",
       "       'availability_30', 'availability_60', 'availability_90',\n",
       "       'availability_365', 'calendar_last_scraped', 'number_of_reviews',\n",
       "       'first_review', 'last_review', 'review_scores_rating',\n",
       "       'review_scores_accuracy', 'review_scores_cleanliness',\n",
       "       'review_scores_checkin', 'review_scores_communication',\n",
       "       'review_scores_location', 'review_scores_value', 'requires_license',\n",
       "       'license', 'jurisdiction_names', 'instant_bookable',\n",
       "       'cancellation_policy', 'require_guest_profile_picture',\n",
       "       'require_guest_phone_verification', 'calculated_host_listings_count',\n",
       "       'reviews_per_month'],\n",
       "      dtype='object')"
      ]
     },
     "execution_count": 6,
     "metadata": {},
     "output_type": "execute_result"
    }
   ],
   "source": [
    "# check columns in the dataset\n",
    "df.columns"
   ]
  },
  {
   "cell_type": "code",
   "execution_count": 7,
   "id": "9996c0c3-f9a3-4da2-9ad7-d79234e0c61e",
   "metadata": {
    "tags": []
   },
   "outputs": [
    {
     "data": {
      "text/plain": [
       "95"
      ]
     },
     "execution_count": 7,
     "metadata": {},
     "output_type": "execute_result"
    }
   ],
   "source": [
    "# check total number of columns in the dataset\n",
    "\n",
    "len(df.columns)"
   ]
  },
  {
   "cell_type": "code",
   "execution_count": 8,
   "id": "089dfff7",
   "metadata": {
    "scrolled": true,
    "tags": []
   },
   "outputs": [],
   "source": [
    "# select interested columns for further analysis. \n",
    "# We will focus understanding price of listings and how it is impacted by other factors such as location, review rating and etc.\n",
    "\n",
    "selected_columns=['id', 'name', 'summary', 'street', 'neighbourhood_cleansed',\n",
    "        'latitude', 'longitude',\n",
    "        'property_type', 'room_type', 'accommodates',\n",
    "        'bathrooms', 'bedrooms', 'beds', 'bed_type', 'amenities', 'square_feet',\n",
    "        'price', 'number_of_reviews',\n",
    "       'first_review', 'last_review', 'review_scores_rating',\n",
    "       'review_scores_accuracy', 'review_scores_cleanliness',\n",
    "       'review_scores_checkin', 'review_scores_communication',\n",
    "       'review_scores_location', 'review_scores_value']\n",
    "\n",
    "df1=df[selected_columns]"
   ]
  },
  {
   "cell_type": "code",
   "execution_count": 9,
   "id": "ce35dc62-7f9c-49dd-b977-7a7db99ef384",
   "metadata": {
    "tags": []
   },
   "outputs": [
    {
     "data": {
      "text/html": [
       "<div>\n",
       "<style scoped>\n",
       "    .dataframe tbody tr th:only-of-type {\n",
       "        vertical-align: middle;\n",
       "    }\n",
       "\n",
       "    .dataframe tbody tr th {\n",
       "        vertical-align: top;\n",
       "    }\n",
       "\n",
       "    .dataframe thead th {\n",
       "        text-align: right;\n",
       "    }\n",
       "</style>\n",
       "<table border=\"1\" class=\"dataframe\">\n",
       "  <thead>\n",
       "    <tr style=\"text-align: right;\">\n",
       "      <th></th>\n",
       "      <th>id</th>\n",
       "      <th>name</th>\n",
       "      <th>summary</th>\n",
       "      <th>street</th>\n",
       "      <th>neighbourhood_cleansed</th>\n",
       "      <th>latitude</th>\n",
       "      <th>longitude</th>\n",
       "      <th>property_type</th>\n",
       "      <th>room_type</th>\n",
       "      <th>accommodates</th>\n",
       "    </tr>\n",
       "  </thead>\n",
       "  <tbody>\n",
       "    <tr>\n",
       "      <th>0</th>\n",
       "      <td>12147973</td>\n",
       "      <td>Sunny Bungalow in the City</td>\n",
       "      <td>Cozy, sunny, family home.  Master bedroom high...</td>\n",
       "      <td>Birch Street, Boston, MA 02131, United States</td>\n",
       "      <td>Roslindale</td>\n",
       "      <td>42.282619</td>\n",
       "      <td>-71.133068</td>\n",
       "      <td>House</td>\n",
       "      <td>Entire home/apt</td>\n",
       "      <td>4</td>\n",
       "    </tr>\n",
       "    <tr>\n",
       "      <th>1</th>\n",
       "      <td>3075044</td>\n",
       "      <td>Charming room in pet friendly apt</td>\n",
       "      <td>Charming and quiet room in a second floor 1910...</td>\n",
       "      <td>Pinehurst Street, Boston, MA 02131, United States</td>\n",
       "      <td>Roslindale</td>\n",
       "      <td>42.286241</td>\n",
       "      <td>-71.134374</td>\n",
       "      <td>Apartment</td>\n",
       "      <td>Private room</td>\n",
       "      <td>2</td>\n",
       "    </tr>\n",
       "    <tr>\n",
       "      <th>2</th>\n",
       "      <td>6976</td>\n",
       "      <td>Mexican Folk Art Haven in Boston</td>\n",
       "      <td>Come stay with a friendly, middle-aged guy in ...</td>\n",
       "      <td>Ardale St., Boston, MA 02131, United States</td>\n",
       "      <td>Roslindale</td>\n",
       "      <td>42.292438</td>\n",
       "      <td>-71.135765</td>\n",
       "      <td>Apartment</td>\n",
       "      <td>Private room</td>\n",
       "      <td>2</td>\n",
       "    </tr>\n",
       "    <tr>\n",
       "      <th>3</th>\n",
       "      <td>1436513</td>\n",
       "      <td>Spacious Sunny Bedroom Suite in Historic Home</td>\n",
       "      <td>Come experience the comforts of home away from...</td>\n",
       "      <td>Boston, MA, United States</td>\n",
       "      <td>Roslindale</td>\n",
       "      <td>42.281106</td>\n",
       "      <td>-71.121021</td>\n",
       "      <td>House</td>\n",
       "      <td>Private room</td>\n",
       "      <td>4</td>\n",
       "    </tr>\n",
       "    <tr>\n",
       "      <th>4</th>\n",
       "      <td>7651065</td>\n",
       "      <td>Come Home to Boston</td>\n",
       "      <td>My comfy, clean and relaxing home is one block...</td>\n",
       "      <td>Durnell Avenue, Boston, MA 02131, United States</td>\n",
       "      <td>Roslindale</td>\n",
       "      <td>42.284512</td>\n",
       "      <td>-71.136258</td>\n",
       "      <td>House</td>\n",
       "      <td>Private room</td>\n",
       "      <td>2</td>\n",
       "    </tr>\n",
       "  </tbody>\n",
       "</table>\n",
       "</div>"
      ],
      "text/plain": [
       "         id                                           name  \\\n",
       "0  12147973                     Sunny Bungalow in the City   \n",
       "1   3075044              Charming room in pet friendly apt   \n",
       "2      6976               Mexican Folk Art Haven in Boston   \n",
       "3   1436513  Spacious Sunny Bedroom Suite in Historic Home   \n",
       "4   7651065                            Come Home to Boston   \n",
       "\n",
       "                                             summary  \\\n",
       "0  Cozy, sunny, family home.  Master bedroom high...   \n",
       "1  Charming and quiet room in a second floor 1910...   \n",
       "2  Come stay with a friendly, middle-aged guy in ...   \n",
       "3  Come experience the comforts of home away from...   \n",
       "4  My comfy, clean and relaxing home is one block...   \n",
       "\n",
       "                                              street neighbourhood_cleansed  \\\n",
       "0      Birch Street, Boston, MA 02131, United States             Roslindale   \n",
       "1  Pinehurst Street, Boston, MA 02131, United States             Roslindale   \n",
       "2        Ardale St., Boston, MA 02131, United States             Roslindale   \n",
       "3                          Boston, MA, United States             Roslindale   \n",
       "4    Durnell Avenue, Boston, MA 02131, United States             Roslindale   \n",
       "\n",
       "    latitude  longitude property_type        room_type  accommodates  \n",
       "0  42.282619 -71.133068         House  Entire home/apt             4  \n",
       "1  42.286241 -71.134374     Apartment     Private room             2  \n",
       "2  42.292438 -71.135765     Apartment     Private room             2  \n",
       "3  42.281106 -71.121021         House     Private room             4  \n",
       "4  42.284512 -71.136258         House     Private room             2  "
      ]
     },
     "execution_count": 9,
     "metadata": {},
     "output_type": "execute_result"
    }
   ],
   "source": [
    "# Since we have a lot of columns, we can display a few columns at once\n",
    "\n",
    "#check first 10 columns of df1\n",
    "\n",
    "df1.iloc[:,0:10].head()\n",
    "\n",
    "# you can change the range to check other columns. Below code show the columns from 11th to 20th position\n",
    "\n",
    "# df1.iloc[:,11:20].head()"
   ]
  },
  {
   "cell_type": "markdown",
   "id": "31cc3b24-6129-4bc0-b059-d29c7f1817b2",
   "metadata": {
    "tags": []
   },
   "source": [
    "# Data Cleaning\n",
    "- Check the data type, make sure they look correct"
   ]
  },
  {
   "cell_type": "code",
   "execution_count": 10,
   "id": "543d23dc",
   "metadata": {
    "scrolled": true,
    "tags": []
   },
   "outputs": [
    {
     "data": {
      "text/plain": [
       "id                               int64\n",
       "name                            object\n",
       "summary                         object\n",
       "street                          object\n",
       "neighbourhood_cleansed          object\n",
       "latitude                       float64\n",
       "longitude                      float64\n",
       "property_type                   object\n",
       "room_type                       object\n",
       "accommodates                     int64\n",
       "bathrooms                      float64\n",
       "bedrooms                       float64\n",
       "beds                           float64\n",
       "bed_type                        object\n",
       "amenities                       object\n",
       "square_feet                    float64\n",
       "price                           object\n",
       "number_of_reviews                int64\n",
       "first_review                    object\n",
       "last_review                     object\n",
       "review_scores_rating           float64\n",
       "review_scores_accuracy         float64\n",
       "review_scores_cleanliness      float64\n",
       "review_scores_checkin          float64\n",
       "review_scores_communication    float64\n",
       "review_scores_location         float64\n",
       "review_scores_value            float64\n",
       "dtype: object"
      ]
     },
     "execution_count": 10,
     "metadata": {},
     "output_type": "execute_result"
    }
   ],
   "source": [
    "df1.dtypes"
   ]
  },
  {
   "cell_type": "code",
   "execution_count": 11,
   "id": "076190b9",
   "metadata": {
    "tags": []
   },
   "outputs": [
    {
     "data": {
      "text/plain": [
       "0    $250.00\n",
       "1     $65.00\n",
       "2     $65.00\n",
       "3     $75.00\n",
       "4     $79.00\n",
       "Name: price, dtype: object"
      ]
     },
     "execution_count": 11,
     "metadata": {},
     "output_type": "execute_result"
    }
   ],
   "source": [
    "# price is object (string type). It should be float.\n",
    "# by looking at the price, we noticed it has dollar sign and thousand seperator. We need to remove them so that we can covert price from object to float\n",
    "\n",
    "df1['price'].head()"
   ]
  },
  {
   "cell_type": "code",
   "execution_count": 12,
   "id": "38f5e072",
   "metadata": {
    "scrolled": true,
    "tags": []
   },
   "outputs": [
    {
     "data": {
      "text/html": [
       "<div>\n",
       "<style scoped>\n",
       "    .dataframe tbody tr th:only-of-type {\n",
       "        vertical-align: middle;\n",
       "    }\n",
       "\n",
       "    .dataframe tbody tr th {\n",
       "        vertical-align: top;\n",
       "    }\n",
       "\n",
       "    .dataframe thead th {\n",
       "        text-align: right;\n",
       "    }\n",
       "</style>\n",
       "<table border=\"1\" class=\"dataframe\">\n",
       "  <thead>\n",
       "    <tr style=\"text-align: right;\">\n",
       "      <th></th>\n",
       "      <th>price</th>\n",
       "      <th>price_cleaned</th>\n",
       "    </tr>\n",
       "  </thead>\n",
       "  <tbody>\n",
       "    <tr>\n",
       "      <th>0</th>\n",
       "      <td>$250.00</td>\n",
       "      <td>250.0</td>\n",
       "    </tr>\n",
       "    <tr>\n",
       "      <th>1</th>\n",
       "      <td>$65.00</td>\n",
       "      <td>65.0</td>\n",
       "    </tr>\n",
       "    <tr>\n",
       "      <th>2</th>\n",
       "      <td>$65.00</td>\n",
       "      <td>65.0</td>\n",
       "    </tr>\n",
       "    <tr>\n",
       "      <th>3</th>\n",
       "      <td>$75.00</td>\n",
       "      <td>75.0</td>\n",
       "    </tr>\n",
       "    <tr>\n",
       "      <th>4</th>\n",
       "      <td>$79.00</td>\n",
       "      <td>79.0</td>\n",
       "    </tr>\n",
       "  </tbody>\n",
       "</table>\n",
       "</div>"
      ],
      "text/plain": [
       "     price  price_cleaned\n",
       "0  $250.00          250.0\n",
       "1   $65.00           65.0\n",
       "2   $65.00           65.0\n",
       "3   $75.00           75.0\n",
       "4   $79.00           79.0"
      ]
     },
     "execution_count": 12,
     "metadata": {},
     "output_type": "execute_result"
    }
   ],
   "source": [
    "# remove $ and thousand seperator ,\n",
    "\n",
    "df1['price_cleaned']=df1['price'].str.replace('$',\"\").str.replace(',',\"\")\n",
    "\n",
    "# convert price from string to float\n",
    "\n",
    "df1['price_cleaned']=df1['price_cleaned'].astype(float)\n",
    "\n",
    "# check cleaned price\n",
    "df1[['price', 'price_cleaned']].head(5)"
   ]
  },
  {
   "cell_type": "code",
   "execution_count": 13,
   "id": "37cab056-87db-4ab8-a27b-298632f5c54b",
   "metadata": {
    "tags": []
   },
   "outputs": [
    {
     "data": {
      "text/html": [
       "<div>\n",
       "<style scoped>\n",
       "    .dataframe tbody tr th:only-of-type {\n",
       "        vertical-align: middle;\n",
       "    }\n",
       "\n",
       "    .dataframe tbody tr th {\n",
       "        vertical-align: top;\n",
       "    }\n",
       "\n",
       "    .dataframe thead th {\n",
       "        text-align: right;\n",
       "    }\n",
       "</style>\n",
       "<table border=\"1\" class=\"dataframe\">\n",
       "  <thead>\n",
       "    <tr style=\"text-align: right;\">\n",
       "      <th></th>\n",
       "      <th>first_review</th>\n",
       "      <th>last_review</th>\n",
       "    </tr>\n",
       "  </thead>\n",
       "  <tbody>\n",
       "    <tr>\n",
       "      <th>0</th>\n",
       "      <td>NaN</td>\n",
       "      <td>NaN</td>\n",
       "    </tr>\n",
       "    <tr>\n",
       "      <th>1</th>\n",
       "      <td>2014-06-01</td>\n",
       "      <td>2016-08-13</td>\n",
       "    </tr>\n",
       "    <tr>\n",
       "      <th>2</th>\n",
       "      <td>2009-07-19</td>\n",
       "      <td>2016-08-05</td>\n",
       "    </tr>\n",
       "    <tr>\n",
       "      <th>3</th>\n",
       "      <td>2016-08-28</td>\n",
       "      <td>2016-08-28</td>\n",
       "    </tr>\n",
       "    <tr>\n",
       "      <th>4</th>\n",
       "      <td>2015-08-18</td>\n",
       "      <td>2016-09-01</td>\n",
       "    </tr>\n",
       "  </tbody>\n",
       "</table>\n",
       "</div>"
      ],
      "text/plain": [
       "  first_review last_review\n",
       "0          NaN         NaN\n",
       "1   2014-06-01  2016-08-13\n",
       "2   2009-07-19  2016-08-05\n",
       "3   2016-08-28  2016-08-28\n",
       "4   2015-08-18  2016-09-01"
      ]
     },
     "execution_count": 13,
     "metadata": {},
     "output_type": "execute_result"
    }
   ],
   "source": [
    "# first_review and last_review should be date and was imported as object\n",
    "\n",
    "df1[['first_review', 'last_review']].head()"
   ]
  },
  {
   "cell_type": "code",
   "execution_count": 15,
   "id": "4e3fc0f3-fcb7-47d2-b8bd-f7d79c628960",
   "metadata": {
    "tags": []
   },
   "outputs": [],
   "source": [
    "# use to_datetime to convert first review and last reviw to date\n",
    "\n",
    "df1['first_review']=pd.to_datetime(df1['first_review'])\n",
    "df1['last_review']=pd.to_datetime(df1['last_review'])"
   ]
  },
  {
   "cell_type": "code",
   "execution_count": 16,
   "id": "eb06886a-aae3-46b6-a77e-e7ffdfc44ff8",
   "metadata": {
    "tags": []
   },
   "outputs": [
    {
     "data": {
      "text/plain": [
       "first_review    datetime64[ns]\n",
       "last_review     datetime64[ns]\n",
       "dtype: object"
      ]
     },
     "execution_count": 16,
     "metadata": {},
     "output_type": "execute_result"
    }
   ],
   "source": [
    "# check the data type again\n",
    "df1[['first_review', 'last_review']].dtypes"
   ]
  },
  {
   "cell_type": "markdown",
   "id": "52689858",
   "metadata": {},
   "source": [
    "# Summary statistics"
   ]
  },
  {
   "cell_type": "code",
   "execution_count": 17,
   "id": "1b76af51-d8a2-4f73-8a31-5ede5435de33",
   "metadata": {
    "tags": []
   },
   "outputs": [
    {
     "data": {
      "text/html": [
       "<div>\n",
       "<style scoped>\n",
       "    .dataframe tbody tr th:only-of-type {\n",
       "        vertical-align: middle;\n",
       "    }\n",
       "\n",
       "    .dataframe tbody tr th {\n",
       "        vertical-align: top;\n",
       "    }\n",
       "\n",
       "    .dataframe thead th {\n",
       "        text-align: right;\n",
       "    }\n",
       "</style>\n",
       "<table border=\"1\" class=\"dataframe\">\n",
       "  <thead>\n",
       "    <tr style=\"text-align: right;\">\n",
       "      <th></th>\n",
       "      <th>id</th>\n",
       "      <th>latitude</th>\n",
       "      <th>longitude</th>\n",
       "      <th>accommodates</th>\n",
       "      <th>bathrooms</th>\n",
       "      <th>bedrooms</th>\n",
       "      <th>beds</th>\n",
       "      <th>square_feet</th>\n",
       "      <th>number_of_reviews</th>\n",
       "      <th>first_review</th>\n",
       "      <th>last_review</th>\n",
       "      <th>review_scores_rating</th>\n",
       "      <th>review_scores_accuracy</th>\n",
       "      <th>review_scores_cleanliness</th>\n",
       "      <th>review_scores_checkin</th>\n",
       "      <th>review_scores_communication</th>\n",
       "      <th>review_scores_location</th>\n",
       "      <th>review_scores_value</th>\n",
       "      <th>price_cleaned</th>\n",
       "    </tr>\n",
       "  </thead>\n",
       "  <tbody>\n",
       "    <tr>\n",
       "      <th>count</th>\n",
       "      <td>3.585000e+03</td>\n",
       "      <td>3585.000000</td>\n",
       "      <td>3585.000000</td>\n",
       "      <td>3585.000000</td>\n",
       "      <td>3571.000000</td>\n",
       "      <td>3575.000000</td>\n",
       "      <td>3576.000000</td>\n",
       "      <td>56.000000</td>\n",
       "      <td>3585.000000</td>\n",
       "      <td>2829</td>\n",
       "      <td>2829</td>\n",
       "      <td>2772.000000</td>\n",
       "      <td>2762.000000</td>\n",
       "      <td>2767.000000</td>\n",
       "      <td>2765.000000</td>\n",
       "      <td>2767.000000</td>\n",
       "      <td>2763.000000</td>\n",
       "      <td>2764.000000</td>\n",
       "      <td>3585.000000</td>\n",
       "    </tr>\n",
       "    <tr>\n",
       "      <th>mean</th>\n",
       "      <td>8.440875e+06</td>\n",
       "      <td>42.340032</td>\n",
       "      <td>-71.084818</td>\n",
       "      <td>3.041283</td>\n",
       "      <td>1.221647</td>\n",
       "      <td>1.255944</td>\n",
       "      <td>1.609060</td>\n",
       "      <td>858.464286</td>\n",
       "      <td>19.044630</td>\n",
       "      <td>2015-06-24 12:35:53.128313856</td>\n",
       "      <td>2016-06-11 11:36:19.851537664</td>\n",
       "      <td>91.916667</td>\n",
       "      <td>9.431571</td>\n",
       "      <td>9.258041</td>\n",
       "      <td>9.646293</td>\n",
       "      <td>9.646549</td>\n",
       "      <td>9.414043</td>\n",
       "      <td>9.168234</td>\n",
       "      <td>173.925802</td>\n",
       "    </tr>\n",
       "    <tr>\n",
       "      <th>min</th>\n",
       "      <td>3.353000e+03</td>\n",
       "      <td>42.235942</td>\n",
       "      <td>-71.171789</td>\n",
       "      <td>1.000000</td>\n",
       "      <td>0.000000</td>\n",
       "      <td>0.000000</td>\n",
       "      <td>0.000000</td>\n",
       "      <td>0.000000</td>\n",
       "      <td>0.000000</td>\n",
       "      <td>2009-03-21 00:00:00</td>\n",
       "      <td>2010-10-16 00:00:00</td>\n",
       "      <td>20.000000</td>\n",
       "      <td>2.000000</td>\n",
       "      <td>2.000000</td>\n",
       "      <td>2.000000</td>\n",
       "      <td>4.000000</td>\n",
       "      <td>2.000000</td>\n",
       "      <td>2.000000</td>\n",
       "      <td>10.000000</td>\n",
       "    </tr>\n",
       "    <tr>\n",
       "      <th>25%</th>\n",
       "      <td>4.679319e+06</td>\n",
       "      <td>42.329995</td>\n",
       "      <td>-71.105083</td>\n",
       "      <td>2.000000</td>\n",
       "      <td>1.000000</td>\n",
       "      <td>1.000000</td>\n",
       "      <td>1.000000</td>\n",
       "      <td>415.000000</td>\n",
       "      <td>1.000000</td>\n",
       "      <td>2014-12-30 00:00:00</td>\n",
       "      <td>2016-06-18 00:00:00</td>\n",
       "      <td>89.000000</td>\n",
       "      <td>9.000000</td>\n",
       "      <td>9.000000</td>\n",
       "      <td>9.000000</td>\n",
       "      <td>9.000000</td>\n",
       "      <td>9.000000</td>\n",
       "      <td>9.000000</td>\n",
       "      <td>85.000000</td>\n",
       "    </tr>\n",
       "    <tr>\n",
       "      <th>50%</th>\n",
       "      <td>8.577620e+06</td>\n",
       "      <td>42.345201</td>\n",
       "      <td>-71.078429</td>\n",
       "      <td>2.000000</td>\n",
       "      <td>1.000000</td>\n",
       "      <td>1.000000</td>\n",
       "      <td>1.000000</td>\n",
       "      <td>825.000000</td>\n",
       "      <td>5.000000</td>\n",
       "      <td>2015-10-08 00:00:00</td>\n",
       "      <td>2016-08-13 00:00:00</td>\n",
       "      <td>94.000000</td>\n",
       "      <td>10.000000</td>\n",
       "      <td>10.000000</td>\n",
       "      <td>10.000000</td>\n",
       "      <td>10.000000</td>\n",
       "      <td>10.000000</td>\n",
       "      <td>9.000000</td>\n",
       "      <td>150.000000</td>\n",
       "    </tr>\n",
       "    <tr>\n",
       "      <th>75%</th>\n",
       "      <td>1.278953e+07</td>\n",
       "      <td>42.354685</td>\n",
       "      <td>-71.062155</td>\n",
       "      <td>4.000000</td>\n",
       "      <td>1.000000</td>\n",
       "      <td>2.000000</td>\n",
       "      <td>2.000000</td>\n",
       "      <td>1200.000000</td>\n",
       "      <td>21.000000</td>\n",
       "      <td>2016-05-19 00:00:00</td>\n",
       "      <td>2016-08-28 00:00:00</td>\n",
       "      <td>98.250000</td>\n",
       "      <td>10.000000</td>\n",
       "      <td>10.000000</td>\n",
       "      <td>10.000000</td>\n",
       "      <td>10.000000</td>\n",
       "      <td>10.000000</td>\n",
       "      <td>10.000000</td>\n",
       "      <td>220.000000</td>\n",
       "    </tr>\n",
       "    <tr>\n",
       "      <th>max</th>\n",
       "      <td>1.493346e+07</td>\n",
       "      <td>42.389982</td>\n",
       "      <td>-71.000100</td>\n",
       "      <td>16.000000</td>\n",
       "      <td>6.000000</td>\n",
       "      <td>5.000000</td>\n",
       "      <td>16.000000</td>\n",
       "      <td>2400.000000</td>\n",
       "      <td>404.000000</td>\n",
       "      <td>2016-09-06 00:00:00</td>\n",
       "      <td>2016-09-06 00:00:00</td>\n",
       "      <td>100.000000</td>\n",
       "      <td>10.000000</td>\n",
       "      <td>10.000000</td>\n",
       "      <td>10.000000</td>\n",
       "      <td>10.000000</td>\n",
       "      <td>10.000000</td>\n",
       "      <td>10.000000</td>\n",
       "      <td>4000.000000</td>\n",
       "    </tr>\n",
       "    <tr>\n",
       "      <th>std</th>\n",
       "      <td>4.500787e+06</td>\n",
       "      <td>0.024403</td>\n",
       "      <td>0.031565</td>\n",
       "      <td>1.778929</td>\n",
       "      <td>0.501487</td>\n",
       "      <td>0.753060</td>\n",
       "      <td>1.011745</td>\n",
       "      <td>608.874310</td>\n",
       "      <td>35.571658</td>\n",
       "      <td>NaN</td>\n",
       "      <td>NaN</td>\n",
       "      <td>9.531686</td>\n",
       "      <td>0.931863</td>\n",
       "      <td>1.168977</td>\n",
       "      <td>0.762753</td>\n",
       "      <td>0.735507</td>\n",
       "      <td>0.903436</td>\n",
       "      <td>1.011116</td>\n",
       "      <td>148.331321</td>\n",
       "    </tr>\n",
       "  </tbody>\n",
       "</table>\n",
       "</div>"
      ],
      "text/plain": [
       "                 id     latitude    longitude  accommodates    bathrooms  \\\n",
       "count  3.585000e+03  3585.000000  3585.000000   3585.000000  3571.000000   \n",
       "mean   8.440875e+06    42.340032   -71.084818      3.041283     1.221647   \n",
       "min    3.353000e+03    42.235942   -71.171789      1.000000     0.000000   \n",
       "25%    4.679319e+06    42.329995   -71.105083      2.000000     1.000000   \n",
       "50%    8.577620e+06    42.345201   -71.078429      2.000000     1.000000   \n",
       "75%    1.278953e+07    42.354685   -71.062155      4.000000     1.000000   \n",
       "max    1.493346e+07    42.389982   -71.000100     16.000000     6.000000   \n",
       "std    4.500787e+06     0.024403     0.031565      1.778929     0.501487   \n",
       "\n",
       "          bedrooms         beds  square_feet  number_of_reviews  \\\n",
       "count  3575.000000  3576.000000    56.000000        3585.000000   \n",
       "mean      1.255944     1.609060   858.464286          19.044630   \n",
       "min       0.000000     0.000000     0.000000           0.000000   \n",
       "25%       1.000000     1.000000   415.000000           1.000000   \n",
       "50%       1.000000     1.000000   825.000000           5.000000   \n",
       "75%       2.000000     2.000000  1200.000000          21.000000   \n",
       "max       5.000000    16.000000  2400.000000         404.000000   \n",
       "std       0.753060     1.011745   608.874310          35.571658   \n",
       "\n",
       "                        first_review                    last_review  \\\n",
       "count                           2829                           2829   \n",
       "mean   2015-06-24 12:35:53.128313856  2016-06-11 11:36:19.851537664   \n",
       "min              2009-03-21 00:00:00            2010-10-16 00:00:00   \n",
       "25%              2014-12-30 00:00:00            2016-06-18 00:00:00   \n",
       "50%              2015-10-08 00:00:00            2016-08-13 00:00:00   \n",
       "75%              2016-05-19 00:00:00            2016-08-28 00:00:00   \n",
       "max              2016-09-06 00:00:00            2016-09-06 00:00:00   \n",
       "std                              NaN                            NaN   \n",
       "\n",
       "       review_scores_rating  review_scores_accuracy  \\\n",
       "count           2772.000000             2762.000000   \n",
       "mean              91.916667                9.431571   \n",
       "min               20.000000                2.000000   \n",
       "25%               89.000000                9.000000   \n",
       "50%               94.000000               10.000000   \n",
       "75%               98.250000               10.000000   \n",
       "max              100.000000               10.000000   \n",
       "std                9.531686                0.931863   \n",
       "\n",
       "       review_scores_cleanliness  review_scores_checkin  \\\n",
       "count                2767.000000            2765.000000   \n",
       "mean                    9.258041               9.646293   \n",
       "min                     2.000000               2.000000   \n",
       "25%                     9.000000               9.000000   \n",
       "50%                    10.000000              10.000000   \n",
       "75%                    10.000000              10.000000   \n",
       "max                    10.000000              10.000000   \n",
       "std                     1.168977               0.762753   \n",
       "\n",
       "       review_scores_communication  review_scores_location  \\\n",
       "count                  2767.000000             2763.000000   \n",
       "mean                      9.646549                9.414043   \n",
       "min                       4.000000                2.000000   \n",
       "25%                       9.000000                9.000000   \n",
       "50%                      10.000000               10.000000   \n",
       "75%                      10.000000               10.000000   \n",
       "max                      10.000000               10.000000   \n",
       "std                       0.735507                0.903436   \n",
       "\n",
       "       review_scores_value  price_cleaned  \n",
       "count          2764.000000    3585.000000  \n",
       "mean              9.168234     173.925802  \n",
       "min               2.000000      10.000000  \n",
       "25%               9.000000      85.000000  \n",
       "50%               9.000000     150.000000  \n",
       "75%              10.000000     220.000000  \n",
       "max              10.000000    4000.000000  \n",
       "std               1.011116     148.331321  "
      ]
     },
     "execution_count": 17,
     "metadata": {},
     "output_type": "execute_result"
    }
   ],
   "source": [
    "# summarize numerial columns\n",
    "\n",
    "df1.describe()"
   ]
  },
  {
   "cell_type": "code",
   "execution_count": 18,
   "id": "c77ca69e",
   "metadata": {
    "scrolled": true,
    "tags": []
   },
   "outputs": [
    {
     "data": {
      "text/html": [
       "<div>\n",
       "<style scoped>\n",
       "    .dataframe tbody tr th:only-of-type {\n",
       "        vertical-align: middle;\n",
       "    }\n",
       "\n",
       "    .dataframe tbody tr th {\n",
       "        vertical-align: top;\n",
       "    }\n",
       "\n",
       "    .dataframe thead th {\n",
       "        text-align: right;\n",
       "    }\n",
       "</style>\n",
       "<table border=\"1\" class=\"dataframe\">\n",
       "  <thead>\n",
       "    <tr style=\"text-align: right;\">\n",
       "      <th></th>\n",
       "      <th>count</th>\n",
       "      <th>mean</th>\n",
       "      <th>min</th>\n",
       "      <th>25%</th>\n",
       "      <th>50%</th>\n",
       "      <th>75%</th>\n",
       "      <th>max</th>\n",
       "      <th>std</th>\n",
       "    </tr>\n",
       "  </thead>\n",
       "  <tbody>\n",
       "    <tr>\n",
       "      <th>id</th>\n",
       "      <td>3585.0</td>\n",
       "      <td>8440874.627615</td>\n",
       "      <td>3353.0</td>\n",
       "      <td>4679319.0</td>\n",
       "      <td>8577620.0</td>\n",
       "      <td>12789527.0</td>\n",
       "      <td>14933461.0</td>\n",
       "      <td>4500786.860725</td>\n",
       "    </tr>\n",
       "    <tr>\n",
       "      <th>latitude</th>\n",
       "      <td>3585.0</td>\n",
       "      <td>42.340032</td>\n",
       "      <td>42.235942</td>\n",
       "      <td>42.329995</td>\n",
       "      <td>42.345201</td>\n",
       "      <td>42.354685</td>\n",
       "      <td>42.389982</td>\n",
       "      <td>0.024403</td>\n",
       "    </tr>\n",
       "    <tr>\n",
       "      <th>longitude</th>\n",
       "      <td>3585.0</td>\n",
       "      <td>-71.084818</td>\n",
       "      <td>-71.171789</td>\n",
       "      <td>-71.105083</td>\n",
       "      <td>-71.078429</td>\n",
       "      <td>-71.062155</td>\n",
       "      <td>-71.0001</td>\n",
       "      <td>0.031565</td>\n",
       "    </tr>\n",
       "    <tr>\n",
       "      <th>accommodates</th>\n",
       "      <td>3585.0</td>\n",
       "      <td>3.041283</td>\n",
       "      <td>1.0</td>\n",
       "      <td>2.0</td>\n",
       "      <td>2.0</td>\n",
       "      <td>4.0</td>\n",
       "      <td>16.0</td>\n",
       "      <td>1.778929</td>\n",
       "    </tr>\n",
       "    <tr>\n",
       "      <th>bathrooms</th>\n",
       "      <td>3571.0</td>\n",
       "      <td>1.221647</td>\n",
       "      <td>0.0</td>\n",
       "      <td>1.0</td>\n",
       "      <td>1.0</td>\n",
       "      <td>1.0</td>\n",
       "      <td>6.0</td>\n",
       "      <td>0.501487</td>\n",
       "    </tr>\n",
       "    <tr>\n",
       "      <th>bedrooms</th>\n",
       "      <td>3575.0</td>\n",
       "      <td>1.255944</td>\n",
       "      <td>0.0</td>\n",
       "      <td>1.0</td>\n",
       "      <td>1.0</td>\n",
       "      <td>2.0</td>\n",
       "      <td>5.0</td>\n",
       "      <td>0.75306</td>\n",
       "    </tr>\n",
       "    <tr>\n",
       "      <th>beds</th>\n",
       "      <td>3576.0</td>\n",
       "      <td>1.60906</td>\n",
       "      <td>0.0</td>\n",
       "      <td>1.0</td>\n",
       "      <td>1.0</td>\n",
       "      <td>2.0</td>\n",
       "      <td>16.0</td>\n",
       "      <td>1.011745</td>\n",
       "    </tr>\n",
       "    <tr>\n",
       "      <th>square_feet</th>\n",
       "      <td>56.0</td>\n",
       "      <td>858.464286</td>\n",
       "      <td>0.0</td>\n",
       "      <td>415.0</td>\n",
       "      <td>825.0</td>\n",
       "      <td>1200.0</td>\n",
       "      <td>2400.0</td>\n",
       "      <td>608.87431</td>\n",
       "    </tr>\n",
       "    <tr>\n",
       "      <th>number_of_reviews</th>\n",
       "      <td>3585.0</td>\n",
       "      <td>19.04463</td>\n",
       "      <td>0.0</td>\n",
       "      <td>1.0</td>\n",
       "      <td>5.0</td>\n",
       "      <td>21.0</td>\n",
       "      <td>404.0</td>\n",
       "      <td>35.571658</td>\n",
       "    </tr>\n",
       "    <tr>\n",
       "      <th>first_review</th>\n",
       "      <td>2829</td>\n",
       "      <td>2015-06-24 12:35:53.128313856</td>\n",
       "      <td>2009-03-21 00:00:00</td>\n",
       "      <td>2014-12-30 00:00:00</td>\n",
       "      <td>2015-10-08 00:00:00</td>\n",
       "      <td>2016-05-19 00:00:00</td>\n",
       "      <td>2016-09-06 00:00:00</td>\n",
       "      <td>NaN</td>\n",
       "    </tr>\n",
       "    <tr>\n",
       "      <th>last_review</th>\n",
       "      <td>2829</td>\n",
       "      <td>2016-06-11 11:36:19.851537664</td>\n",
       "      <td>2010-10-16 00:00:00</td>\n",
       "      <td>2016-06-18 00:00:00</td>\n",
       "      <td>2016-08-13 00:00:00</td>\n",
       "      <td>2016-08-28 00:00:00</td>\n",
       "      <td>2016-09-06 00:00:00</td>\n",
       "      <td>NaN</td>\n",
       "    </tr>\n",
       "    <tr>\n",
       "      <th>review_scores_rating</th>\n",
       "      <td>2772.0</td>\n",
       "      <td>91.916667</td>\n",
       "      <td>20.0</td>\n",
       "      <td>89.0</td>\n",
       "      <td>94.0</td>\n",
       "      <td>98.25</td>\n",
       "      <td>100.0</td>\n",
       "      <td>9.531686</td>\n",
       "    </tr>\n",
       "    <tr>\n",
       "      <th>review_scores_accuracy</th>\n",
       "      <td>2762.0</td>\n",
       "      <td>9.431571</td>\n",
       "      <td>2.0</td>\n",
       "      <td>9.0</td>\n",
       "      <td>10.0</td>\n",
       "      <td>10.0</td>\n",
       "      <td>10.0</td>\n",
       "      <td>0.931863</td>\n",
       "    </tr>\n",
       "    <tr>\n",
       "      <th>review_scores_cleanliness</th>\n",
       "      <td>2767.0</td>\n",
       "      <td>9.258041</td>\n",
       "      <td>2.0</td>\n",
       "      <td>9.0</td>\n",
       "      <td>10.0</td>\n",
       "      <td>10.0</td>\n",
       "      <td>10.0</td>\n",
       "      <td>1.168977</td>\n",
       "    </tr>\n",
       "    <tr>\n",
       "      <th>review_scores_checkin</th>\n",
       "      <td>2765.0</td>\n",
       "      <td>9.646293</td>\n",
       "      <td>2.0</td>\n",
       "      <td>9.0</td>\n",
       "      <td>10.0</td>\n",
       "      <td>10.0</td>\n",
       "      <td>10.0</td>\n",
       "      <td>0.762753</td>\n",
       "    </tr>\n",
       "    <tr>\n",
       "      <th>review_scores_communication</th>\n",
       "      <td>2767.0</td>\n",
       "      <td>9.646549</td>\n",
       "      <td>4.0</td>\n",
       "      <td>9.0</td>\n",
       "      <td>10.0</td>\n",
       "      <td>10.0</td>\n",
       "      <td>10.0</td>\n",
       "      <td>0.735507</td>\n",
       "    </tr>\n",
       "    <tr>\n",
       "      <th>review_scores_location</th>\n",
       "      <td>2763.0</td>\n",
       "      <td>9.414043</td>\n",
       "      <td>2.0</td>\n",
       "      <td>9.0</td>\n",
       "      <td>10.0</td>\n",
       "      <td>10.0</td>\n",
       "      <td>10.0</td>\n",
       "      <td>0.903436</td>\n",
       "    </tr>\n",
       "    <tr>\n",
       "      <th>review_scores_value</th>\n",
       "      <td>2764.0</td>\n",
       "      <td>9.168234</td>\n",
       "      <td>2.0</td>\n",
       "      <td>9.0</td>\n",
       "      <td>9.0</td>\n",
       "      <td>10.0</td>\n",
       "      <td>10.0</td>\n",
       "      <td>1.011116</td>\n",
       "    </tr>\n",
       "    <tr>\n",
       "      <th>price_cleaned</th>\n",
       "      <td>3585.0</td>\n",
       "      <td>173.925802</td>\n",
       "      <td>10.0</td>\n",
       "      <td>85.0</td>\n",
       "      <td>150.0</td>\n",
       "      <td>220.0</td>\n",
       "      <td>4000.0</td>\n",
       "      <td>148.331321</td>\n",
       "    </tr>\n",
       "  </tbody>\n",
       "</table>\n",
       "</div>"
      ],
      "text/plain": [
       "                              count                           mean  \\\n",
       "id                           3585.0                 8440874.627615   \n",
       "latitude                     3585.0                      42.340032   \n",
       "longitude                    3585.0                     -71.084818   \n",
       "accommodates                 3585.0                       3.041283   \n",
       "bathrooms                    3571.0                       1.221647   \n",
       "bedrooms                     3575.0                       1.255944   \n",
       "beds                         3576.0                        1.60906   \n",
       "square_feet                    56.0                     858.464286   \n",
       "number_of_reviews            3585.0                       19.04463   \n",
       "first_review                   2829  2015-06-24 12:35:53.128313856   \n",
       "last_review                    2829  2016-06-11 11:36:19.851537664   \n",
       "review_scores_rating         2772.0                      91.916667   \n",
       "review_scores_accuracy       2762.0                       9.431571   \n",
       "review_scores_cleanliness    2767.0                       9.258041   \n",
       "review_scores_checkin        2765.0                       9.646293   \n",
       "review_scores_communication  2767.0                       9.646549   \n",
       "review_scores_location       2763.0                       9.414043   \n",
       "review_scores_value          2764.0                       9.168234   \n",
       "price_cleaned                3585.0                     173.925802   \n",
       "\n",
       "                                             min                  25%  \\\n",
       "id                                        3353.0            4679319.0   \n",
       "latitude                               42.235942            42.329995   \n",
       "longitude                             -71.171789           -71.105083   \n",
       "accommodates                                 1.0                  2.0   \n",
       "bathrooms                                    0.0                  1.0   \n",
       "bedrooms                                     0.0                  1.0   \n",
       "beds                                         0.0                  1.0   \n",
       "square_feet                                  0.0                415.0   \n",
       "number_of_reviews                            0.0                  1.0   \n",
       "first_review                 2009-03-21 00:00:00  2014-12-30 00:00:00   \n",
       "last_review                  2010-10-16 00:00:00  2016-06-18 00:00:00   \n",
       "review_scores_rating                        20.0                 89.0   \n",
       "review_scores_accuracy                       2.0                  9.0   \n",
       "review_scores_cleanliness                    2.0                  9.0   \n",
       "review_scores_checkin                        2.0                  9.0   \n",
       "review_scores_communication                  4.0                  9.0   \n",
       "review_scores_location                       2.0                  9.0   \n",
       "review_scores_value                          2.0                  9.0   \n",
       "price_cleaned                               10.0                 85.0   \n",
       "\n",
       "                                             50%                  75%  \\\n",
       "id                                     8577620.0           12789527.0   \n",
       "latitude                               42.345201            42.354685   \n",
       "longitude                             -71.078429           -71.062155   \n",
       "accommodates                                 2.0                  4.0   \n",
       "bathrooms                                    1.0                  1.0   \n",
       "bedrooms                                     1.0                  2.0   \n",
       "beds                                         1.0                  2.0   \n",
       "square_feet                                825.0               1200.0   \n",
       "number_of_reviews                            5.0                 21.0   \n",
       "first_review                 2015-10-08 00:00:00  2016-05-19 00:00:00   \n",
       "last_review                  2016-08-13 00:00:00  2016-08-28 00:00:00   \n",
       "review_scores_rating                        94.0                98.25   \n",
       "review_scores_accuracy                      10.0                 10.0   \n",
       "review_scores_cleanliness                   10.0                 10.0   \n",
       "review_scores_checkin                       10.0                 10.0   \n",
       "review_scores_communication                 10.0                 10.0   \n",
       "review_scores_location                      10.0                 10.0   \n",
       "review_scores_value                          9.0                 10.0   \n",
       "price_cleaned                              150.0                220.0   \n",
       "\n",
       "                                             max             std  \n",
       "id                                    14933461.0  4500786.860725  \n",
       "latitude                               42.389982        0.024403  \n",
       "longitude                               -71.0001        0.031565  \n",
       "accommodates                                16.0        1.778929  \n",
       "bathrooms                                    6.0        0.501487  \n",
       "bedrooms                                     5.0         0.75306  \n",
       "beds                                        16.0        1.011745  \n",
       "square_feet                               2400.0       608.87431  \n",
       "number_of_reviews                          404.0       35.571658  \n",
       "first_review                 2016-09-06 00:00:00             NaN  \n",
       "last_review                  2016-09-06 00:00:00             NaN  \n",
       "review_scores_rating                       100.0        9.531686  \n",
       "review_scores_accuracy                      10.0        0.931863  \n",
       "review_scores_cleanliness                   10.0        1.168977  \n",
       "review_scores_checkin                       10.0        0.762753  \n",
       "review_scores_communication                 10.0        0.735507  \n",
       "review_scores_location                      10.0        0.903436  \n",
       "review_scores_value                         10.0        1.011116  \n",
       "price_cleaned                             4000.0      148.331321  "
      ]
     },
     "execution_count": 18,
     "metadata": {},
     "output_type": "execute_result"
    }
   ],
   "source": [
    "# use transpose if you have many columns\n",
    "\n",
    "df1.describe().transpose()"
   ]
  },
  {
   "cell_type": "code",
   "execution_count": 19,
   "id": "bcdaa05f",
   "metadata": {
    "tags": []
   },
   "outputs": [
    {
     "data": {
      "text/html": [
       "<div>\n",
       "<style scoped>\n",
       "    .dataframe tbody tr th:only-of-type {\n",
       "        vertical-align: middle;\n",
       "    }\n",
       "\n",
       "    .dataframe tbody tr th {\n",
       "        vertical-align: top;\n",
       "    }\n",
       "\n",
       "    .dataframe thead th {\n",
       "        text-align: right;\n",
       "    }\n",
       "</style>\n",
       "<table border=\"1\" class=\"dataframe\">\n",
       "  <thead>\n",
       "    <tr style=\"text-align: right;\">\n",
       "      <th></th>\n",
       "      <th>count</th>\n",
       "      <th>unique</th>\n",
       "      <th>top</th>\n",
       "      <th>freq</th>\n",
       "    </tr>\n",
       "  </thead>\n",
       "  <tbody>\n",
       "    <tr>\n",
       "      <th>name</th>\n",
       "      <td>3585</td>\n",
       "      <td>3504</td>\n",
       "      <td>Lux 2BR by Fenway w/WiFi</td>\n",
       "      <td>8</td>\n",
       "    </tr>\n",
       "    <tr>\n",
       "      <th>summary</th>\n",
       "      <td>3442</td>\n",
       "      <td>3113</td>\n",
       "      <td>The unit is stylishly designed for comfort, va...</td>\n",
       "      <td>21</td>\n",
       "    </tr>\n",
       "    <tr>\n",
       "      <th>street</th>\n",
       "      <td>3585</td>\n",
       "      <td>1239</td>\n",
       "      <td>Boylston Street, Boston, MA 02215, United States</td>\n",
       "      <td>64</td>\n",
       "    </tr>\n",
       "    <tr>\n",
       "      <th>neighbourhood_cleansed</th>\n",
       "      <td>3585</td>\n",
       "      <td>25</td>\n",
       "      <td>Jamaica Plain</td>\n",
       "      <td>343</td>\n",
       "    </tr>\n",
       "    <tr>\n",
       "      <th>property_type</th>\n",
       "      <td>3582</td>\n",
       "      <td>13</td>\n",
       "      <td>Apartment</td>\n",
       "      <td>2612</td>\n",
       "    </tr>\n",
       "    <tr>\n",
       "      <th>room_type</th>\n",
       "      <td>3585</td>\n",
       "      <td>3</td>\n",
       "      <td>Entire home/apt</td>\n",
       "      <td>2127</td>\n",
       "    </tr>\n",
       "    <tr>\n",
       "      <th>bed_type</th>\n",
       "      <td>3585</td>\n",
       "      <td>5</td>\n",
       "      <td>Real Bed</td>\n",
       "      <td>3453</td>\n",
       "    </tr>\n",
       "    <tr>\n",
       "      <th>amenities</th>\n",
       "      <td>3585</td>\n",
       "      <td>3092</td>\n",
       "      <td>{}</td>\n",
       "      <td>32</td>\n",
       "    </tr>\n",
       "    <tr>\n",
       "      <th>price</th>\n",
       "      <td>3585</td>\n",
       "      <td>324</td>\n",
       "      <td>$150.00</td>\n",
       "      <td>144</td>\n",
       "    </tr>\n",
       "  </tbody>\n",
       "</table>\n",
       "</div>"
      ],
      "text/plain": [
       "                       count unique  \\\n",
       "name                    3585   3504   \n",
       "summary                 3442   3113   \n",
       "street                  3585   1239   \n",
       "neighbourhood_cleansed  3585     25   \n",
       "property_type           3582     13   \n",
       "room_type               3585      3   \n",
       "bed_type                3585      5   \n",
       "amenities               3585   3092   \n",
       "price                   3585    324   \n",
       "\n",
       "                                                                      top  \\\n",
       "name                                             Lux 2BR by Fenway w/WiFi   \n",
       "summary                 The unit is stylishly designed for comfort, va...   \n",
       "street                   Boylston Street, Boston, MA 02215, United States   \n",
       "neighbourhood_cleansed                                      Jamaica Plain   \n",
       "property_type                                                   Apartment   \n",
       "room_type                                                 Entire home/apt   \n",
       "bed_type                                                         Real Bed   \n",
       "amenities                                                              {}   \n",
       "price                                                             $150.00   \n",
       "\n",
       "                        freq  \n",
       "name                       8  \n",
       "summary                   21  \n",
       "street                    64  \n",
       "neighbourhood_cleansed   343  \n",
       "property_type           2612  \n",
       "room_type               2127  \n",
       "bed_type                3453  \n",
       "amenities                 32  \n",
       "price                    144  "
      ]
     },
     "execution_count": 19,
     "metadata": {},
     "output_type": "execute_result"
    }
   ],
   "source": [
    "# summarize categorical columns\n",
    "\n",
    "df1.describe(include='object').transpose()"
   ]
  },
  {
   "cell_type": "code",
   "execution_count": 20,
   "id": "37b8fb04",
   "metadata": {
    "scrolled": true,
    "tags": []
   },
   "outputs": [
    {
     "data": {
      "text/plain": [
       "id                                0\n",
       "name                              0\n",
       "summary                         143\n",
       "street                            0\n",
       "neighbourhood_cleansed            0\n",
       "latitude                          0\n",
       "longitude                         0\n",
       "property_type                     3\n",
       "room_type                         0\n",
       "accommodates                      0\n",
       "bathrooms                        14\n",
       "bedrooms                         10\n",
       "beds                              9\n",
       "bed_type                          0\n",
       "amenities                         0\n",
       "square_feet                    3529\n",
       "price                             0\n",
       "number_of_reviews                 0\n",
       "first_review                    756\n",
       "last_review                     756\n",
       "review_scores_rating            813\n",
       "review_scores_accuracy          823\n",
       "review_scores_cleanliness       818\n",
       "review_scores_checkin           820\n",
       "review_scores_communication     818\n",
       "review_scores_location          822\n",
       "review_scores_value             821\n",
       "price_cleaned                     0\n",
       "dtype: int64"
      ]
     },
     "execution_count": 20,
     "metadata": {},
     "output_type": "execute_result"
    }
   ],
   "source": [
    "# check missing values in each column\n",
    "df1.isnull().sum()"
   ]
  },
  {
   "cell_type": "code",
   "execution_count": 21,
   "id": "bfda1cd7-5303-401e-8b65-7665e534dfb4",
   "metadata": {
    "tags": []
   },
   "outputs": [],
   "source": [
    "# square_feet has 3529/3585 (98%) missing value, drop it from further analysis\n",
    "\n",
    "df2=df1.drop(columns=['square_feet'])"
   ]
  },
  {
   "cell_type": "code",
   "execution_count": 22,
   "id": "43dee600-880c-4723-823a-37be5848cf21",
   "metadata": {
    "tags": []
   },
   "outputs": [
    {
     "data": {
      "text/plain": [
       "id                               0\n",
       "name                             0\n",
       "summary                          0\n",
       "street                           0\n",
       "neighbourhood_cleansed           0\n",
       "latitude                         0\n",
       "longitude                        0\n",
       "property_type                    0\n",
       "room_type                        0\n",
       "accommodates                     0\n",
       "bathrooms                       14\n",
       "bedrooms                        10\n",
       "beds                             9\n",
       "bed_type                         0\n",
       "amenities                        0\n",
       "price                            0\n",
       "number_of_reviews                0\n",
       "first_review                   756\n",
       "last_review                    756\n",
       "review_scores_rating           813\n",
       "review_scores_accuracy         823\n",
       "review_scores_cleanliness      818\n",
       "review_scores_checkin          820\n",
       "review_scores_communication    818\n",
       "review_scores_location         822\n",
       "review_scores_value            821\n",
       "price_cleaned                    0\n",
       "dtype: int64"
      ]
     },
     "execution_count": 22,
     "metadata": {},
     "output_type": "execute_result"
    }
   ],
   "source": [
    "# deal with missing values.\n",
    "# for summary and property_type column, replace with NA\n",
    "\n",
    "df2['summary']=df2['summary'].fillna('NA')\n",
    "df2['property_type']=df2['property_type'].fillna('NA')\n",
    "df2.isnull().sum()"
   ]
  },
  {
   "cell_type": "code",
   "execution_count": 23,
   "id": "23fbc766-1a7b-4393-8278-d4f55ce5bc95",
   "metadata": {
    "tags": []
   },
   "outputs": [
    {
     "data": {
      "text/plain": [
       "Index(['id', 'name', 'summary', 'street', 'neighbourhood_cleansed', 'latitude',\n",
       "       'longitude', 'property_type', 'room_type', 'accommodates', 'bathrooms',\n",
       "       'bedrooms', 'beds', 'bed_type', 'amenities', 'price',\n",
       "       'number_of_reviews', 'first_review', 'last_review',\n",
       "       'review_scores_rating', 'review_scores_accuracy',\n",
       "       'review_scores_cleanliness', 'review_scores_checkin',\n",
       "       'review_scores_communication', 'review_scores_location',\n",
       "       'review_scores_value', 'price_cleaned'],\n",
       "      dtype='object')"
      ]
     },
     "execution_count": 23,
     "metadata": {},
     "output_type": "execute_result"
    }
   ],
   "source": [
    "df2.columns"
   ]
  },
  {
   "cell_type": "code",
   "execution_count": 24,
   "id": "7e0982cc-53f6-4881-85c9-cbc482dd7890",
   "metadata": {
    "tags": []
   },
   "outputs": [
    {
     "data": {
      "text/plain": [
       "id                               0\n",
       "name                             0\n",
       "summary                          0\n",
       "street                           0\n",
       "neighbourhood_cleansed           0\n",
       "latitude                         0\n",
       "longitude                        0\n",
       "property_type                    0\n",
       "room_type                        0\n",
       "accommodates                     0\n",
       "bathrooms                        0\n",
       "bedrooms                         0\n",
       "beds                             0\n",
       "bed_type                         0\n",
       "amenities                        0\n",
       "price                            0\n",
       "number_of_reviews                0\n",
       "first_review                   756\n",
       "last_review                    756\n",
       "review_scores_rating             0\n",
       "review_scores_accuracy           0\n",
       "review_scores_cleanliness        0\n",
       "review_scores_checkin            0\n",
       "review_scores_communication      0\n",
       "review_scores_location           0\n",
       "review_scores_value              0\n",
       "price_cleaned                    0\n",
       "dtype: int64"
      ]
     },
     "execution_count": 24,
     "metadata": {},
     "output_type": "execute_result"
    }
   ],
   "source": [
    "# deal with missing values.\n",
    "# for numerical column, replace with mean\n",
    "\n",
    "#Step 1: select all numerical columns with missing values\n",
    "\n",
    "selectedColumns=['bathrooms', 'bedrooms','beds', 'review_scores_rating', 'review_scores_accuracy',\n",
    "       'review_scores_cleanliness', 'review_scores_checkin',\n",
    "       'review_scores_communication', 'review_scores_location',\n",
    "       'review_scores_value']\n",
    "\n",
    "# step 2: replace missing value with mean\n",
    "\n",
    "df2[selectedColumns]=df2[selectedColumns].apply(lambda x: x.fillna(x.mean()))\n",
    "\n",
    "df2.isnull().sum()"
   ]
  },
  {
   "cell_type": "markdown",
   "id": "abb4fd4f-3e0c-45d8-a641-ee87fd5177c7",
   "metadata": {
    "tags": []
   },
   "source": [
    "## Note about dates\n",
    "We will leave missing value for date (first_review and last_review) for the time being.\n",
    "we generally don’t want to replace missing dates with the mean or “NA” string the same way we do with categorical or numeric data.\n",
    "Dates need a different strategy depending on how you’ll use them."
   ]
  },
  {
   "cell_type": "code",
   "execution_count": 25,
   "id": "b347e54a",
   "metadata": {
    "tags": []
   },
   "outputs": [
    {
     "data": {
      "text/plain": [
       "bed_type\n",
       "Real Bed         3453\n",
       "Futon              51\n",
       "Airbed             40\n",
       "Pull-out Sofa      31\n",
       "Couch              10\n",
       "Name: count, dtype: int64"
      ]
     },
     "execution_count": 25,
     "metadata": {},
     "output_type": "execute_result"
    }
   ],
   "source": [
    "# we can use value_counts() to find unique values in a column\n",
    "# what are different type of beds available in airbnb?\n",
    "\n",
    "df2['bed_type'].value_counts()"
   ]
  },
  {
   "cell_type": "markdown",
   "id": "af8d5286-05b1-4c13-9887-99d2774bde09",
   "metadata": {},
   "source": [
    "## Understand shape and distribution of data\n",
    "\n",
    "Histogram/Boxplot"
   ]
  },
  {
   "cell_type": "code",
   "execution_count": 26,
   "id": "17302c2e-c590-4195-868d-4acfb4a091f4",
   "metadata": {
    "tags": []
   },
   "outputs": [
    {
     "data": {
      "text/plain": [
       "<Axes: xlabel='price_cleaned', ylabel='Count'>"
      ]
     },
     "execution_count": 26,
     "metadata": {},
     "output_type": "execute_result"
    },
    {
     "data": {
      "image/png": "[encoded data removed]",
      "text/plain": [
       "<Figure size 800x500 with 1 Axes>"
      ]
     },
     "metadata": {},
     "output_type": "display_data"
    }
   ],
   "source": [
    "# check distribution of price using histogram\n",
    "\n",
    "# set the figure size\n",
    "plt.figure(figsize=(8,5))\n",
    "\n",
    "sns.histplot(df2['price_cleaned'], bins=30, kde=False)"
   ]
  },
  {
   "cell_type": "code",
   "execution_count": 27,
   "id": "b0e39153-bb03-46e9-92e2-62ef55e6f135",
   "metadata": {
    "tags": []
   },
   "outputs": [
    {
     "data": {
      "image/png": "[encoded data removed]",
      "text/plain": [
       "<Figure size 640x480 with 1 Axes>"
      ]
     },
     "metadata": {},
     "output_type": "display_data"
    }
   ],
   "source": [
    "# limit to price below 1000, use different number of bins\n",
    "\n",
    "df3=df2[df2.price_cleaned<=1000]\n",
    "\n",
    "sns.histplot(df3['price_cleaned'], bins=20, kde=False)\n",
    "\n",
    "# save figure\n",
    "\n",
    "plt.savefig('figures/price_histogram.png')"
   ]
  },
  {
   "cell_type": "code",
   "execution_count": 28,
   "id": "78ff629c-f213-4ff7-8830-bd187a1cfac2",
   "metadata": {
    "tags": []
   },
   "outputs": [
    {
     "name": "stdout",
     "output_type": "stream",
     "text": [
      "(3585, 27) (3575, 27)\n"
     ]
    }
   ],
   "source": [
    "# we only lose 10 listings after removing all listings with price over 1000\n",
    "\n",
    "print(df2.shape, df3.shape)"
   ]
  },
  {
   "cell_type": "code",
   "execution_count": 29,
   "id": "d113989f-0317-49d6-8ffd-6db992f4a326",
   "metadata": {
    "tags": []
   },
   "outputs": [
    {
     "data": {
      "text/plain": [
       "<Axes: xlabel='price_cleaned'>"
      ]
     },
     "execution_count": 29,
     "metadata": {},
     "output_type": "execute_result"
    },
    {
     "data": {
      "image/png": "[encoded data removed]",
      "text/plain": [
       "<Figure size 640x480 with 1 Axes>"
      ]
     },
     "metadata": {},
     "output_type": "display_data"
    }
   ],
   "source": [
    "# boxplot\n",
    "\n",
    "sns.boxplot(x=df3['price_cleaned'])"
   ]
  },
  {
   "cell_type": "code",
   "execution_count": 30,
   "id": "8b2cef0a-7237-4de6-856e-234a0d804ca6",
   "metadata": {
    "tags": []
   },
   "outputs": [],
   "source": [
    "# Save the cleaned data as csv for further analysis\n",
    "\n",
    "df3.to_csv('listings_cleaned.csv', index=False)"
   ]
  },
  {
   "cell_type": "markdown",
   "id": "d0965524-6977-45e7-9e9b-0b34d92e3635",
   "metadata": {},
   "source": [
    "# Exploratory Analysis\n",
    "- display top 5 neighbourhood by number of listings\n",
    "- Average listing price by neighbourhood. Limit to the top 5 neighbourhood that has the highest average price\n",
    "- Number of Listings by price range\n",
    "- display count, mean, max, min price for all listings by neighborhood. Limit to top 5 neighbourhood based on number of listings\n",
    "- Identify top 10 amenities.\n",
    "- Average number of reviews by property_type and room_type. Limit to top 3 property\n",
    "- Display Average Price and Review Score of Location by top 10 Neighbourhood\n",
    "- whether review score rating is related to price\n",
    "- number of reviews by date"
   ]
  },
  {
   "cell_type": "code",
   "execution_count": 37,
   "id": "7534ae63-f9c5-4a02-b7be-924eeb039ad6",
   "metadata": {
    "tags": []
   },
   "outputs": [],
   "source": [
    "# read cleaned listing data in\n",
    "\n",
    "df=pd.read_csv('listings_cleaned.csv')"
   ]
  },
  {
   "cell_type": "code",
   "execution_count": 32,
   "id": "25d5ace0-3bd0-47d6-bfe4-b53e4aa3bdaa",
   "metadata": {
    "tags": []
   },
   "outputs": [
    {
     "data": {
      "text/plain": [
       "Index(['id', 'name', 'summary', 'street', 'neighbourhood_cleansed', 'latitude',\n",
       "       'longitude', 'property_type', 'room_type', 'accommodates', 'bathrooms',\n",
       "       'bedrooms', 'beds', 'bed_type', 'amenities', 'price',\n",
       "       'number_of_reviews', 'first_review', 'last_review',\n",
       "       'review_scores_rating', 'review_scores_accuracy',\n",
       "       'review_scores_cleanliness', 'review_scores_checkin',\n",
       "       'review_scores_communication', 'review_scores_location',\n",
       "       'review_scores_value', 'price_cleaned'],\n",
       "      dtype='object')"
      ]
     },
     "execution_count": 32,
     "metadata": {},
     "output_type": "execute_result"
    }
   ],
   "source": [
    "df.columns"
   ]
  },
  {
   "cell_type": "markdown",
   "id": "2e72c881-04ee-4865-9971-0dc556239ab0",
   "metadata": {
    "tags": []
   },
   "source": [
    "## display top 5 neighbourhood by number of listings"
   ]
  },
  {
   "cell_type": "code",
   "execution_count": 38,
   "id": "8c40a8a2-ccb4-4f52-87ec-92ea0af12a33",
   "metadata": {
    "tags": []
   },
   "outputs": [
    {
     "data": {
      "text/plain": [
       "neighbourhood_cleansed\n",
       "Jamaica Plain    343\n",
       "South End        325\n",
       "Back Bay         301\n",
       "Fenway           287\n",
       "Dorchester       269\n",
       "Name: count, dtype: int64"
      ]
     },
     "execution_count": 38,
     "metadata": {},
     "output_type": "execute_result"
    }
   ],
   "source": [
    "df['neighbourhood_cleansed'].value_counts().head(5)"
   ]
  },
  {
   "cell_type": "code",
   "execution_count": 39,
   "id": "7376ea67",
   "metadata": {
    "tags": []
   },
   "outputs": [
    {
     "data": {
      "text/html": [
       "<div>\n",
       "<style scoped>\n",
       "    .dataframe tbody tr th:only-of-type {\n",
       "        vertical-align: middle;\n",
       "    }\n",
       "\n",
       "    .dataframe tbody tr th {\n",
       "        vertical-align: top;\n",
       "    }\n",
       "\n",
       "    .dataframe thead th {\n",
       "        text-align: right;\n",
       "    }\n",
       "</style>\n",
       "<table border=\"1\" class=\"dataframe\">\n",
       "  <thead>\n",
       "    <tr style=\"text-align: right;\">\n",
       "      <th></th>\n",
       "      <th>neighbourhood_cleansed</th>\n",
       "      <th>count</th>\n",
       "    </tr>\n",
       "  </thead>\n",
       "  <tbody>\n",
       "    <tr>\n",
       "      <th>0</th>\n",
       "      <td>Jamaica Plain</td>\n",
       "      <td>343</td>\n",
       "    </tr>\n",
       "    <tr>\n",
       "      <th>1</th>\n",
       "      <td>South End</td>\n",
       "      <td>325</td>\n",
       "    </tr>\n",
       "    <tr>\n",
       "      <th>2</th>\n",
       "      <td>Back Bay</td>\n",
       "      <td>301</td>\n",
       "    </tr>\n",
       "    <tr>\n",
       "      <th>3</th>\n",
       "      <td>Fenway</td>\n",
       "      <td>287</td>\n",
       "    </tr>\n",
       "    <tr>\n",
       "      <th>4</th>\n",
       "      <td>Dorchester</td>\n",
       "      <td>269</td>\n",
       "    </tr>\n",
       "  </tbody>\n",
       "</table>\n",
       "</div>"
      ],
      "text/plain": [
       "  neighbourhood_cleansed  count\n",
       "0          Jamaica Plain    343\n",
       "1              South End    325\n",
       "2               Back Bay    301\n",
       "3                 Fenway    287\n",
       "4             Dorchester    269"
      ]
     },
     "execution_count": 39,
     "metadata": {},
     "output_type": "execute_result"
    }
   ],
   "source": [
    "# prepare for visualization\n",
    "\n",
    "result=df['neighbourhood_cleansed'].value_counts().head(5).reset_index()\n",
    "result"
   ]
  },
  {
   "cell_type": "code",
   "execution_count": 40,
   "id": "04520fe3-6c36-4b98-8b1f-3553e95ca975",
   "metadata": {
    "tags": []
   },
   "outputs": [
    {
     "data": {
      "image/png": "[encoded data removed]",
      "text/plain": [
       "<Figure size 800x500 with 1 Axes>"
      ]
     },
     "metadata": {},
     "output_type": "display_data"
    }
   ],
   "source": [
    "# visualize the result\n",
    "\n",
    "#Create bar plot\n",
    "plt.figure(figsize=(8,5))\n",
    "sns.barplot(x=\"neighbourhood_cleansed\", y=\"count\", data=result, palette=\"Set2\")\n",
    "\n",
    "# Labels and title\n",
    "plt.xlabel(\"Neighbourhood\")\n",
    "plt.ylabel(\"Number of Listings\")\n",
    "plt.title(\"Number of Listings by Top 5 Neighbourhood\")\n",
    "plt.show()"
   ]
  },
  {
   "cell_type": "markdown",
   "id": "7c1c219a-b6c1-4f85-8139-d0c71e3a1a97",
   "metadata": {},
   "source": [
    "## Average listing price by neighbourhood. Limit to the top 5 neighbourhood that has the highest average price"
   ]
  },
  {
   "cell_type": "code",
   "execution_count": 41,
   "id": "a2747eed-9e21-4e66-984e-c808fd15cade",
   "metadata": {
    "tags": []
   },
   "outputs": [
    {
     "data": {
      "text/html": [
       "<div>\n",
       "<style scoped>\n",
       "    .dataframe tbody tr th:only-of-type {\n",
       "        vertical-align: middle;\n",
       "    }\n",
       "\n",
       "    .dataframe tbody tr th {\n",
       "        vertical-align: top;\n",
       "    }\n",
       "\n",
       "    .dataframe thead th {\n",
       "        text-align: right;\n",
       "    }\n",
       "</style>\n",
       "<table border=\"1\" class=\"dataframe\">\n",
       "  <thead>\n",
       "    <tr style=\"text-align: right;\">\n",
       "      <th></th>\n",
       "      <th>Neighbourhood</th>\n",
       "      <th>Average Price</th>\n",
       "    </tr>\n",
       "  </thead>\n",
       "  <tbody>\n",
       "    <tr>\n",
       "      <th>2</th>\n",
       "      <td>Bay Village</td>\n",
       "      <td>266.833333</td>\n",
       "    </tr>\n",
       "    <tr>\n",
       "      <th>21</th>\n",
       "      <td>South Boston Waterfront</td>\n",
       "      <td>261.148148</td>\n",
       "    </tr>\n",
       "    <tr>\n",
       "      <th>13</th>\n",
       "      <td>Leather District</td>\n",
       "      <td>253.600000</td>\n",
       "    </tr>\n",
       "    <tr>\n",
       "      <th>1</th>\n",
       "      <td>Back Bay</td>\n",
       "      <td>237.598007</td>\n",
       "    </tr>\n",
       "    <tr>\n",
       "      <th>8</th>\n",
       "      <td>Downtown</td>\n",
       "      <td>236.459302</td>\n",
       "    </tr>\n",
       "  </tbody>\n",
       "</table>\n",
       "</div>"
      ],
      "text/plain": [
       "              Neighbourhood  Average Price\n",
       "2               Bay Village     266.833333\n",
       "21  South Boston Waterfront     261.148148\n",
       "13         Leather District     253.600000\n",
       "1                  Back Bay     237.598007\n",
       "8                  Downtown     236.459302"
      ]
     },
     "execution_count": 41,
     "metadata": {},
     "output_type": "execute_result"
    }
   ],
   "source": [
    "#step 1: find the mean of price by neighbourhood\n",
    "result=df.groupby('neighbourhood_cleansed')['price_cleaned'].mean().reset_index()\n",
    "\n",
    "result.head()\n",
    "\n",
    "# step 2: sort the list by avarage price\n",
    "\n",
    "result1=result.sort_values(by='price_cleaned', ascending=False).head(5)\n",
    "\n",
    "result1\n",
    "\n",
    "# rename price_cleaned to average_price\n",
    "\n",
    "result1.rename(columns={'neighbourhood_cleansed':'Neighbourhood', 'price_cleaned':'Average Price'}, inplace=True)\n",
    "\n",
    "result1"
   ]
  },
  {
   "cell_type": "code",
   "execution_count": 42,
   "id": "6d719a5a-ccef-40c0-811a-5a940ae9f213",
   "metadata": {
    "tags": []
   },
   "outputs": [
    {
     "data": {
      "image/png": "[encoded data removed]",
      "text/plain": [
       "<Figure size 800x500 with 1 Axes>"
      ]
     },
     "metadata": {},
     "output_type": "display_data"
    }
   ],
   "source": [
    "# Visualize the result\n",
    "\n",
    "# Create bar plot\n",
    "plt.figure(figsize=(8,5))\n",
    "\n",
    "# use sequential color\n",
    "sns.barplot(x=\"Neighbourhood\", y=\"Average Price\", data=result1, palette=\"Blues_r\")\n",
    "\n",
    "# Labels and title\n",
    "plt.title(\"Top 5 Most Expensive Neighbourhoods on Airbnb\")\n",
    "\n",
    "plt.show()"
   ]
  },
  {
   "cell_type": "code",
   "execution_count": 43,
   "id": "3b421c1b-1134-467b-a1af-7dd305729103",
   "metadata": {
    "tags": []
   },
   "outputs": [
    {
     "data": {
      "image/png": "[encoded data removed]",
      "text/plain": [
       "<Figure size 800x500 with 1 Axes>"
      ]
     },
     "metadata": {},
     "output_type": "display_data"
    }
   ],
   "source": [
    "# Modify the above chart to rotate x label\n",
    "\n",
    "# Create bar plot\n",
    "plt.figure(figsize=(8,5))\n",
    "sns.barplot(x=\"Neighbourhood\", y=\"Average Price\", data=result1, palette=\"Blues_r\")\n",
    "\n",
    "# Labels and title\n",
    "plt.title(\"Top 5 Most Expensive Neighbourhoods on Airbnb\")\n",
    "\n",
    "# Rotate x labels\n",
    "plt.xticks(rotation=45)\n",
    "\n",
    "plt.show()"
   ]
  },
  {
   "cell_type": "markdown",
   "id": "d471e31f-ec0a-4bfc-8ba7-c7d3f0722898",
   "metadata": {},
   "source": [
    "## Number of Listings by price range"
   ]
  },
  {
   "cell_type": "code",
   "execution_count": 44,
   "id": "a02dbecc",
   "metadata": {
    "tags": []
   },
   "outputs": [
    {
     "data": {
      "text/plain": [
       "price_level\n",
       "(9.01, 257.5]      2980\n",
       "(257.5, 505.0]      539\n",
       "(505.0, 752.5]       48\n",
       "(752.5, 1000.0]       8\n",
       "Name: count, dtype: int64"
      ]
     },
     "execution_count": 44,
     "metadata": {},
     "output_type": "execute_result"
    }
   ],
   "source": [
    "#Classify price into different range. Create 4 bins for price\n",
    "\n",
    "df['price_level']=pd.cut(df['price_cleaned'], bins=4)\n",
    "\n",
    "df['price_level'].value_counts()"
   ]
  },
  {
   "cell_type": "code",
   "execution_count": 45,
   "id": "3956c947-5071-4a8c-a7de-24fbd2da0e75",
   "metadata": {
    "tags": []
   },
   "outputs": [
    {
     "data": {
      "text/plain": [
       "price_level\n",
       "(100, 200]     1337\n",
       "(0, 100]       1252\n",
       "(200, 300]      648\n",
       "(300, 400]      222\n",
       "(400, 500]       60\n",
       "(500, 1000]      56\n",
       "Name: count, dtype: int64"
      ]
     },
     "execution_count": 45,
     "metadata": {},
     "output_type": "execute_result"
    }
   ],
   "source": [
    "# we can define our own value range for the price\n",
    "\n",
    "df['price_level']=pd.cut(df['price_cleaned'], bins=[0, 100, 200, 300, 400, 500, 1000])\n",
    "df['price_level'].value_counts()"
   ]
  },
  {
   "cell_type": "code",
   "execution_count": 46,
   "id": "ab38ee0e-143b-4f0a-94bb-77eec690d106",
   "metadata": {
    "tags": []
   },
   "outputs": [
    {
     "data": {
      "text/html": [
       "<div>\n",
       "<style scoped>\n",
       "    .dataframe tbody tr th:only-of-type {\n",
       "        vertical-align: middle;\n",
       "    }\n",
       "\n",
       "    .dataframe tbody tr th {\n",
       "        vertical-align: top;\n",
       "    }\n",
       "\n",
       "    .dataframe thead th {\n",
       "        text-align: right;\n",
       "    }\n",
       "</style>\n",
       "<table border=\"1\" class=\"dataframe\">\n",
       "  <thead>\n",
       "    <tr style=\"text-align: right;\">\n",
       "      <th></th>\n",
       "      <th>price_level</th>\n",
       "      <th>count</th>\n",
       "    </tr>\n",
       "  </thead>\n",
       "  <tbody>\n",
       "    <tr>\n",
       "      <th>0</th>\n",
       "      <td>(100, 200]</td>\n",
       "      <td>1337</td>\n",
       "    </tr>\n",
       "    <tr>\n",
       "      <th>1</th>\n",
       "      <td>(0, 100]</td>\n",
       "      <td>1252</td>\n",
       "    </tr>\n",
       "    <tr>\n",
       "      <th>2</th>\n",
       "      <td>(200, 300]</td>\n",
       "      <td>648</td>\n",
       "    </tr>\n",
       "    <tr>\n",
       "      <th>3</th>\n",
       "      <td>(300, 400]</td>\n",
       "      <td>222</td>\n",
       "    </tr>\n",
       "    <tr>\n",
       "      <th>4</th>\n",
       "      <td>(400, 500]</td>\n",
       "      <td>60</td>\n",
       "    </tr>\n",
       "    <tr>\n",
       "      <th>5</th>\n",
       "      <td>(500, 1000]</td>\n",
       "      <td>56</td>\n",
       "    </tr>\n",
       "  </tbody>\n",
       "</table>\n",
       "</div>"
      ],
      "text/plain": [
       "   price_level  count\n",
       "0   (100, 200]   1337\n",
       "1     (0, 100]   1252\n",
       "2   (200, 300]    648\n",
       "3   (300, 400]    222\n",
       "4   (400, 500]     60\n",
       "5  (500, 1000]     56"
      ]
     },
     "execution_count": 46,
     "metadata": {},
     "output_type": "execute_result"
    }
   ],
   "source": [
    "# visualize the result\n",
    "\n",
    "result=df['price_level'].value_counts().reset_index()\n",
    "\n",
    "result"
   ]
  },
  {
   "cell_type": "code",
   "execution_count": 47,
   "id": "4ce4398e-45e3-48c5-9578-7d8a48058c20",
   "metadata": {
    "tags": []
   },
   "outputs": [
    {
     "data": {
      "image/png": "[encoded data removed]",
      "text/plain": [
       "<Figure size 1000x500 with 1 Axes>"
      ]
     },
     "metadata": {},
     "output_type": "display_data"
    }
   ],
   "source": [
    "# set the figure size\n",
    "plt.figure(figsize=(10,5))\n",
    "\n",
    "sns.barplot(x=\"price_level\", y=\"count\", data=result, palette=\"Blues_r\")\n",
    "\n",
    "# Labels and title\n",
    "plt.xlabel(\"Rental Price Range\")\n",
    "plt.ylabel(\"Number of Listings\")\n",
    "plt.title(\"Number of Listings by Price Range\")\n",
    "plt.show()"
   ]
  },
  {
   "cell_type": "markdown",
   "id": "4dd271a4-f6b9-40d7-b49d-22c263dd5822",
   "metadata": {},
   "source": [
    "## display count, mean, max, min price for all listings by neighborhood. Limit to top 5 neighbourhood based on number of listings"
   ]
  },
  {
   "cell_type": "code",
   "execution_count": 48,
   "id": "5bc47952-d810-4a4d-b082-26d42fc30bc4",
   "metadata": {
    "tags": []
   },
   "outputs": [
    {
     "data": {
      "text/html": [
       "<div>\n",
       "<style scoped>\n",
       "    .dataframe tbody tr th:only-of-type {\n",
       "        vertical-align: middle;\n",
       "    }\n",
       "\n",
       "    .dataframe tbody tr th {\n",
       "        vertical-align: top;\n",
       "    }\n",
       "\n",
       "    .dataframe thead th {\n",
       "        text-align: right;\n",
       "    }\n",
       "</style>\n",
       "<table border=\"1\" class=\"dataframe\">\n",
       "  <thead>\n",
       "    <tr style=\"text-align: right;\">\n",
       "      <th></th>\n",
       "      <th>count</th>\n",
       "      <th>mean</th>\n",
       "      <th>min</th>\n",
       "      <th>max</th>\n",
       "    </tr>\n",
       "    <tr>\n",
       "      <th>neighbourhood_cleansed</th>\n",
       "      <th></th>\n",
       "      <th></th>\n",
       "      <th></th>\n",
       "      <th></th>\n",
       "    </tr>\n",
       "  </thead>\n",
       "  <tbody>\n",
       "    <tr>\n",
       "      <th>Back Bay</th>\n",
       "      <td>301</td>\n",
       "      <td>237.598007</td>\n",
       "      <td>40.0</td>\n",
       "      <td>975.0</td>\n",
       "    </tr>\n",
       "    <tr>\n",
       "      <th>Dorchester</th>\n",
       "      <td>269</td>\n",
       "      <td>91.639405</td>\n",
       "      <td>25.0</td>\n",
       "      <td>395.0</td>\n",
       "    </tr>\n",
       "    <tr>\n",
       "      <th>Fenway</th>\n",
       "      <td>287</td>\n",
       "      <td>199.536585</td>\n",
       "      <td>30.0</td>\n",
       "      <td>750.0</td>\n",
       "    </tr>\n",
       "    <tr>\n",
       "      <th>Jamaica Plain</th>\n",
       "      <td>343</td>\n",
       "      <td>138.478134</td>\n",
       "      <td>22.0</td>\n",
       "      <td>750.0</td>\n",
       "    </tr>\n",
       "    <tr>\n",
       "      <th>South End</th>\n",
       "      <td>325</td>\n",
       "      <td>200.978462</td>\n",
       "      <td>45.0</td>\n",
       "      <td>800.0</td>\n",
       "    </tr>\n",
       "  </tbody>\n",
       "</table>\n",
       "</div>"
      ],
      "text/plain": [
       "                        count        mean   min    max\n",
       "neighbourhood_cleansed                                \n",
       "Back Bay                  301  237.598007  40.0  975.0\n",
       "Dorchester                269   91.639405  25.0  395.0\n",
       "Fenway                    287  199.536585  30.0  750.0\n",
       "Jamaica Plain             343  138.478134  22.0  750.0\n",
       "South End                 325  200.978462  45.0  800.0"
      ]
     },
     "execution_count": 48,
     "metadata": {},
     "output_type": "execute_result"
    }
   ],
   "source": [
    "# identify top 5 listing based on count (number of listings)\n",
    "\n",
    "top5=df['neighbourhood_cleansed'].value_counts().nlargest(5).index\n",
    "\n",
    "top5\n",
    "\n",
    "result=df[df['neighbourhood_cleansed'].isin(top5)].groupby('neighbourhood_cleansed')['price_cleaned'].agg(['count','mean', 'min', 'max'])\n",
    "\n",
    "result"
   ]
  },
  {
   "cell_type": "code",
   "execution_count": 49,
   "id": "f880cc90-9bb3-4c66-86ec-2dfe7c1a9aa6",
   "metadata": {
    "tags": []
   },
   "outputs": [
    {
     "data": {
      "text/html": [
       "<div>\n",
       "<style scoped>\n",
       "    .dataframe tbody tr th:only-of-type {\n",
       "        vertical-align: middle;\n",
       "    }\n",
       "\n",
       "    .dataframe tbody tr th {\n",
       "        vertical-align: top;\n",
       "    }\n",
       "\n",
       "    .dataframe thead th {\n",
       "        text-align: right;\n",
       "    }\n",
       "</style>\n",
       "<table border=\"1\" class=\"dataframe\">\n",
       "  <thead>\n",
       "    <tr style=\"text-align: right;\">\n",
       "      <th></th>\n",
       "      <th>count</th>\n",
       "      <th>mean</th>\n",
       "      <th>min</th>\n",
       "      <th>max</th>\n",
       "    </tr>\n",
       "    <tr>\n",
       "      <th>neighbourhood_cleansed</th>\n",
       "      <th></th>\n",
       "      <th></th>\n",
       "      <th></th>\n",
       "      <th></th>\n",
       "    </tr>\n",
       "  </thead>\n",
       "  <tbody>\n",
       "    <tr>\n",
       "      <th>Back Bay</th>\n",
       "      <td>301</td>\n",
       "      <td>237.598007</td>\n",
       "      <td>40.0</td>\n",
       "      <td>975.0</td>\n",
       "    </tr>\n",
       "    <tr>\n",
       "      <th>South End</th>\n",
       "      <td>325</td>\n",
       "      <td>200.978462</td>\n",
       "      <td>45.0</td>\n",
       "      <td>800.0</td>\n",
       "    </tr>\n",
       "    <tr>\n",
       "      <th>Fenway</th>\n",
       "      <td>287</td>\n",
       "      <td>199.536585</td>\n",
       "      <td>30.0</td>\n",
       "      <td>750.0</td>\n",
       "    </tr>\n",
       "    <tr>\n",
       "      <th>Jamaica Plain</th>\n",
       "      <td>343</td>\n",
       "      <td>138.478134</td>\n",
       "      <td>22.0</td>\n",
       "      <td>750.0</td>\n",
       "    </tr>\n",
       "    <tr>\n",
       "      <th>Dorchester</th>\n",
       "      <td>269</td>\n",
       "      <td>91.639405</td>\n",
       "      <td>25.0</td>\n",
       "      <td>395.0</td>\n",
       "    </tr>\n",
       "  </tbody>\n",
       "</table>\n",
       "</div>"
      ],
      "text/plain": [
       "                        count        mean   min    max\n",
       "neighbourhood_cleansed                                \n",
       "Back Bay                  301  237.598007  40.0  975.0\n",
       "South End                 325  200.978462  45.0  800.0\n",
       "Fenway                    287  199.536585  30.0  750.0\n",
       "Jamaica Plain             343  138.478134  22.0  750.0\n",
       "Dorchester                269   91.639405  25.0  395.0"
      ]
     },
     "execution_count": 49,
     "metadata": {},
     "output_type": "execute_result"
    }
   ],
   "source": [
    "# sort the value by average price\n",
    "\n",
    "result.sort_values(by=['mean'], ascending=False, inplace=True)\n",
    "\n",
    "result"
   ]
  },
  {
   "cell_type": "code",
   "execution_count": 50,
   "id": "dedbfca5-ca55-4bc9-aa72-97419b1a27bd",
   "metadata": {
    "tags": []
   },
   "outputs": [
    {
     "data": {
      "text/html": [
       "<div>\n",
       "<style scoped>\n",
       "    .dataframe tbody tr th:only-of-type {\n",
       "        vertical-align: middle;\n",
       "    }\n",
       "\n",
       "    .dataframe tbody tr th {\n",
       "        vertical-align: top;\n",
       "    }\n",
       "\n",
       "    .dataframe thead th {\n",
       "        text-align: right;\n",
       "    }\n",
       "</style>\n",
       "<table border=\"1\" class=\"dataframe\">\n",
       "  <thead>\n",
       "    <tr style=\"text-align: right;\">\n",
       "      <th></th>\n",
       "      <th>neighbourhood_cleansed</th>\n",
       "      <th>price_stats</th>\n",
       "      <th>price</th>\n",
       "    </tr>\n",
       "  </thead>\n",
       "  <tbody>\n",
       "    <tr>\n",
       "      <th>0</th>\n",
       "      <td>Back Bay</td>\n",
       "      <td>mean</td>\n",
       "      <td>237.598007</td>\n",
       "    </tr>\n",
       "    <tr>\n",
       "      <th>1</th>\n",
       "      <td>South End</td>\n",
       "      <td>mean</td>\n",
       "      <td>200.978462</td>\n",
       "    </tr>\n",
       "    <tr>\n",
       "      <th>2</th>\n",
       "      <td>Fenway</td>\n",
       "      <td>mean</td>\n",
       "      <td>199.536585</td>\n",
       "    </tr>\n",
       "    <tr>\n",
       "      <th>3</th>\n",
       "      <td>Jamaica Plain</td>\n",
       "      <td>mean</td>\n",
       "      <td>138.478134</td>\n",
       "    </tr>\n",
       "    <tr>\n",
       "      <th>4</th>\n",
       "      <td>Dorchester</td>\n",
       "      <td>mean</td>\n",
       "      <td>91.639405</td>\n",
       "    </tr>\n",
       "    <tr>\n",
       "      <th>5</th>\n",
       "      <td>Back Bay</td>\n",
       "      <td>min</td>\n",
       "      <td>40.000000</td>\n",
       "    </tr>\n",
       "    <tr>\n",
       "      <th>6</th>\n",
       "      <td>South End</td>\n",
       "      <td>min</td>\n",
       "      <td>45.000000</td>\n",
       "    </tr>\n",
       "    <tr>\n",
       "      <th>7</th>\n",
       "      <td>Fenway</td>\n",
       "      <td>min</td>\n",
       "      <td>30.000000</td>\n",
       "    </tr>\n",
       "    <tr>\n",
       "      <th>8</th>\n",
       "      <td>Jamaica Plain</td>\n",
       "      <td>min</td>\n",
       "      <td>22.000000</td>\n",
       "    </tr>\n",
       "    <tr>\n",
       "      <th>9</th>\n",
       "      <td>Dorchester</td>\n",
       "      <td>min</td>\n",
       "      <td>25.000000</td>\n",
       "    </tr>\n",
       "    <tr>\n",
       "      <th>10</th>\n",
       "      <td>Back Bay</td>\n",
       "      <td>max</td>\n",
       "      <td>975.000000</td>\n",
       "    </tr>\n",
       "    <tr>\n",
       "      <th>11</th>\n",
       "      <td>South End</td>\n",
       "      <td>max</td>\n",
       "      <td>800.000000</td>\n",
       "    </tr>\n",
       "    <tr>\n",
       "      <th>12</th>\n",
       "      <td>Fenway</td>\n",
       "      <td>max</td>\n",
       "      <td>750.000000</td>\n",
       "    </tr>\n",
       "    <tr>\n",
       "      <th>13</th>\n",
       "      <td>Jamaica Plain</td>\n",
       "      <td>max</td>\n",
       "      <td>750.000000</td>\n",
       "    </tr>\n",
       "    <tr>\n",
       "      <th>14</th>\n",
       "      <td>Dorchester</td>\n",
       "      <td>max</td>\n",
       "      <td>395.000000</td>\n",
       "    </tr>\n",
       "  </tbody>\n",
       "</table>\n",
       "</div>"
      ],
      "text/plain": [
       "   neighbourhood_cleansed price_stats       price\n",
       "0                Back Bay        mean  237.598007\n",
       "1               South End        mean  200.978462\n",
       "2                  Fenway        mean  199.536585\n",
       "3           Jamaica Plain        mean  138.478134\n",
       "4              Dorchester        mean   91.639405\n",
       "5                Back Bay         min   40.000000\n",
       "6               South End         min   45.000000\n",
       "7                  Fenway         min   30.000000\n",
       "8           Jamaica Plain         min   22.000000\n",
       "9              Dorchester         min   25.000000\n",
       "10               Back Bay         max  975.000000\n",
       "11              South End         max  800.000000\n",
       "12                 Fenway         max  750.000000\n",
       "13          Jamaica Plain         max  750.000000\n",
       "14             Dorchester         max  395.000000"
      ]
     },
     "execution_count": 50,
     "metadata": {},
     "output_type": "execute_result"
    }
   ],
   "source": [
    "# visualize mean, min and max price by neighbourhood\n",
    "\n",
    "# step 1 drop count\n",
    "\n",
    "result1=result.drop(columns=['count']).reset_index()\n",
    "\n",
    "result1\n",
    "\n",
    "# use melt function to transform a wide-format DataFrame into a long-format DataFrame (also called “unpivoting”).\n",
    "result2=result1.melt(id_vars=['neighbourhood_cleansed'], # columns to keep fixed\n",
    "                     value_vars=['mean', 'min', 'max'], # columns to unpivot\n",
    "                     var_name='price_stats',    # Name for the new column that will hold the former column names\n",
    "                     value_name='price')  # Name for the new column that will hold the values.\n",
    "result2"
   ]
  },
  {
   "cell_type": "code",
   "execution_count": 51,
   "id": "bedbbf77-c5a0-4e6b-a76d-c75468d5d483",
   "metadata": {
    "tags": []
   },
   "outputs": [
    {
     "data": {
      "image/png": "[encoded data removed]",
      "text/plain": [
       "<Figure size 1000x500 with 1 Axes>"
      ]
     },
     "metadata": {},
     "output_type": "display_data"
    }
   ],
   "source": [
    "# set the figure size\n",
    "plt.figure(figsize=(10,5))\n",
    "\n",
    "sns.barplot(x=\"neighbourhood_cleansed\", y=\"price\", data=result2, hue='price_stats')\n",
    "\n",
    "# Labels and title\n",
    "plt.xlabel(\"Neighbourhood\")\n",
    "plt.ylabel(\"Price\")\n",
    "plt.title(\"Price by top 5 Neighbourhood\")\n",
    "plt.show()"
   ]
  },
  {
   "cell_type": "markdown",
   "id": "09eeda53-3514-42a9-9a45-ec959c5df02f",
   "metadata": {},
   "source": [
    "## Identify top 10 amenities."
   ]
  },
  {
   "cell_type": "code",
   "execution_count": 47,
   "id": "5f69211e-d244-4344-8f0c-2575a0aebda3",
   "metadata": {
    "tags": []
   },
   "outputs": [
    {
     "data": {
      "text/plain": [
       "0       {TV,\"Wireless Internet\",Kitchen,\"Free Parking ...\n",
       "1       {TV,Internet,\"Wireless Internet\",\"Air Conditio...\n",
       "2       {TV,\"Cable TV\",\"Wireless Internet\",\"Air Condit...\n",
       "3       {TV,Internet,\"Wireless Internet\",\"Air Conditio...\n",
       "4       {Internet,\"Wireless Internet\",\"Air Conditionin...\n",
       "                              ...                        \n",
       "3570    {Internet,\"Wireless Internet\",\"Air Conditionin...\n",
       "3571    {TV,Internet,\"Wireless Internet\",\"Air Conditio...\n",
       "3572    {\"translation missing: en.hosting_amenity_49\",...\n",
       "3573    {Kitchen,Gym,\"Family/Kid Friendly\",Washer,Drye...\n",
       "3574    {\"Wireless Internet\",Kitchen,Essentials,\"trans...\n",
       "Name: amenities, Length: 3575, dtype: object"
      ]
     },
     "execution_count": 47,
     "metadata": {},
     "output_type": "execute_result"
    }
   ],
   "source": [
    "df['amenities']"
   ]
  },
  {
   "cell_type": "code",
   "execution_count": 52,
   "id": "c471f563-e237-4efe-977e-f59fe2f32a62",
   "metadata": {
    "tags": []
   },
   "outputs": [
    {
     "data": {
      "text/plain": [
       "0       {TV,\"Wireless Internet\",Kitchen,\"Free Parking on Premises\",\"Pets live on this property\",Dog(s),Heating,\"Family/Kid Friendly\",Washer,Dryer,\"Smoke Detector\",\"Fire Extinguisher\",Essentials,Shampoo,\"L...\n",
       "1       {TV,Internet,\"Wireless Internet\",\"Air Conditioning\",Kitchen,\"Pets Allowed\",\"Pets live on this property\",Dog(s),Heating,\"Family/Kid Friendly\",Washer,Dryer,\"Smoke Detector\",\"Carbon Monoxide Detector...\n",
       "2       {TV,\"Cable TV\",\"Wireless Internet\",\"Air Conditioning\",Kitchen,\"Free Parking on Premises\",Heating,Washer,Dryer,\"Smoke Detector\",\"Carbon Monoxide Detector\",\"First Aid Kit\",\"Safety Card\",Essentials,S...\n",
       "3       {TV,Internet,\"Wireless Internet\",\"Air Conditioning\",Kitchen,\"Free Parking on Premises\",Gym,Breakfast,\"Indoor Fireplace\",Heating,Washer,Dryer,\"Smoke Detector\",\"Carbon Monoxide Detector\",\"First Aid ...\n",
       "4                          {Internet,\"Wireless Internet\",\"Air Conditioning\",Kitchen,Breakfast,Heating,\"Smoke Detector\",\"Carbon Monoxide Detector\",\"First Aid Kit\",Essentials,Shampoo,Hangers,\"Hair Dryer\",Iron}\n",
       "                                                                                                         ...                                                                                                   \n",
       "3570    {Internet,\"Wireless Internet\",\"Air Conditioning\",Kitchen,\"Free Parking on Premises\",Heating,\"Family/Kid Friendly\",\"Smoke Detector\",\"Carbon Monoxide Detector\",\"Fire Extinguisher\",Essentials,Shampoo...\n",
       "3571    {TV,Internet,\"Wireless Internet\",\"Air Conditioning\",Kitchen,\"Free Parking on Premises\",\"Smoking Allowed\",\"Pets Allowed\",Gym,\"Pets live on this property\",\"Elevator in Building\",Heating,\"Family/Kid ...\n",
       "3572                                                                                                                {\"translation missing: en.hosting_amenity_49\",\"translation missing: en.hosting_amenity_50\"}\n",
       "3573                                                                                           {Kitchen,Gym,\"Family/Kid Friendly\",Washer,Dryer,Essentials,Hangers,\"translation missing: en.hosting_amenity_50\"}\n",
       "3574                                                                         {\"Wireless Internet\",Kitchen,Essentials,\"translation missing: en.hosting_amenity_49\",\"translation missing: en.hosting_amenity_50\"}\n",
       "Name: amenities, Length: 3575, dtype: object"
      ]
     },
     "execution_count": 52,
     "metadata": {},
     "output_type": "execute_result"
    }
   ],
   "source": [
    "# increase width of pandas column to see the full content of amenities\n",
    "\n",
    "pd.set_option('display.max_colwidth', 200)\n",
    "\n",
    "df['amenities']"
   ]
  },
  {
   "cell_type": "code",
   "execution_count": 53,
   "id": "3804651b-f1ff-4e41-9eb0-6a0ecdcab9e9",
   "metadata": {
    "tags": []
   },
   "outputs": [
    {
     "data": {
      "text/plain": [
       "0                             {TV\n",
       "1             \"Wireless Internet\"\n",
       "2                         Kitchen\n",
       "3      \"Free Parking on Premises\"\n",
       "4    \"Pets live on this property\"\n",
       "5                          Dog(s)\n",
       "6                         Heating\n",
       "7           \"Family/Kid Friendly\"\n",
       "8                          Washer\n",
       "9                           Dryer\n",
       "Name: amenities2, dtype: object"
      ]
     },
     "execution_count": 53,
     "metadata": {},
     "output_type": "execute_result"
    }
   ],
   "source": [
    "# split amenities by comma\n",
    "\n",
    "df['amenities1']=df['amenities'].str.split(\",\")\n",
    "\n",
    "df['amenities1'].head()\n",
    "\n",
    "# explode each amentity into one row\n",
    "#  ignore_index resets the index of the exploded result to a continuous 0, 1, 2, … sequence.\n",
    "df['amenities2']=df['amenities1'].explode(ignore_index=True)\n",
    "\n",
    "df['amenities2'].head(10)"
   ]
  },
  {
   "cell_type": "code",
   "execution_count": 54,
   "id": "0dfbb1cb-6339-474e-a912-dec7a287e524",
   "metadata": {
    "tags": []
   },
   "outputs": [
    {
     "data": {
      "text/plain": [
       "amenities2\n",
       "Heating                       211\n",
       "Kitchen                       194\n",
       "\"Smoke Detector\"              193\n",
       "\"Wireless Internet\"           179\n",
       "Essentials                    171\n",
       "\"Carbon Monoxide Detector\"    171\n",
       "Washer                        163\n",
       "Dryer                         157\n",
       "\"Air Conditioning\"            145\n",
       "{TV                           135\n",
       "Name: count, dtype: int64"
      ]
     },
     "execution_count": 54,
     "metadata": {},
     "output_type": "execute_result"
    }
   ],
   "source": [
    "# show top 10 amenities\n",
    "\n",
    "df['amenities2'].value_counts().head(10)"
   ]
  },
  {
   "cell_type": "code",
   "execution_count": 55,
   "id": "82b81b93-b64f-4a78-a1ed-4908b1f8aaac",
   "metadata": {
    "tags": []
   },
   "outputs": [
    {
     "data": {
      "text/plain": [
       "amenities3\n",
       "Wireless Internet           217\n",
       "Heating                     212\n",
       "Kitchen                     194\n",
       "Smoke Detector              194\n",
       "Essentials                  186\n",
       "Carbon Monoxide Detector    171\n",
       "Washer                      163\n",
       "Dryer                       162\n",
       "Internet                    156\n",
       "Air Conditioning            145\n",
       "Name: count, dtype: int64"
      ]
     },
     "execution_count": 55,
     "metadata": {},
     "output_type": "execute_result"
    }
   ],
   "source": [
    "# need to clean amentities. Remove special character\n",
    "\n",
    "df['amenities3']=df['amenities2'].str.replace(\"{|}|\\\"\", \"\", regex=True)\n",
    "\n",
    "df['amenities3'].value_counts().head(10)"
   ]
  },
  {
   "cell_type": "code",
   "execution_count": 56,
   "id": "177f8d9f-ddd7-4cc2-b018-89761e6083c5",
   "metadata": {
    "tags": []
   },
   "outputs": [
    {
     "data": {
      "image/png": "[encoded data removed]",
      "text/plain": [
       "<Figure size 1000x500 with 1 Axes>"
      ]
     },
     "metadata": {},
     "output_type": "display_data"
    }
   ],
   "source": [
    "# visualize the result\n",
    "\n",
    "result=df['amenities3'].value_counts().head(10).reset_index()\n",
    "\n",
    "result\n",
    "\n",
    "# set the figure size\n",
    "plt.figure(figsize=(10,5))\n",
    "\n",
    "sns.barplot(x=\"amenities3\", y=\"count\", data=result, palette=\"Set2\")\n",
    "\n",
    "# Labels and title\n",
    "plt.xlabel(\"Amenitity\")\n",
    "plt.ylabel(\"Number of Listings\")\n",
    "plt.title(\"Top 10 Amenitity\")\n",
    "\n",
    "# Rotate x labels\n",
    "plt.xticks(rotation=45)\n",
    "\n",
    "plt.show()"
   ]
  },
  {
   "cell_type": "markdown",
   "id": "bbd5f963-629c-4169-a374-6fba80a8464c",
   "metadata": {
    "tags": []
   },
   "source": [
    "## Average number of reviews by property type and room type. Limit to top 3 property based on numbe of listings"
   ]
  },
  {
   "cell_type": "code",
   "execution_count": 57,
   "id": "d2dbd966-0441-4bf3-8eb3-43b89864d849",
   "metadata": {
    "tags": []
   },
   "outputs": [
    {
     "data": {
      "text/plain": [
       "property_type  room_type      \n",
       "Apartment      Entire home/apt    17.030717\n",
       "               Private room       17.757344\n",
       "               Shared room        11.419355\n",
       "Condominium    Entire home/apt    11.480000\n",
       "               Private room       19.848101\n",
       "               Shared room        24.500000\n",
       "House          Entire home/apt    21.163265\n",
       "               Private room       34.133333\n",
       "               Shared room         6.666667\n",
       "Name: number_of_reviews, dtype: float64"
      ]
     },
     "execution_count": 57,
     "metadata": {},
     "output_type": "execute_result"
    }
   ],
   "source": [
    "top3=df['property_type'].value_counts().nlargest(3).index\n",
    "\n",
    "top3\n",
    "\n",
    "df[df['property_type'].isin(top3)].groupby(['property_type', 'room_type'])['number_of_reviews'].mean()"
   ]
  },
  {
   "cell_type": "code",
   "execution_count": 58,
   "id": "e6c43f35-63ee-4e92-bc90-90187c9e1bbb",
   "metadata": {
    "tags": []
   },
   "outputs": [
    {
     "data": {
      "text/html": [
       "<div>\n",
       "<style scoped>\n",
       "    .dataframe tbody tr th:only-of-type {\n",
       "        vertical-align: middle;\n",
       "    }\n",
       "\n",
       "    .dataframe tbody tr th {\n",
       "        vertical-align: top;\n",
       "    }\n",
       "\n",
       "    .dataframe thead th {\n",
       "        text-align: right;\n",
       "    }\n",
       "</style>\n",
       "<table border=\"1\" class=\"dataframe\">\n",
       "  <thead>\n",
       "    <tr style=\"text-align: right;\">\n",
       "      <th></th>\n",
       "      <th>property_type</th>\n",
       "      <th>room_type</th>\n",
       "      <th>number_of_reviews</th>\n",
       "    </tr>\n",
       "  </thead>\n",
       "  <tbody>\n",
       "    <tr>\n",
       "      <th>0</th>\n",
       "      <td>Apartment</td>\n",
       "      <td>Entire home/apt</td>\n",
       "      <td>17.030717</td>\n",
       "    </tr>\n",
       "    <tr>\n",
       "      <th>1</th>\n",
       "      <td>Apartment</td>\n",
       "      <td>Private room</td>\n",
       "      <td>17.757344</td>\n",
       "    </tr>\n",
       "    <tr>\n",
       "      <th>2</th>\n",
       "      <td>Apartment</td>\n",
       "      <td>Shared room</td>\n",
       "      <td>11.419355</td>\n",
       "    </tr>\n",
       "    <tr>\n",
       "      <th>3</th>\n",
       "      <td>Condominium</td>\n",
       "      <td>Entire home/apt</td>\n",
       "      <td>11.480000</td>\n",
       "    </tr>\n",
       "    <tr>\n",
       "      <th>4</th>\n",
       "      <td>Condominium</td>\n",
       "      <td>Private room</td>\n",
       "      <td>19.848101</td>\n",
       "    </tr>\n",
       "    <tr>\n",
       "      <th>5</th>\n",
       "      <td>Condominium</td>\n",
       "      <td>Shared room</td>\n",
       "      <td>24.500000</td>\n",
       "    </tr>\n",
       "    <tr>\n",
       "      <th>6</th>\n",
       "      <td>House</td>\n",
       "      <td>Entire home/apt</td>\n",
       "      <td>21.163265</td>\n",
       "    </tr>\n",
       "    <tr>\n",
       "      <th>7</th>\n",
       "      <td>House</td>\n",
       "      <td>Private room</td>\n",
       "      <td>34.133333</td>\n",
       "    </tr>\n",
       "    <tr>\n",
       "      <th>8</th>\n",
       "      <td>House</td>\n",
       "      <td>Shared room</td>\n",
       "      <td>6.666667</td>\n",
       "    </tr>\n",
       "  </tbody>\n",
       "</table>\n",
       "</div>"
      ],
      "text/plain": [
       "  property_type        room_type  number_of_reviews\n",
       "0     Apartment  Entire home/apt          17.030717\n",
       "1     Apartment     Private room          17.757344\n",
       "2     Apartment      Shared room          11.419355\n",
       "3   Condominium  Entire home/apt          11.480000\n",
       "4   Condominium     Private room          19.848101\n",
       "5   Condominium      Shared room          24.500000\n",
       "6         House  Entire home/apt          21.163265\n",
       "7         House     Private room          34.133333\n",
       "8         House      Shared room           6.666667"
      ]
     },
     "execution_count": 58,
     "metadata": {},
     "output_type": "execute_result"
    }
   ],
   "source": [
    "# store ther result in a dataframe for visualization\n",
    "\n",
    "result=df[df['property_type'].isin(top3)].groupby(['property_type', 'room_type'])['number_of_reviews'].mean().reset_index()\n",
    "\n",
    "result"
   ]
  },
  {
   "cell_type": "code",
   "execution_count": 59,
   "id": "984a658f-b67f-4174-b696-4b36b6c8e82f",
   "metadata": {
    "tags": []
   },
   "outputs": [
    {
     "data": {
      "image/png": "[encoded data removed]",
      "text/plain": [
       "<Figure size 1000x500 with 1 Axes>"
      ]
     },
     "metadata": {},
     "output_type": "display_data"
    }
   ],
   "source": [
    "# visualize the result\n",
    "\n",
    "# set the figure size\n",
    "plt.figure(figsize=(10,5))\n",
    "\n",
    "sns.barplot(x=\"property_type\", y=\"number_of_reviews\", data=result, hue='room_type')\n",
    "\n",
    "# Labels and title\n",
    "plt.xlabel(\"Property Type\")\n",
    "plt.ylabel(\"Average Number of Reviews\")\n",
    "plt.title(\"Number of Reviews by Property by Room Type\")\n",
    "plt.show()"
   ]
  },
  {
   "cell_type": "markdown",
   "id": "d4530520-c9fe-4861-95e5-7efc2e330016",
   "metadata": {
    "tags": []
   },
   "source": [
    "## Display Average Price and Review Score of Location by top 10 Neighbourhood"
   ]
  },
  {
   "cell_type": "code",
   "execution_count": 60,
   "id": "dc92178a-65d7-4cce-86d4-cf9583876cc7",
   "metadata": {
    "tags": []
   },
   "outputs": [
    {
     "data": {
      "text/html": [
       "<div>\n",
       "<style scoped>\n",
       "    .dataframe tbody tr th:only-of-type {\n",
       "        vertical-align: middle;\n",
       "    }\n",
       "\n",
       "    .dataframe tbody tr th {\n",
       "        vertical-align: top;\n",
       "    }\n",
       "\n",
       "    .dataframe thead th {\n",
       "        text-align: right;\n",
       "    }\n",
       "</style>\n",
       "<table border=\"1\" class=\"dataframe\">\n",
       "  <thead>\n",
       "    <tr style=\"text-align: right;\">\n",
       "      <th></th>\n",
       "      <th>price_cleaned</th>\n",
       "      <th>review_scores_location</th>\n",
       "    </tr>\n",
       "    <tr>\n",
       "      <th>neighbourhood_cleansed</th>\n",
       "      <th></th>\n",
       "      <th></th>\n",
       "    </tr>\n",
       "  </thead>\n",
       "  <tbody>\n",
       "    <tr>\n",
       "      <th>Bay Village</th>\n",
       "      <td>266.833333</td>\n",
       "      <td>9.763014</td>\n",
       "    </tr>\n",
       "    <tr>\n",
       "      <th>South Boston Waterfront</th>\n",
       "      <td>261.148148</td>\n",
       "      <td>9.611395</td>\n",
       "    </tr>\n",
       "    <tr>\n",
       "      <th>Back Bay</th>\n",
       "      <td>237.598007</td>\n",
       "      <td>9.831651</td>\n",
       "    </tr>\n",
       "    <tr>\n",
       "      <th>Downtown</th>\n",
       "      <td>236.459302</td>\n",
       "      <td>9.606734</td>\n",
       "    </tr>\n",
       "    <tr>\n",
       "      <th>Beacon Hill</th>\n",
       "      <td>213.343750</td>\n",
       "      <td>9.869464</td>\n",
       "    </tr>\n",
       "    <tr>\n",
       "      <th>West End</th>\n",
       "      <td>209.591837</td>\n",
       "      <td>9.553244</td>\n",
       "    </tr>\n",
       "    <tr>\n",
       "      <th>South End</th>\n",
       "      <td>200.978462</td>\n",
       "      <td>9.664660</td>\n",
       "    </tr>\n",
       "    <tr>\n",
       "      <th>Fenway</th>\n",
       "      <td>199.536585</td>\n",
       "      <td>9.554817</td>\n",
       "    </tr>\n",
       "    <tr>\n",
       "      <th>North End</th>\n",
       "      <td>195.678322</td>\n",
       "      <td>9.856804</td>\n",
       "    </tr>\n",
       "    <tr>\n",
       "      <th>Longwood Medical Area</th>\n",
       "      <td>138.444444</td>\n",
       "      <td>9.609362</td>\n",
       "    </tr>\n",
       "  </tbody>\n",
       "</table>\n",
       "</div>"
      ],
      "text/plain": [
       "                         price_cleaned  review_scores_location\n",
       "neighbourhood_cleansed                                        \n",
       "Bay Village                 266.833333                9.763014\n",
       "South Boston Waterfront     261.148148                9.611395\n",
       "Back Bay                    237.598007                9.831651\n",
       "Downtown                    236.459302                9.606734\n",
       "Beacon Hill                 213.343750                9.869464\n",
       "West End                    209.591837                9.553244\n",
       "South End                   200.978462                9.664660\n",
       "Fenway                      199.536585                9.554817\n",
       "North End                   195.678322                9.856804\n",
       "Longwood Medical Area       138.444444                9.609362"
      ]
     },
     "execution_count": 60,
     "metadata": {},
     "output_type": "execute_result"
    }
   ],
   "source": [
    "top10=df.groupby('neighbourhood_cleansed')['review_scores_location'].mean().nlargest(10).index\n",
    "\n",
    "result = (\n",
    "    df[df.neighbourhood_cleansed.isin(top10)]\n",
    "    .groupby('neighbourhood_cleansed')[['price_cleaned', 'review_scores_location']]\n",
    "    .mean()\n",
    "    .sort_values(by=['price_cleaned'], ascending=False)\n",
    ")\n",
    "\n",
    "result.head(10)"
   ]
  },
  {
   "cell_type": "code",
   "execution_count": 61,
   "id": "e135645a-c601-4285-b75d-8f441987566a",
   "metadata": {
    "tags": []
   },
   "outputs": [
    {
     "data": {
      "text/plain": [
       "Text(0, 0.5, 'Average Location Review Scores')"
      ]
     },
     "execution_count": 61,
     "metadata": {},
     "output_type": "execute_result"
    },
    {
     "data": {
      "image/png": "[encoded data removed]",
      "text/plain": [
       "<Figure size 1500x700 with 2 Axes>"
      ]
     },
     "metadata": {},
     "output_type": "display_data"
    }
   ],
   "source": [
    "# visualize the result\n",
    "\n",
    "# Set the figure size\n",
    "\n",
    "plt.figure(figsize=(15, 7))\n",
    "\n",
    "# use a sequential color with 10 variations\n",
    "\n",
    "my_palette=sns.color_palette(\"mako\", 10)\n",
    "\n",
    "# create a bar chart using seaborn\n",
    "\n",
    "ax=sns.barplot(x=result.index, y=\"price_cleaned\", data=result, palette=my_palette)\n",
    "\n",
    "# create a line chart using seaborn and Matplotlib\n",
    "\n",
    "ax2=ax.twinx()\n",
    "\n",
    "ax2.plot(result.index, result[\"review_scores_location\"], color=\"blue\")\n",
    "\n",
    "# set the chart title and labels\n",
    "ax.set_title(\"Average Price and Review Score in Location by top 10 Neighbourhood\")\n",
    "ax.set_xlabel(\"Neighbourhood\")\n",
    "ax.set_ylabel(\"Average Price\")\n",
    "ax.set_xticklabels(ax.get_xticklabels(), rotation=45)\n",
    "ax2.set_ylabel(\"Average Location Review Scores\")"
   ]
  },
  {
   "cell_type": "markdown",
   "id": "8836bdd5-ee87-41b0-9817-b4fe1c2e375f",
   "metadata": {},
   "source": [
    "## Check whether review score rating is related to price"
   ]
  },
  {
   "cell_type": "code",
   "execution_count": 62,
   "id": "3a8a96ef-3327-4d3d-9d25-f2255b1c2084",
   "metadata": {
    "tags": []
   },
   "outputs": [
    {
     "data": {
      "image/png": "[encoded data removed]",
      "text/plain": [
       "<Figure size 800x600 with 1 Axes>"
      ]
     },
     "metadata": {},
     "output_type": "display_data"
    }
   ],
   "source": [
    "# create a scatter plot between airbnb review scores and price\n",
    "\n",
    "plt.figure(figsize=(8,6))\n",
    "sns.scatterplot(x=\"review_scores_rating\", y=\"price_cleaned\", data=df, alpha=0.5)\n",
    "\n",
    "plt.xlabel(\"Review Rating\")\n",
    "plt.ylabel(\"Price\")\n",
    "plt.title(\"Scatter Plot of Review Scoree Rating vs Price\")\n",
    "plt.show()"
   ]
  },
  {
   "cell_type": "markdown",
   "id": "79314f6d-843d-4581-b106-850056037323",
   "metadata": {},
   "source": [
    "## Number of Reviews by Date"
   ]
  },
  {
   "cell_type": "code",
   "execution_count": 64,
   "id": "2f92a431-ec18-459a-b22b-b4120b32b05c",
   "metadata": {
    "tags": []
   },
   "outputs": [
    {
     "data": {
      "text/plain": [
       "(68275, 6)"
      ]
     },
     "execution_count": 64,
     "metadata": {},
     "output_type": "execute_result"
    }
   ],
   "source": [
    "reviews=pd.read_csv('reviews.csv')\n",
    "\n",
    "reviews.shape"
   ]
  },
  {
   "cell_type": "code",
   "execution_count": 46,
   "id": "79f97739-420f-4e15-b849-ae699fa6a4ed",
   "metadata": {
    "tags": []
   },
   "outputs": [
    {
     "data": {
      "text/html": [
       "<div>\n",
       "<style scoped>\n",
       "    .dataframe tbody tr th:only-of-type {\n",
       "        vertical-align: middle;\n",
       "    }\n",
       "\n",
       "    .dataframe tbody tr th {\n",
       "        vertical-align: top;\n",
       "    }\n",
       "\n",
       "    .dataframe thead th {\n",
       "        text-align: right;\n",
       "    }\n",
       "</style>\n",
       "<table border=\"1\" class=\"dataframe\">\n",
       "  <thead>\n",
       "    <tr style=\"text-align: right;\">\n",
       "      <th></th>\n",
       "      <th>listing_id</th>\n",
       "      <th>id</th>\n",
       "      <th>date</th>\n",
       "      <th>reviewer_id</th>\n",
       "      <th>reviewer_name</th>\n",
       "      <th>comments</th>\n",
       "    </tr>\n",
       "  </thead>\n",
       "  <tbody>\n",
       "    <tr>\n",
       "      <th>0</th>\n",
       "      <td>1178162</td>\n",
       "      <td>4724140</td>\n",
       "      <td>2013-05-21</td>\n",
       "      <td>4298113</td>\n",
       "      <td>Olivier</td>\n",
       "      <td>My stay at islam's place was really cool! Good location, 5min away from subway, then 10min from downtown. The room was nice, all place was clean. Islam managed pretty well our arrival, even if it ...</td>\n",
       "    </tr>\n",
       "    <tr>\n",
       "      <th>1</th>\n",
       "      <td>1178162</td>\n",
       "      <td>4869189</td>\n",
       "      <td>2013-05-29</td>\n",
       "      <td>6452964</td>\n",
       "      <td>Charlotte</td>\n",
       "      <td>Great location for both airport and city - great amenities in the house: Plus Islam was always very helpful even though he was away</td>\n",
       "    </tr>\n",
       "    <tr>\n",
       "      <th>2</th>\n",
       "      <td>1178162</td>\n",
       "      <td>5003196</td>\n",
       "      <td>2013-06-06</td>\n",
       "      <td>6449554</td>\n",
       "      <td>Sebastian</td>\n",
       "      <td>We really enjoyed our stay at Islams house. From the outside the house didn't look so inviting but the inside was very nice! Even though Islam himself was not there everything was prepared for our...</td>\n",
       "    </tr>\n",
       "    <tr>\n",
       "      <th>3</th>\n",
       "      <td>1178162</td>\n",
       "      <td>5150351</td>\n",
       "      <td>2013-06-15</td>\n",
       "      <td>2215611</td>\n",
       "      <td>Marine</td>\n",
       "      <td>The room was nice and clean and so were the commodities. Very close to the airport metro station and located in quite safe area. Islam responds very quickly and is very helpful. I would recommend ...</td>\n",
       "    </tr>\n",
       "    <tr>\n",
       "      <th>4</th>\n",
       "      <td>1178162</td>\n",
       "      <td>5171140</td>\n",
       "      <td>2013-06-16</td>\n",
       "      <td>6848427</td>\n",
       "      <td>Andrew</td>\n",
       "      <td>Great location. Just 5 mins walk from the Airport Station. Good food nearby.\\r\\nRoom was simple, clean, just what I was after.</td>\n",
       "    </tr>\n",
       "  </tbody>\n",
       "</table>\n",
       "</div>"
      ],
      "text/plain": [
       "   listing_id       id        date  reviewer_id reviewer_name  \\\n",
       "0     1178162  4724140  2013-05-21      4298113       Olivier   \n",
       "1     1178162  4869189  2013-05-29      6452964     Charlotte   \n",
       "2     1178162  5003196  2013-06-06      6449554     Sebastian   \n",
       "3     1178162  5150351  2013-06-15      2215611        Marine   \n",
       "4     1178162  5171140  2013-06-16      6848427        Andrew   \n",
       "\n",
       "                                                                                                                                                                                                  comments  \n",
       "0  My stay at islam's place was really cool! Good location, 5min away from subway, then 10min from downtown. The room was nice, all place was clean. Islam managed pretty well our arrival, even if it ...  \n",
       "1                                                                      Great location for both airport and city - great amenities in the house: Plus Islam was always very helpful even though he was away  \n",
       "2  We really enjoyed our stay at Islams house. From the outside the house didn't look so inviting but the inside was very nice! Even though Islam himself was not there everything was prepared for our...  \n",
       "3  The room was nice and clean and so were the commodities. Very close to the airport metro station and located in quite safe area. Islam responds very quickly and is very helpful. I would recommend ...  \n",
       "4                                                                           Great location. Just 5 mins walk from the Airport Station. Good food nearby.\\r\\nRoom was simple, clean, just what I was after.  "
      ]
     },
     "execution_count": 46,
     "metadata": {},
     "output_type": "execute_result"
    }
   ],
   "source": [
    "reviews.head()"
   ]
  },
  {
   "cell_type": "code",
   "execution_count": 65,
   "id": "617d782a-3077-4509-8274-8246420ee0e2",
   "metadata": {
    "tags": []
   },
   "outputs": [
    {
     "data": {
      "text/plain": [
       "listing_id        int64\n",
       "id                int64\n",
       "date             object\n",
       "reviewer_id       int64\n",
       "reviewer_name    object\n",
       "comments         object\n",
       "dtype: object"
      ]
     },
     "execution_count": 65,
     "metadata": {},
     "output_type": "execute_result"
    }
   ],
   "source": [
    "reviews.dtypes"
   ]
  },
  {
   "cell_type": "code",
   "execution_count": 66,
   "id": "7d45f748-8a1d-4444-a608-fb3daae0c781",
   "metadata": {
    "tags": []
   },
   "outputs": [
    {
     "data": {
      "text/plain": [
       "listing_id                int64\n",
       "id                        int64\n",
       "date             datetime64[ns]\n",
       "reviewer_id               int64\n",
       "reviewer_name            object\n",
       "comments                 object\n",
       "dtype: object"
      ]
     },
     "execution_count": 66,
     "metadata": {},
     "output_type": "execute_result"
    }
   ],
   "source": [
    "# convert data from object to date\n",
    "\n",
    "reviews['date']=pd.to_datetime(reviews.date)\n",
    "\n",
    "reviews.dtypes"
   ]
  },
  {
   "cell_type": "code",
   "execution_count": 67,
   "id": "68a6b45d-d32b-4c09-bd97-fc5ff5116342",
   "metadata": {
    "tags": []
   },
   "outputs": [
    {
     "data": {
      "text/plain": [
       "Text(0.5, 1.0, 'Number of Reviews by Date')"
      ]
     },
     "execution_count": 67,
     "metadata": {},
     "output_type": "execute_result"
    },
    {
     "data": {
      "image/png": "[encoded data removed]",
      "text/plain": [
       "<Figure size 1000x500 with 1 Axes>"
      ]
     },
     "metadata": {},
     "output_type": "display_data"
    }
   ],
   "source": [
    "# number of reviews by date\n",
    "\n",
    "result=reviews.groupby('date')['listing_id'].count().reset_index().rename(columns={'listing_id': 'Number of Reviews'})\n",
    "\n",
    "#set figure size\n",
    "\n",
    "plt.figure(figsize=(10,5))\n",
    "\n",
    "sns.lineplot(x=\"date\", y=\"Number of Reviews\", data=result)\n",
    "\n",
    "plt.title(\"Number of Reviews by Date\")"
   ]
  },
  {
   "cell_type": "code",
   "execution_count": 68,
   "id": "f3a47b02-11bf-4ef8-bcd4-a20becc6469e",
   "metadata": {
    "tags": []
   },
   "outputs": [
    {
     "data": {
      "text/plain": [
       "Text(0.5, 1.0, 'Number of Reviews by Date')"
      ]
     },
     "execution_count": 68,
     "metadata": {},
     "output_type": "execute_result"
    },
    {
     "data": {
      "image/png": "[encoded data removed]",
      "text/plain": [
       "<Figure size 1000x500 with 1 Axes>"
      ]
     },
     "metadata": {},
     "output_type": "display_data"
    }
   ],
   "source": [
    "# limit to date after 2014\n",
    "\n",
    "result1=result[result['date'].dt.year>=2014]\n",
    "\n",
    "#set figure size\n",
    "\n",
    "plt.figure(figsize=(10,5))\n",
    "\n",
    "sns.lineplot(x=\"date\", y=\"Number of Reviews\", data=result1)\n",
    "\n",
    "plt.title(\"Number of Reviews by Date\")"
   ]
  },
  {
   "cell_type": "markdown",
   "id": "263b46c4-7376-4ffe-8948-976e046d0383",
   "metadata": {},
   "source": [
    "#  Data joining\n",
    "join listing and review data\n",
    "\n",
    "listing_id in review table is linked to id in the listings table"
   ]
  },
  {
   "cell_type": "code",
   "execution_count": 69,
   "id": "5294e928-1cd4-4ae7-92e8-7d0ff56d4e09",
   "metadata": {
    "tags": []
   },
   "outputs": [
    {
     "data": {
      "text/plain": [
       "Index(['id', 'name', 'summary', 'street', 'neighbourhood_cleansed', 'latitude',\n",
       "       'longitude', 'property_type', 'room_type', 'accommodates', 'bathrooms',\n",
       "       'bedrooms', 'beds', 'bed_type', 'amenities', 'price',\n",
       "       'number_of_reviews', 'first_review', 'last_review',\n",
       "       'review_scores_rating', 'review_scores_accuracy',\n",
       "       'review_scores_cleanliness', 'review_scores_checkin',\n",
       "       'review_scores_communication', 'review_scores_location',\n",
       "       'review_scores_value', 'price_cleaned', 'listing_id', 'date',\n",
       "       'reviewer_id', 'reviewer_name', 'comments'],\n",
       "      dtype='object')"
      ]
     },
     "execution_count": 69,
     "metadata": {},
     "output_type": "execute_result"
    }
   ],
   "source": [
    "## drop id from reviews table\n",
    "\n",
    "reviews1=reviews.drop(['id'], axis=1)\n",
    "\n",
    "# read cleaned listings data\n",
    "\n",
    "df=pd.read_csv('airbnb_boston/listings_cleaned.csv')\n",
    "\n",
    "# join listing and review data\n",
    "\n",
    "df1=df.merge(reviews1, left_on='id', right_on='listing_id', how='inner')\n",
    "\n",
    "df1.columns"
   ]
  },
  {
   "cell_type": "code",
   "execution_count": null,
   "id": "cf49f4b3-aae4-48b7-96e0-8e778e58cec4",
   "metadata": {},
   "outputs": [],
   "source": []
  }
 ],
 "metadata": {
  "kernelspec": {
   "display_name": "AI500Env",
   "language": "python",
   "name": "ai500env"
  },
  "language_info": {
   "codemirror_mode": {
    "name": "ipython",
    "version": 3
   },
   "file_extension": ".py",
   "mimetype": "text/x-python",
   "name": "python",
   "nbconvert_exporter": "python",
   "pygments_lexer": "ipython3",
   "version": "3.12.11"
  }
 },
 "nbformat": 4,
 "nbformat_minor": 5
}
