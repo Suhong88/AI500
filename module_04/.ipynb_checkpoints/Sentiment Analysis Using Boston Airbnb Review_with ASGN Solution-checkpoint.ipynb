{
 "cells": [
  {
   "cell_type": "markdown",
   "id": "da0febdb",
   "metadata": {},
   "source": [
    "# Sentiment Analysis with Hugging Face Transformers (Boston Airbnb Reviews)\n",
    "This notebook demonstrates how to perform **sentiment analysis** on text data using the **Hugging Face `transformers`** library—specifically the `pipeline(\"sentiment-analysis\")`.  \n",
    "We'll apply it to the Boston airbnb review data."
   ]
  },
  {
   "cell_type": "markdown",
   "id": "5fe4836f",
   "metadata": {},
   "source": [
    "## What is Sentiment Analysis?\n",
    "**Sentiment analysis** (a type of text classification) detects the **polarity** of opinions expressed in text—commonly **positive**, **negative**, or **neutral**.  \n",
    "Typical uses include:\n",
    "- Monitoring customer feedback (e.g., app store reviews, support tickets)\n",
    "- Brand & reputation tracking on social media\n",
    "- Voice of customer analytics for product improvement"
   ]
  },
  {
   "cell_type": "markdown",
   "id": "7fc63bd9",
   "metadata": {},
   "source": [
    "\n",
    "## Hugging Face & Transformers\n",
    "- In the world of AI, [Hugging Face](https://huggingface.co) is quite the star. It’s an AI community and platform that provides state-of-the-art tools and models for Natural Language Processing (NLP). It hosts thousands of pre‑trained models and datasets for NLP, computer vision, audio and LLMs.\n",
    "- Hugging Face’s most popular offering is the **Transformers** library. The Transformers library comes packed with APIs and tools that let you easily grab and train top-notch pre-trained models.\n",
    "- For quick experimentation, the **`pipeline`** abstraction wraps tokenization, model loading, and inference with one line of code.\n",
    "\n",
    "In this notebook we will use Bert based model to contact sentiment analysis.\n",
    "- `pipeline(\"sentiment-analysis\")` → loads a default sentiment model (e.g., a BERT or DistilBERT variant) and returns **label** and **score**.\n"
   ]
  },
  {
   "cell_type": "markdown",
   "id": "6e9408a3-c5bf-4a9a-aab1-ec4195803163",
   "metadata": {
    "tags": []
   },
   "source": [
    "# BERT-Based Models in Sentiment Analysis\n",
    "\n",
    "A **BERT-based model in sentiment analysis** means using the **BERT (Bidirectional Encoder Representations from Transformers)** architecture as the foundation for predicting whether a piece of text expresses a **positive, negative, or neutral** sentiment.\n",
    "\n",
    "## 1. What is BERT?\n",
    "- **BERT** is a deep learning model developed by Google (2018).\n",
    "- Built on the **transformer** architecture and is **bidirectional**, meaning it looks at the entire sentence both left-to-right and right-to-left when learning context.\n",
    "- Pretrained on large text corpora (Wikipedia, BooksCorpus), so it already understands a lot of language before fine-tuning.\n",
    "\n",
    "## 2. How it’s Used in Sentiment Analysis\n",
    "- **Fine-tuning**: Start with pretrained BERT and train it further on a labeled sentiment dataset (e.g., movie reviews with “positive/negative” labels).\n",
    "- The final classification layer is usually a **softmax output** that predicts sentiment categories.\n",
    "- Example:  \n",
    "  Input = *“This movie was amazing!”* → Output = *Positive (0.95 probability)*.\n",
    "\n",
    "## 3. Advantages of BERT in Sentiment Analysis\n",
    "- **Contextual understanding**: Captures meaning based on surrounding words (e.g., “bank” in *river bank* vs *investment bank*).\n",
    "- **Handles subtle sentiment**: Detects sarcasm, negation (“not bad” = positive), or mixed tones.\n",
    "- **Transfer learning**: Pretraining gives it strong language understanding, so it performs well with relatively small sentiment datasets.\n",
    "\n",
    "## 4. Variants\n",
    "- **DistilBERT, RoBERTa, ALBERT** – lighter or optimized BERT-based models.\n",
    "- **Domain-specific BERT** – e.g., *FinBERT* (finance), *BioBERT* (biomedical), *BERTweet* (tweets) for specialized sentiment tasks."
   ]
  },
  {
   "cell_type": "markdown",
   "id": "4f8d568a",
   "metadata": {},
   "source": [
    "# Apply Bert based model to Sentiment Analysis\n",
    "## Import Package"
   ]
  },
  {
   "cell_type": "code",
   "execution_count": 112,
   "id": "1cc230a9",
   "metadata": {
    "tags": []
   },
   "outputs": [],
   "source": [
    "import os\n",
    "import pandas as pd\n",
    "from transformers import pipeline\n",
    "from sklearn.metrics import confusion_matrix, ConfusionMatrixDisplay, classification_report\n",
    "\n",
    "# create a function to generate confusion matrix and classification report for sentiment analysis\n",
    "\n",
    "def classification_evaluation(y_true, y_pred):\n",
    "    # Fixed class order used everywhere\n",
    "    classes = [\"Positive\", \"Neutral\", \"Negative\"]\n",
    "\n",
    "    # generate Confusion matrix (fixed label order)\n",
    "    cm = confusion_matrix(y_true, y_pred, labels=classes)\n",
    "    disp = ConfusionMatrixDisplay(confusion_matrix=cm, display_labels=classes)\n",
    "    disp.plot(cmap=\"Blues\", values_format=\"d\")\n",
    "    plt.title(\"Confusion Matrix - Sentiment Analysis\")\n",
    "    plt.show()\n",
    "\n",
    "    # generate classification report with the SAME labels & names. Use three decimal places\n",
    "    print(classification_report(y_true, y_pred, labels=classes, target_names=classes, digits=3))"
   ]
  },
  {
   "cell_type": "markdown",
   "id": "00fc1539-d928-4612-802c-cd78340b6710",
   "metadata": {},
   "source": [
    "## Load default sentiment-analysis pipeline"
   ]
  },
  {
   "cell_type": "code",
   "execution_count": 113,
   "id": "433d0b7b-c8bb-4279-91c3-74c67caf0b14",
   "metadata": {
    "tags": []
   },
   "outputs": [
    {
     "name": "stderr",
     "output_type": "stream",
     "text": [
      "No model was supplied, defaulted to distilbert/distilbert-base-uncased-finetuned-sst-2-english and revision 714eb0f (https://huggingface.co/distilbert/distilbert-base-uncased-finetuned-sst-2-english).\n",
      "Using a pipeline without specifying a model name and revision in production is not recommended.\n",
      "Device set to use cuda:0\n"
     ]
    }
   ],
   "source": [
    "# we will use default model: distilbert/distilbert-base-uncased-finetuned-sst-2-english\n",
    "sentiment_pipeline = pipeline(\"sentiment-analysis\")"
   ]
  },
  {
   "cell_type": "markdown",
   "id": "b0db7d0e-c35b-4915-ba20-d862be3c22f1",
   "metadata": {
    "tags": []
   },
   "source": [
    "## Run sentiment analysis based on a single text"
   ]
  },
  {
   "cell_type": "code",
   "execution_count": 6,
   "id": "83c6c938-2fec-465f-9e04-75b363d2c453",
   "metadata": {
    "tags": []
   },
   "outputs": [
    {
     "data": {
      "text/plain": [
       "[{'label': 'POSITIVE', 'score': 0.9995788931846619}]"
      ]
     },
     "execution_count": 6,
     "metadata": {},
     "output_type": "execute_result"
    }
   ],
   "source": [
    "review1=\"Amazing stay! The apartment was spotless and the host was super helpful.\"\n",
    "\n",
    "sentiment_pipeline(review1)"
   ]
  },
  {
   "cell_type": "code",
   "execution_count": 7,
   "id": "b7ed70d0-e4f7-43b8-b240-75e792daf55c",
   "metadata": {
    "tags": []
   },
   "outputs": [
    {
     "data": {
      "text/plain": [
       "[{'label': 'NEGATIVE', 'score': 0.99977046251297}]"
      ]
     },
     "execution_count": 7,
     "metadata": {},
     "output_type": "execute_result"
    }
   ],
   "source": [
    "review2=\"We do not have a good experience. The room is too old and there is loud noise during the night\"\n",
    "\n",
    "sentiment_pipeline(review2)"
   ]
  },
  {
   "cell_type": "code",
   "execution_count": 8,
   "id": "161fbbed-7b11-41d1-85f6-4c606597de8d",
   "metadata": {
    "tags": []
   },
   "outputs": [
    {
     "data": {
      "text/plain": [
       "[{'label': 'NEGATIVE', 'score': 0.9880151152610779}]"
      ]
     },
     "execution_count": 8,
     "metadata": {},
     "output_type": "execute_result"
    }
   ],
   "source": [
    "review3=\"The location is great, but the bed was uncomfortable.\" \n",
    "sentiment_pipeline(review3)"
   ]
  },
  {
   "cell_type": "code",
   "execution_count": 118,
   "id": "ffc7f52d-4f9d-4820-a4a1-341e21f6f725",
   "metadata": {
    "tags": []
   },
   "outputs": [
    {
     "name": "stdout",
     "output_type": "stream",
     "text": [
      "\"Review in Spanish: \"[{'label': 'NEGATIVE', 'score': 0.9813812971115112}]\n",
      "\"Review in English: \" [{'label': 'POSITIVE', 'score': 0.9998712539672852}]\n"
     ]
    }
   ],
   "source": [
    "review4_in_Spanish=\"El departamento estÃ¡ muy bien ubicado en una muy buena zona cerca de Boston Common.\\\n",
    "EstÃ¡ muy bien equipado con todo lo necesario y de muy buen gusto. Michael nos recibiÃ³ muy amablemente brindando todas las indicaciones \\\n",
    "sobre el departamento e informaciÃ³n sobre el barrio y sus comercios. Merece destacar que nos obsequiÃ³ con un excelente vino que disfrutamos\\\n",
    "en la hermosa terraza.\"\n",
    "\n",
    "review4_in_English=\"The apartment is very well located in a great area near Boston Common. \\\n",
    "It is very well equipped with everything necessary and decorated with very good taste. \\\n",
    "Michael welcomed us very kindly, providing all the instructions about the apartment and information \\\n",
    "about the neighborhood and its shops. It is worth mentioning that he gifted us an excellent bottle of wine, which we enjoyed on the beautiful terrace.\"\n",
    "\n",
    "result1=sentiment_pipeline(review4_in_Spanish)\n",
    "\n",
    "result2=sentiment_pipeline(review4_in_English)\n",
    "\n",
    "print(f'\"Review in Spanish: \"{result1}\\n\"Review in English: \" {result2}')"
   ]
  },
  {
   "cell_type": "markdown",
   "id": "f5adc9c7-7351-4cf3-bc84-ca3d32dda4c4",
   "metadata": {},
   "source": [
    " **Note:** The base BERT model was trained in English; therefore, reviews written in other languages may yield unpredictable results. This limitation is common on social media platforms and e-commerce sites with global users or U.S.-based users who choose to write in another language. Based on my experience, BERT often predicts such non-English reviews as *Neutral*, since it cannot reliably detect emotions expressed outside of English.  \n",
    ">\n",
    "> 💡 **Tip:** For datasets that include multiple languages, consider using **Multilingual BERT (mBERT)** or **XLM-RoBERTa**, which are trained on many languages and better suited for handling multilingual text."
   ]
  },
  {
   "cell_type": "markdown",
   "id": "14e8b8ed-2817-44f3-b080-405c73fdc6c9",
   "metadata": {},
   "source": [
    "## Load a different model\n",
    "- The text classification task in this model is based on 3 sentiment labels.\n",
    "- You can check more models from [here](https://huggingface.co/models?pipeline_tag=text-classification&sort=trending&search=bert)"
   ]
  },
  {
   "cell_type": "code",
   "execution_count": 123,
   "id": "eeeb90ed-4d23-45c8-901c-d3c300010d4f",
   "metadata": {
    "tags": []
   },
   "outputs": [
    {
     "name": "stderr",
     "output_type": "stream",
     "text": [
      "Device set to use cuda:0\n"
     ]
    },
    {
     "name": "stdout",
     "output_type": "stream",
     "text": [
      "==================================\n",
      "Text 1: Amazing stay! The apartment was spotless and the host was super helpful.\n",
      "Negative: 0.13%\n",
      "Neutral: 0.91%\n",
      "Positive: 98.96%\n",
      "==================================\n",
      "Text 2: We do not have a good experience. The room is too old and there is loud noise during the night\n",
      "Negative: 97.66%\n",
      "Neutral: 2.14%\n",
      "Positive: 0.19%\n",
      "==================================\n",
      "Text 3: The location is great, but the bed was uncomfortable.\n",
      "Negative: 32.89%\n",
      "Neutral: 41.63%\n",
      "Positive: 25.48%\n",
      "==================================\n",
      "Text 4: El departamento estÃ¡ muy bien ubicado en una muy buena zona cerca de Boston Common.EstÃ¡ muy bien equipado con todo lo necesario y de muy buen gusto. Michael nos recibiÃ³ muy amablemente brindando todas las indicaciones sobre el departamento e informaciÃ³n sobre el barrio y sus comercios. Merece destacar que nos obsequiÃ³ con un excelente vino que disfrutamosen la hermosa terraza.\n",
      "Negative: 8.85%\n",
      "Neutral: 77.35%\n",
      "Positive: 13.80%\n",
      "==================================\n",
      "Text 5: The apartment is very well located in a great area near Boston Common. It is very well equipped with everything necessary and decorated with very good taste. Michael welcomed us very kindly, providing all the instructions about the apartment and information about the neighborhood and its shops. It is worth mentioning that he gifted us an excellent bottle of wine, which we enjoyed on the beautiful terrace.\n",
      "Negative: 0.11%\n",
      "Neutral: 0.89%\n",
      "Positive: 99.00%\n"
     ]
    }
   ],
   "source": [
    "from transformers import pipeline\n",
    "\n",
    "sentiment_pipeline = pipeline(\"sentiment-analysis\", model=\"cardiffnlp/twitter-roberta-base-sentiment\")\n",
    "\n",
    "inputs = [review1, review2, review3, review4_in_Spanish, review4_in_English ]\n",
    "\n",
    "# set retunr_all_scores to true to return the score for all lables. Otherwise, it will only return the label with the highest probability.\n",
    "result = sentiment_pipeline(inputs, return_all_scores=True)\n",
    "\n",
    "label_mapping = {\"LABEL_0\": \"Negative\", \"LABEL_1\": \"Neutral\", \"LABEL_2\": \"Positive\"}\n",
    "\n",
    "for i, predictions in enumerate(result):\n",
    "  print(\"==================================\")\n",
    "  print(f\"Text {i + 1}: {inputs[i]}\")\n",
    "  for pred in predictions:\n",
    "    label = label_mapping.get(pred['label'], pred['label'])\n",
    "    score = pred['score']\n",
    "    print(f\"{label}: {score:.2%}\")"
   ]
  },
  {
   "cell_type": "markdown",
   "id": "93bd5b28",
   "metadata": {},
   "source": [
    "## Apply the twitter-roberta model to Boston airbnb review data"
   ]
  },
  {
   "cell_type": "markdown",
   "id": "6d878021-4da5-4344-a826-678d4ed8ac0a",
   "metadata": {},
   "source": [
    "### load the data"
   ]
  },
  {
   "cell_type": "code",
   "execution_count": 50,
   "id": "5fa0e2ea-de88-437f-9f8a-667721265edb",
   "metadata": {
    "tags": []
   },
   "outputs": [
    {
     "data": {
      "text/html": [
       "<div>\n",
       "<style scoped>\n",
       "    .dataframe tbody tr th:only-of-type {\n",
       "        vertical-align: middle;\n",
       "    }\n",
       "\n",
       "    .dataframe tbody tr th {\n",
       "        vertical-align: top;\n",
       "    }\n",
       "\n",
       "    .dataframe thead th {\n",
       "        text-align: right;\n",
       "    }\n",
       "</style>\n",
       "<table border=\"1\" class=\"dataframe\">\n",
       "  <thead>\n",
       "    <tr style=\"text-align: right;\">\n",
       "      <th></th>\n",
       "      <th>listing_id</th>\n",
       "      <th>id</th>\n",
       "      <th>date</th>\n",
       "      <th>reviewer_id</th>\n",
       "      <th>reviewer_name</th>\n",
       "      <th>comments</th>\n",
       "    </tr>\n",
       "  </thead>\n",
       "  <tbody>\n",
       "    <tr>\n",
       "      <th>0</th>\n",
       "      <td>1178162</td>\n",
       "      <td>4724140</td>\n",
       "      <td>2013-05-21</td>\n",
       "      <td>4298113</td>\n",
       "      <td>Olivier</td>\n",
       "      <td>My stay at islam's place was really cool! Good location, 5min away from subway, then 10min from downtown. The room was nice, all place was clean. Islam managed pretty well our arrival, even if it was last minute ;) i do recommand this place to any airbnb user :)</td>\n",
       "    </tr>\n",
       "    <tr>\n",
       "      <th>1</th>\n",
       "      <td>1178162</td>\n",
       "      <td>4869189</td>\n",
       "      <td>2013-05-29</td>\n",
       "      <td>6452964</td>\n",
       "      <td>Charlotte</td>\n",
       "      <td>Great location for both airport and city - great amenities in the house: Plus Islam was always very helpful even though he was away</td>\n",
       "    </tr>\n",
       "    <tr>\n",
       "      <th>2</th>\n",
       "      <td>1178162</td>\n",
       "      <td>5003196</td>\n",
       "      <td>2013-06-06</td>\n",
       "      <td>6449554</td>\n",
       "      <td>Sebastian</td>\n",
       "      <td>We really enjoyed our stay at Islams house. From the outside the house didn't look so inviting but the inside was very nice! Even though Islam himself was not there everything was prepared for our arrival. The airport T Station is only a 5-10 min walk away. The only little issue was that all the people in the house had to share one bathroom. But it was not really a problem and it worked out fine. We would recommend Islams place for a stay in Boston.</td>\n",
       "    </tr>\n",
       "    <tr>\n",
       "      <th>3</th>\n",
       "      <td>1178162</td>\n",
       "      <td>5150351</td>\n",
       "      <td>2013-06-15</td>\n",
       "      <td>2215611</td>\n",
       "      <td>Marine</td>\n",
       "      <td>The room was nice and clean and so were the commodities. Very close to the airport metro station and located in quite safe area. Islam responds very quickly and is very helpful. I would recommend it.</td>\n",
       "    </tr>\n",
       "    <tr>\n",
       "      <th>4</th>\n",
       "      <td>1178162</td>\n",
       "      <td>5171140</td>\n",
       "      <td>2013-06-16</td>\n",
       "      <td>6848427</td>\n",
       "      <td>Andrew</td>\n",
       "      <td>Great location. Just 5 mins walk from the Airport Station. Good food nearby.\\r\\nRoom was simple, clean, just what I was after.</td>\n",
       "    </tr>\n",
       "  </tbody>\n",
       "</table>\n",
       "</div>"
      ],
      "text/plain": [
       "   listing_id       id        date  reviewer_id reviewer_name  \\\n",
       "0     1178162  4724140  2013-05-21      4298113       Olivier   \n",
       "1     1178162  4869189  2013-05-29      6452964     Charlotte   \n",
       "2     1178162  5003196  2013-06-06      6449554     Sebastian   \n",
       "3     1178162  5150351  2013-06-15      2215611        Marine   \n",
       "4     1178162  5171140  2013-06-16      6848427        Andrew   \n",
       "\n",
       "                                                                                                                                                                                                                                                                                                                                                                                                                                                                 comments  \n",
       "0                                                                                                                                                                                                  My stay at islam's place was really cool! Good location, 5min away from subway, then 10min from downtown. The room was nice, all place was clean. Islam managed pretty well our arrival, even if it was last minute ;) i do recommand this place to any airbnb user :)  \n",
       "1                                                                                                                                                                                                                                                                                                                                     Great location for both airport and city - great amenities in the house: Plus Islam was always very helpful even though he was away  \n",
       "2  We really enjoyed our stay at Islams house. From the outside the house didn't look so inviting but the inside was very nice! Even though Islam himself was not there everything was prepared for our arrival. The airport T Station is only a 5-10 min walk away. The only little issue was that all the people in the house had to share one bathroom. But it was not really a problem and it worked out fine. We would recommend Islams place for a stay in Boston.   \n",
       "3                                                                                                                                                                                                                                                                The room was nice and clean and so were the commodities. Very close to the airport metro station and located in quite safe area. Islam responds very quickly and is very helpful. I would recommend it.   \n",
       "4                                                                                                                                                                                                                                                                                                                                          Great location. Just 5 mins walk from the Airport Station. Good food nearby.\\r\\nRoom was simple, clean, just what I was after.  "
      ]
     },
     "execution_count": 50,
     "metadata": {},
     "output_type": "execute_result"
    }
   ],
   "source": [
    "df=pd.read_csv('data/boston_airbnb_reviews.csv')\n",
    "df.head()"
   ]
  },
  {
   "cell_type": "markdown",
   "id": "f4e319fc-8036-4efa-a5b1-543ab95a0181",
   "metadata": {},
   "source": [
    "### Apply the model to comments column\n",
    "\n",
    "for illustration purpose, we will only focus on the first 100 reviews"
   ]
  },
  {
   "cell_type": "code",
   "execution_count": 51,
   "id": "71a948d9-3dac-4456-9d70-c1a6a76c9362",
   "metadata": {
    "tags": []
   },
   "outputs": [
    {
     "name": "stderr",
     "output_type": "stream",
     "text": [
      "Device set to use cuda:0\n"
     ]
    },
    {
     "data": {
      "text/html": [
       "<div>\n",
       "<style scoped>\n",
       "    .dataframe tbody tr th:only-of-type {\n",
       "        vertical-align: middle;\n",
       "    }\n",
       "\n",
       "    .dataframe tbody tr th {\n",
       "        vertical-align: top;\n",
       "    }\n",
       "\n",
       "    .dataframe thead th {\n",
       "        text-align: right;\n",
       "    }\n",
       "</style>\n",
       "<table border=\"1\" class=\"dataframe\">\n",
       "  <thead>\n",
       "    <tr style=\"text-align: right;\">\n",
       "      <th></th>\n",
       "      <th>listing_id</th>\n",
       "      <th>id</th>\n",
       "      <th>date</th>\n",
       "      <th>reviewer_id</th>\n",
       "      <th>reviewer_name</th>\n",
       "      <th>comments</th>\n",
       "      <th>sentiment</th>\n",
       "      <th>sentiment_score</th>\n",
       "    </tr>\n",
       "  </thead>\n",
       "  <tbody>\n",
       "    <tr>\n",
       "      <th>0</th>\n",
       "      <td>1178162</td>\n",
       "      <td>4724140</td>\n",
       "      <td>2013-05-21</td>\n",
       "      <td>4298113</td>\n",
       "      <td>Olivier</td>\n",
       "      <td>My stay at islam's place was really cool! Good location, 5min away from subway, then 10min from downtown. The room was nice, all place was clean. Islam managed pretty well our arrival, even if it was last minute ;) i do recommand this place to any airbnb user :)</td>\n",
       "      <td>Positive</td>\n",
       "      <td>0.990538</td>\n",
       "    </tr>\n",
       "    <tr>\n",
       "      <th>1</th>\n",
       "      <td>1178162</td>\n",
       "      <td>4869189</td>\n",
       "      <td>2013-05-29</td>\n",
       "      <td>6452964</td>\n",
       "      <td>Charlotte</td>\n",
       "      <td>Great location for both airport and city - great amenities in the house: Plus Islam was always very helpful even though he was away</td>\n",
       "      <td>Positive</td>\n",
       "      <td>0.980617</td>\n",
       "    </tr>\n",
       "    <tr>\n",
       "      <th>2</th>\n",
       "      <td>1178162</td>\n",
       "      <td>5003196</td>\n",
       "      <td>2013-06-06</td>\n",
       "      <td>6449554</td>\n",
       "      <td>Sebastian</td>\n",
       "      <td>We really enjoyed our stay at Islams house. From the outside the house didn't look so inviting but the inside was very nice! Even though Islam himself was not there everything was prepared for our arrival. The airport T Station is only a 5-10 min walk away. The only little issue was that all the people in the house had to share one bathroom. But it was not really a problem and it worked out fine. We would recommend Islams place for a stay in Boston.</td>\n",
       "      <td>Positive</td>\n",
       "      <td>0.966956</td>\n",
       "    </tr>\n",
       "    <tr>\n",
       "      <th>3</th>\n",
       "      <td>1178162</td>\n",
       "      <td>5150351</td>\n",
       "      <td>2013-06-15</td>\n",
       "      <td>2215611</td>\n",
       "      <td>Marine</td>\n",
       "      <td>The room was nice and clean and so were the commodities. Very close to the airport metro station and located in quite safe area. Islam responds very quickly and is very helpful. I would recommend it.</td>\n",
       "      <td>Positive</td>\n",
       "      <td>0.980367</td>\n",
       "    </tr>\n",
       "    <tr>\n",
       "      <th>4</th>\n",
       "      <td>1178162</td>\n",
       "      <td>5171140</td>\n",
       "      <td>2013-06-16</td>\n",
       "      <td>6848427</td>\n",
       "      <td>Andrew</td>\n",
       "      <td>Great location. Just 5 mins walk from the Airport Station. Good food nearby.\\r\\nRoom was simple, clean, just what I was after.</td>\n",
       "      <td>Positive</td>\n",
       "      <td>0.971294</td>\n",
       "    </tr>\n",
       "  </tbody>\n",
       "</table>\n",
       "</div>"
      ],
      "text/plain": [
       "   listing_id       id        date  reviewer_id reviewer_name  \\\n",
       "0     1178162  4724140  2013-05-21      4298113       Olivier   \n",
       "1     1178162  4869189  2013-05-29      6452964     Charlotte   \n",
       "2     1178162  5003196  2013-06-06      6449554     Sebastian   \n",
       "3     1178162  5150351  2013-06-15      2215611        Marine   \n",
       "4     1178162  5171140  2013-06-16      6848427        Andrew   \n",
       "\n",
       "                                                                                                                                                                                                                                                                                                                                                                                                                                                                 comments  \\\n",
       "0                                                                                                                                                                                                  My stay at islam's place was really cool! Good location, 5min away from subway, then 10min from downtown. The room was nice, all place was clean. Islam managed pretty well our arrival, even if it was last minute ;) i do recommand this place to any airbnb user :)   \n",
       "1                                                                                                                                                                                                                                                                                                                                     Great location for both airport and city - great amenities in the house: Plus Islam was always very helpful even though he was away   \n",
       "2  We really enjoyed our stay at Islams house. From the outside the house didn't look so inviting but the inside was very nice! Even though Islam himself was not there everything was prepared for our arrival. The airport T Station is only a 5-10 min walk away. The only little issue was that all the people in the house had to share one bathroom. But it was not really a problem and it worked out fine. We would recommend Islams place for a stay in Boston.    \n",
       "3                                                                                                                                                                                                                                                                The room was nice and clean and so were the commodities. Very close to the airport metro station and located in quite safe area. Islam responds very quickly and is very helpful. I would recommend it.    \n",
       "4                                                                                                                                                                                                                                                                                                                                          Great location. Just 5 mins walk from the Airport Station. Good food nearby.\\r\\nRoom was simple, clean, just what I was after.   \n",
       "\n",
       "  sentiment  sentiment_score  \n",
       "0  Positive         0.990538  \n",
       "1  Positive         0.980617  \n",
       "2  Positive         0.966956  \n",
       "3  Positive         0.980367  \n",
       "4  Positive         0.971294  "
      ]
     },
     "execution_count": 51,
     "metadata": {},
     "output_type": "execute_result"
    }
   ],
   "source": [
    "from transformers import pipeline\n",
    "\n",
    "sentiment_pipeline = pipeline(model=\"cardiffnlp/twitter-roberta-base-sentiment\")\n",
    "\n",
    "#sentiment_pipeline = pipeline(model=\"delarosajav95/tw-roberta-base-sentiment-FT-v2\")\n",
    "\n",
    "#sentiment_pipeline = pipeline(model=\"finiteautomata/bertweet-base-sentiment-analysis\")\n",
    "\n",
    "label_mapping = {\"LABEL_0\": \"Negative\", \"LABEL_1\": \"Neutral\", \"LABEL_2\": \"Positive\"}\n",
    "\n",
    "# for illustration purpose, we will only focus on the first 100 reviews\n",
    "sample = df.head(100).copy()\n",
    "\n",
    "# Prepare review list (handle missing values)\n",
    "reviews = sample['comments'].astype(str).fillna(\"\").tolist()\n",
    "\n",
    "# pipeline returns a list of dicts.\n",
    "# deafult retunr_all_scores is false. It will only return the label with the highest probability.\n",
    "outputs = sentiment_pipeline(reviews, batch_size=32, truncation=True, max_length=512)\n",
    "\n",
    "# Map labels and collect scores\n",
    "sample['sentiment'] = [label_mapping.get(o['label'], o['label']) for o in outputs]\n",
    "sample['sentiment_score'] = [o['score'] for o in outputs]\n",
    "\n",
    "sample.head()"
   ]
  },
  {
   "cell_type": "code",
   "execution_count": 21,
   "id": "eb798914-0b7e-4d78-b2a9-3ca0b0d515f5",
   "metadata": {
    "tags": []
   },
   "outputs": [
    {
     "data": {
      "text/plain": [
       "sentiment\n",
       "Positive    90\n",
       "Neutral      7\n",
       "Negative     3\n",
       "Name: count, dtype: int64"
      ]
     },
     "execution_count": 21,
     "metadata": {},
     "output_type": "execute_result"
    }
   ],
   "source": [
    "# check number of reviews by sentiment\n",
    "sample['sentiment'].value_counts()"
   ]
  },
  {
   "cell_type": "markdown",
   "id": "ad30defd-55be-4c8a-8275-5be6fa8a402e",
   "metadata": {
    "tags": []
   },
   "source": [
    "### Visualize the sentiment distribution"
   ]
  },
  {
   "cell_type": "code",
   "execution_count": 26,
   "id": "065deec9-c709-418a-b849-5a7fd6d6006b",
   "metadata": {
    "tags": []
   },
   "outputs": [
    {
     "data": {
      "text/html": [
       "<div>\n",
       "<style scoped>\n",
       "    .dataframe tbody tr th:only-of-type {\n",
       "        vertical-align: middle;\n",
       "    }\n",
       "\n",
       "    .dataframe tbody tr th {\n",
       "        vertical-align: top;\n",
       "    }\n",
       "\n",
       "    .dataframe thead th {\n",
       "        text-align: right;\n",
       "    }\n",
       "</style>\n",
       "<table border=\"1\" class=\"dataframe\">\n",
       "  <thead>\n",
       "    <tr style=\"text-align: right;\">\n",
       "      <th></th>\n",
       "      <th>sentiment</th>\n",
       "      <th>count</th>\n",
       "    </tr>\n",
       "  </thead>\n",
       "  <tbody>\n",
       "    <tr>\n",
       "      <th>0</th>\n",
       "      <td>Positive</td>\n",
       "      <td>90</td>\n",
       "    </tr>\n",
       "    <tr>\n",
       "      <th>1</th>\n",
       "      <td>Neutral</td>\n",
       "      <td>7</td>\n",
       "    </tr>\n",
       "    <tr>\n",
       "      <th>2</th>\n",
       "      <td>Negative</td>\n",
       "      <td>3</td>\n",
       "    </tr>\n",
       "  </tbody>\n",
       "</table>\n",
       "</div>"
      ],
      "text/plain": [
       "  sentiment  count\n",
       "0  Positive     90\n",
       "1   Neutral      7\n",
       "2  Negative      3"
      ]
     },
     "execution_count": 26,
     "metadata": {},
     "output_type": "execute_result"
    }
   ],
   "source": [
    "result=sample['sentiment'].value_counts().reset_index()\n",
    "result"
   ]
  },
  {
   "cell_type": "code",
   "execution_count": 27,
   "id": "4462cdaf-b33f-459f-96d3-32f919074796",
   "metadata": {
    "tags": []
   },
   "outputs": [
    {
     "data": {
      "image/png": "[encoded data removed]",
      "text/plain": [
       "<Figure size 600x600 with 1 Axes>"
      ]
     },
     "metadata": {},
     "output_type": "display_data"
    }
   ],
   "source": [
    "import matplotlib.pyplot as plt\n",
    "\n",
    "# Define custom colors (order must match labels)\n",
    "colors = [\"green\", \"yellow\", \"red\"]\n",
    "\n",
    "# Create pie chart\n",
    "plt.figure(figsize=(6, 6))\n",
    "plt.pie(\n",
    "    result['count'],\n",
    "    labels=result['sentiment'],\n",
    "    autopct='%1.1f%%',       # Show percentages\n",
    "    startangle=140,          # Rotate for better appearance\n",
    "    colors=colors,           # Apply custom colors\n",
    "    wedgeprops={'edgecolor': 'white'}\n",
    ")\n",
    "\n",
    "plt.title(\"Sentiment Distribution in Boston Airbnb Reviews\")\n",
    "plt.show()"
   ]
  },
  {
   "cell_type": "markdown",
   "id": "dce1cbd5-cbda-45f8-abc2-a67c6b7653ec",
   "metadata": {},
   "source": [
    "### check all negative comments"
   ]
  },
  {
   "cell_type": "code",
   "execution_count": 22,
   "id": "11db674f-7479-4164-a025-c51cb204f86e",
   "metadata": {
    "tags": []
   },
   "outputs": [
    {
     "data": {
      "text/plain": [
       "24                                                                                                                                                                                                                                                                                           We didn´t meet Izzy at all!!!! After we arrived nobody was there except some spanish speaking people.\\r\\nOur room was disgusting!!! It smelted like mold and was very dirty!!!!\\r\\nThe Bathroom wasn´t cleaned either and my friend and i wanted to leave right after we came…\\r\\nThe Dryer or washer was not usable because the assistant from Izzy washed all the time.\\r\\nThe Neighborhood is not safe at all and every other morning u could hear people fight.\\r\\nDon´t stay there!!!!!! It´s nothing like u would expect it! \\r\\nAnd it´s defenetly to expensive for this nasty place!!!! \n",
       "29    Well we were kind of annoyed to be honest. We chose the most expensive room in the house because we were meant to be the only ones on the bottom floor, and we were told we would get a computer...\\nWell we had his assistant sleep right outside our door and we did not have a computer. \\nOn top of that, every room had a TV but ours, and the tv in the living room did not get basic channels which frustrated us. \\n\\nThe house was a mess up until the day we left, because izzy was apparently coming home that day, so his assistant decided to clean up. It was a totally different house upon checkout. \\nHis assistant was lovely, just not much help...\\nAs far as The location goes, it is convenient to downtown and the airport, and has local shops and restaurants close by. \\nWe did enjoy our stay overall there was just more than enough frustrating elements..\n",
       "64                                                                                                                                                                                                                                                                                                                                                                                                                                                                                                                                                                                                                                                                                                     Parking situation was bad.  Very hard to find a spot. :-( So if you are driving I don't recommend.  On the positive side of things, the place was very clean and close to the airport.\n",
       "Name: comments, dtype: object"
      ]
     },
     "execution_count": 22,
     "metadata": {},
     "output_type": "execute_result"
    }
   ],
   "source": [
    "# change column width to see full comments.\n",
    "pd.set_option(\"display.max_colwidth\", None) \n",
    "sample[sample['sentiment']=='Negative']['comments']"
   ]
  },
  {
   "cell_type": "markdown",
   "id": "820506dc-91aa-42a2-85b9-de50b2d423d1",
   "metadata": {},
   "source": [
    "# Evaluate Model Performance\n",
    "\n",
    "Compare the human generated label with the prediction from bert model"
   ]
  },
  {
   "cell_type": "code",
   "execution_count": 86,
   "id": "c60319fa-d3c8-4705-bbad-25d96d47552b",
   "metadata": {
    "tags": []
   },
   "outputs": [],
   "source": [
    "df=pd.read_csv('data/hotel_food_movie_reviews_labels.csv')"
   ]
  },
  {
   "cell_type": "code",
   "execution_count": 87,
   "id": "cc7ff057-43c8-4e43-9e65-96d352bf31bb",
   "metadata": {
    "tags": []
   },
   "outputs": [
    {
     "data": {
      "text/html": [
       "<div>\n",
       "<style scoped>\n",
       "    .dataframe tbody tr th:only-of-type {\n",
       "        vertical-align: middle;\n",
       "    }\n",
       "\n",
       "    .dataframe tbody tr th {\n",
       "        vertical-align: top;\n",
       "    }\n",
       "\n",
       "    .dataframe thead th {\n",
       "        text-align: right;\n",
       "    }\n",
       "</style>\n",
       "<table border=\"1\" class=\"dataframe\">\n",
       "  <thead>\n",
       "    <tr style=\"text-align: right;\">\n",
       "      <th></th>\n",
       "      <th>ID</th>\n",
       "      <th>category</th>\n",
       "      <th>review</th>\n",
       "      <th>human_label</th>\n",
       "    </tr>\n",
       "  </thead>\n",
       "  <tbody>\n",
       "    <tr>\n",
       "      <th>0</th>\n",
       "      <td>1</td>\n",
       "      <td>airbnb hotel</td>\n",
       "      <td>We did not meet Hermina in person.  Her emails were prompt and professional.</td>\n",
       "      <td>Neutral</td>\n",
       "    </tr>\n",
       "    <tr>\n",
       "      <th>1</th>\n",
       "      <td>2</td>\n",
       "      <td>airbnb hotel</td>\n",
       "      <td>Listing was accurate, the place was nice and in a decent location in Chinatown not far from the Boston Common.\\r\\n\\r\\nThe only gripes I have are that the Internet was out during my stay although this was fixed within a day and the agreed upon \"flexible check in\" time we had agreed upon was not fulfilled as Elkin did not respond to my message to give me details on how to get into the apartment (agreed upon check in time was early morning on the 8th which he agreed to). \\r\\n\\r\\nI had to stay at the hostel down the street (I arrived at the apartment at 1am) until he responded. Leaving me to spend $50 that I shouldn't have had to spend.</td>\n",
       "      <td>Negative</td>\n",
       "    </tr>\n",
       "    <tr>\n",
       "      <th>2</th>\n",
       "      <td>3</td>\n",
       "      <td>airbnb hotel</td>\n",
       "      <td>Dave was an excellent communicator and made our first trip to Boston effortless. His place was cozy and welcoming. We loved the huge bed and all the amazing furnishings. Sharing the bathroom was no problem and we were able to come and go as we pleased. We'd definitely stay here again!</td>\n",
       "      <td>Positive</td>\n",
       "    </tr>\n",
       "  </tbody>\n",
       "</table>\n",
       "</div>"
      ],
      "text/plain": [
       "   ID      category  \\\n",
       "0   1  airbnb hotel   \n",
       "1   2  airbnb hotel   \n",
       "2   3  airbnb hotel   \n",
       "\n",
       "                                                                                                                                                                                                                                                                                                                                                                                                                                                                                                                                                                                                                                                              review  \\\n",
       "0                                                                                                                                                                                                                                                                                                                                                                                                                                                                                                                                                                                     We did not meet Hermina in person.  Her emails were prompt and professional.     \n",
       "1  Listing was accurate, the place was nice and in a decent location in Chinatown not far from the Boston Common.\\r\\n\\r\\nThe only gripes I have are that the Internet was out during my stay although this was fixed within a day and the agreed upon \"flexible check in\" time we had agreed upon was not fulfilled as Elkin did not respond to my message to give me details on how to get into the apartment (agreed upon check in time was early morning on the 8th which he agreed to). \\r\\n\\r\\nI had to stay at the hostel down the street (I arrived at the apartment at 1am) until he responded. Leaving me to spend $50 that I shouldn't have had to spend.    \n",
       "2                                                                                                                                                                                                                                                                                                                                                                     Dave was an excellent communicator and made our first trip to Boston effortless. His place was cozy and welcoming. We loved the huge bed and all the amazing furnishings. Sharing the bathroom was no problem and we were able to come and go as we pleased. We'd definitely stay here again!    \n",
       "\n",
       "  human_label  \n",
       "0     Neutral  \n",
       "1    Negative  \n",
       "2    Positive  "
      ]
     },
     "execution_count": 87,
     "metadata": {},
     "output_type": "execute_result"
    }
   ],
   "source": [
    "df.head(3)"
   ]
  },
  {
   "cell_type": "code",
   "execution_count": 101,
   "id": "7493fc87-fde3-40fa-b708-ee398a45d5cb",
   "metadata": {
    "tags": []
   },
   "outputs": [
    {
     "name": "stderr",
     "output_type": "stream",
     "text": [
      "Device set to use cuda:0\n"
     ]
    },
    {
     "data": {
      "text/html": [
       "<div>\n",
       "<style scoped>\n",
       "    .dataframe tbody tr th:only-of-type {\n",
       "        vertical-align: middle;\n",
       "    }\n",
       "\n",
       "    .dataframe tbody tr th {\n",
       "        vertical-align: top;\n",
       "    }\n",
       "\n",
       "    .dataframe thead th {\n",
       "        text-align: right;\n",
       "    }\n",
       "</style>\n",
       "<table border=\"1\" class=\"dataframe\">\n",
       "  <thead>\n",
       "    <tr style=\"text-align: right;\">\n",
       "      <th></th>\n",
       "      <th>ID</th>\n",
       "      <th>category</th>\n",
       "      <th>review</th>\n",
       "      <th>human_label</th>\n",
       "      <th>sentiment</th>\n",
       "      <th>sentiment_score</th>\n",
       "    </tr>\n",
       "  </thead>\n",
       "  <tbody>\n",
       "    <tr>\n",
       "      <th>0</th>\n",
       "      <td>1</td>\n",
       "      <td>airbnb hotel</td>\n",
       "      <td>We did not meet Hermina in person.  Her emails were prompt and professional.</td>\n",
       "      <td>Neutral</td>\n",
       "      <td>Neutral</td>\n",
       "      <td>0.527849</td>\n",
       "    </tr>\n",
       "    <tr>\n",
       "      <th>1</th>\n",
       "      <td>2</td>\n",
       "      <td>airbnb hotel</td>\n",
       "      <td>Listing was accurate, the place was nice and in a decent location in Chinatown not far from the Boston Common.\\r\\n\\r\\nThe only gripes I have are that the Internet was out during my stay although this was fixed within a day and the agreed upon \"flexible check in\" time we had agreed upon was not fulfilled as Elkin did not respond to my message to give me details on how to get into the apartment (agreed upon check in time was early morning on the 8th which he agreed to). \\r\\n\\r\\nI had to stay at the hostel down the street (I arrived at the apartment at 1am) until he responded. Leaving me to spend $50 that I shouldn't have had to spend.</td>\n",
       "      <td>Negative</td>\n",
       "      <td>Neutral</td>\n",
       "      <td>0.453106</td>\n",
       "    </tr>\n",
       "    <tr>\n",
       "      <th>2</th>\n",
       "      <td>3</td>\n",
       "      <td>airbnb hotel</td>\n",
       "      <td>Dave was an excellent communicator and made our first trip to Boston effortless. His place was cozy and welcoming. We loved the huge bed and all the amazing furnishings. Sharing the bathroom was no problem and we were able to come and go as we pleased. We'd definitely stay here again!</td>\n",
       "      <td>Positive</td>\n",
       "      <td>Positive</td>\n",
       "      <td>0.992123</td>\n",
       "    </tr>\n",
       "  </tbody>\n",
       "</table>\n",
       "</div>"
      ],
      "text/plain": [
       "   ID      category  \\\n",
       "0   1  airbnb hotel   \n",
       "1   2  airbnb hotel   \n",
       "2   3  airbnb hotel   \n",
       "\n",
       "                                                                                                                                                                                                                                                                                                                                                                                                                                                                                                                                                                                                                                                              review  \\\n",
       "0                                                                                                                                                                                                                                                                                                                                                                                                                                                                                                                                                                                     We did not meet Hermina in person.  Her emails were prompt and professional.     \n",
       "1  Listing was accurate, the place was nice and in a decent location in Chinatown not far from the Boston Common.\\r\\n\\r\\nThe only gripes I have are that the Internet was out during my stay although this was fixed within a day and the agreed upon \"flexible check in\" time we had agreed upon was not fulfilled as Elkin did not respond to my message to give me details on how to get into the apartment (agreed upon check in time was early morning on the 8th which he agreed to). \\r\\n\\r\\nI had to stay at the hostel down the street (I arrived at the apartment at 1am) until he responded. Leaving me to spend $50 that I shouldn't have had to spend.    \n",
       "2                                                                                                                                                                                                                                                                                                                                                                     Dave was an excellent communicator and made our first trip to Boston effortless. His place was cozy and welcoming. We loved the huge bed and all the amazing furnishings. Sharing the bathroom was no problem and we were able to come and go as we pleased. We'd definitely stay here again!    \n",
       "\n",
       "  human_label sentiment  sentiment_score  \n",
       "0     Neutral   Neutral         0.527849  \n",
       "1    Negative   Neutral         0.453106  \n",
       "2    Positive  Positive         0.992123  "
      ]
     },
     "execution_count": 101,
     "metadata": {},
     "output_type": "execute_result"
    }
   ],
   "source": [
    "from transformers import pipeline\n",
    "\n",
    "sentiment_pipeline = pipeline(model=\"cardiffnlp/twitter-roberta-base-sentiment\")\n",
    "\n",
    "label_mapping = {\"LABEL_0\": \"Negative\", \"LABEL_1\": \"Neutral\", \"LABEL_2\": \"Positive\"}\n",
    "\n",
    "# Prepare review list (handle missing values)\n",
    "reviews = df['review'].astype(str).fillna(\"\").tolist()\n",
    "\n",
    "# pipeline returns a list of dicts.\n",
    "# deafult retunr_all_scores is false. It will only return the label with the highest probability.\n",
    "outputs = sentiment_pipeline(reviews, batch_size=32,truncation=True, max_length=512)\n",
    "\n",
    "# Map labels and collect scores\n",
    "df['sentiment'] = [label_mapping.get(o['label'], o['label']) for o in outputs]\n",
    "df['sentiment_score'] = [o['score'] for o in outputs]\n",
    "\n",
    "df.head(3)"
   ]
  },
  {
   "cell_type": "code",
   "execution_count": 90,
   "id": "9fd19b4b-d814-4972-9ace-3539ae18daab",
   "metadata": {
    "tags": []
   },
   "outputs": [
    {
     "data": {
      "text/plain": [
       "sentiment\n",
       "Positive    35\n",
       "Neutral     28\n",
       "Negative    27\n",
       "Name: count, dtype: int64"
      ]
     },
     "execution_count": 90,
     "metadata": {},
     "output_type": "execute_result"
    }
   ],
   "source": [
    "df['sentiment'].value_counts()"
   ]
  },
  {
   "cell_type": "code",
   "execution_count": 102,
   "id": "72a5b1c3-00a0-4d9b-ad48-a4346b89b569",
   "metadata": {
    "tags": []
   },
   "outputs": [
    {
     "data": {
      "text/plain": [
       "human_label\n",
       "Positive    37\n",
       "Negative    34\n",
       "Neutral     19\n",
       "Name: count, dtype: int64"
      ]
     },
     "execution_count": 102,
     "metadata": {},
     "output_type": "execute_result"
    }
   ],
   "source": [
    "df['human_label'].value_counts()"
   ]
  },
  {
   "cell_type": "code",
   "execution_count": 99,
   "id": "7f76fa8e-24fb-4370-9d3e-c1d10e018ae1",
   "metadata": {
    "tags": []
   },
   "outputs": [
    {
     "data": {
      "image/png": "[encoded data removed]",
      "text/plain": [
       "<Figure size 640x480 with 2 Axes>"
      ]
     },
     "metadata": {},
     "output_type": "display_data"
    },
    {
     "name": "stdout",
     "output_type": "stream",
     "text": [
      "              precision    recall  f1-score   support\n",
      "\n",
      "    Positive      0.971     0.919     0.944        37\n",
      "     Neutral      0.571     0.842     0.681        19\n",
      "    Negative      0.889     0.706     0.787        34\n",
      "\n",
      "    accuracy                          0.822        90\n",
      "   macro avg      0.811     0.822     0.804        90\n",
      "weighted avg      0.856     0.822     0.829        90\n",
      "\n"
     ]
    }
   ],
   "source": [
    "# Evaluate the model performance\n",
    "\n",
    "y_true = df['human_label']\n",
    "y_pred = df['sentiment']\n",
    "    \n",
    "classification_evaluation(y_true, y_pred)"
   ]
  },
  {
   "cell_type": "markdown",
   "id": "ad977682-f31f-48c6-99ae-10ababcaa3e8",
   "metadata": {},
   "source": [
    "## Interpretation of Sentiment Classification Results\n",
    "\n",
    "### Overall Accuracy\n",
    "- The model achieved **82.2% accuracy** (≈ 82% of reviews were classified correctly).  \n",
    "- Out of 90 reviews, about 74 were correct and 16 were misclassified.  \n",
    "\n",
    "\n",
    "### Class-Level Metrics\n",
    "\n",
    "#### **Positive (37 true samples)**\n",
    "- **TP = 34** (correctly predicted as Positive)  \n",
    "- **FP = 1** (one Neutral misclassified as Positive)  \n",
    "- **FN = 3** (two misclassified as Neutral, one as Negative)  \n",
    "\n",
    "Metrics:\n",
    "- **Precision = 0.971** → Of all items predicted Positive, 97% were truly Positive.  \n",
    "- **Recall = 0.919** → Of all true Positives, 92% were captured.  \n",
    "- **F1 = 0.944** → Very strong balance.  \n",
    "\n",
    "👉 The model is excellent at detecting Positive reviews.  \n",
    "\n",
    "\n",
    "#### **Neutral (19 true samples)**\n",
    "- **TP = 16**  \n",
    "- **FP = 12** (2 Positive + 10 Negatives misclassified as Neutral)  \n",
    "- **FN = 3** (2 predicted as Negative, 1 as Positive)  \n",
    "\n",
    "Metrics:\n",
    "- **Precision = 0.571** → Only 57% of predicted Neutrals were actually Neutral.  \n",
    "- **Recall = 0.842** → Most true Neutrals were captured.  \n",
    "- **F1 = 0.681** → Weakest performance among classes.  \n",
    "\n",
    "👉 The model **over-predicts Neutral** (lots of Negative reviews are misclassified as Neutral). This drags precision down.  \n",
    "\n",
    "#### **Negative (34 true samples)**\n",
    "- **TP = 24**  \n",
    "- **FP = 3** (1 Positive + 2 Neutrals misclassified as Negative)  \n",
    "- **FN = 10** (misclassified as Neutral)  \n",
    "\n",
    "Metrics:\n",
    "- **Precision = 0.889** → Nearly 89% of predicted Negatives were correct.  \n",
    "- **Recall = 0.706** → Only 71% of true Negatives were captured (many confused with Neutral).  \n",
    "- **F1 = 0.787** → Decent, but weaker recall.  \n",
    "\n",
    "👉 The model is good at flagging Negatives when it predicts them, but misses many true Negatives, calling them Neutral instead.  \n",
    "\n",
    "### Key Takeaways\n",
    "1. **Strengths**: Very strong on **Positive** sentiment (97% precision, 92% recall).  \n",
    "2. **Weaknesses**: Struggles with **Neutral** — it captures them (high recall) but mistakes many Negatives as Neutral (low precision).  \n",
    "3. **Negative**: Reliable precision, but recall is weaker (misses many Negatives).  \n",
    "4. **Biggest confusion**: **Negative ↔ Neutral** — the model often calls true Negatives “Neutral.” \n",
    "5. **Human interpretation matters**: Variability in how individuals label reviews can also affect results. Each person may interpret the same text differently, which introduces subjectivity into the ground truth and impacts model evaluation.  "
   ]
  },
  {
   "cell_type": "code",
   "execution_count": 104,
   "id": "8b2bbc4a-a4aa-4978-9983-175f602fd466",
   "metadata": {
    "tags": []
   },
   "outputs": [
    {
     "data": {
      "text/plain": [
       "category\n",
       "airbnb hotel          30\n",
       "amazon food review    30\n",
       "imdb movie review     30\n",
       "Name: count, dtype: int64"
      ]
     },
     "execution_count": 104,
     "metadata": {},
     "output_type": "execute_result"
    }
   ],
   "source": [
    "df['category'].value_counts()"
   ]
  },
  {
   "cell_type": "code",
   "execution_count": 111,
   "id": "a9d2f3d3-a5a6-49e8-8f97-4781e6fecfa8",
   "metadata": {
    "tags": []
   },
   "outputs": [
    {
     "name": "stdout",
     "output_type": "stream",
     "text": [
      "Classification accuracy for Airbnb Hotel\n",
      "\n"
     ]
    },
    {
     "data": {
      "image/png": "[encoded data removed]",
      "text/plain": [
       "<Figure size 640x480 with 2 Axes>"
      ]
     },
     "metadata": {},
     "output_type": "display_data"
    },
    {
     "name": "stdout",
     "output_type": "stream",
     "text": [
      "              precision    recall  f1-score   support\n",
      "\n",
      "    Positive      1.000     0.909     0.952        11\n",
      "     Neutral      0.500     0.875     0.636         8\n",
      "    Negative      0.833     0.455     0.588        11\n",
      "\n",
      "    accuracy                          0.733        30\n",
      "   macro avg      0.778     0.746     0.726        30\n",
      "weighted avg      0.806     0.733     0.735        30\n",
      "\n",
      "Classification accuracy for Amazon Food Review\n",
      "\n"
     ]
    },
    {
     "data": {
      "image/png": "[encoded data removed]",
      "text/plain": [
       "<Figure size 640x480 with 2 Axes>"
      ]
     },
     "metadata": {},
     "output_type": "display_data"
    },
    {
     "name": "stdout",
     "output_type": "stream",
     "text": [
      "              precision    recall  f1-score   support\n",
      "\n",
      "    Positive      0.933     1.000     0.966        14\n",
      "     Neutral      0.500     0.500     0.500         4\n",
      "    Negative      0.909     0.833     0.870        12\n",
      "\n",
      "    accuracy                          0.867        30\n",
      "   macro avg      0.781     0.778     0.778        30\n",
      "weighted avg      0.866     0.867     0.865        30\n",
      "\n",
      "Classification accuracy for Imdb Movie Review\n",
      "\n"
     ]
    },
    {
     "data": {
      "image/png": "[encoded data removed]",
      "text/plain": [
       "<Figure size 640x480 with 2 Axes>"
      ]
     },
     "metadata": {},
     "output_type": "display_data"
    },
    {
     "name": "stdout",
     "output_type": "stream",
     "text": [
      "              precision    recall  f1-score   support\n",
      "\n",
      "    Positive      1.000     0.833     0.909        12\n",
      "     Neutral      0.700     1.000     0.824         7\n",
      "    Negative      0.900     0.818     0.857        11\n",
      "\n",
      "    accuracy                          0.867        30\n",
      "   macro avg      0.867     0.884     0.863        30\n",
      "weighted avg      0.893     0.867     0.870        30\n",
      "\n"
     ]
    }
   ],
   "source": [
    "# Evaluate the model performance\n",
    "\n",
    "y_true = df[df.category==\"airbnb hotel\"]['human_label']\n",
    "y_pred = df[df.category==\"airbnb hotel\"]['sentiment']\n",
    "\n",
    "print(\"Classification accuracy for Airbnb Hotel\\n\")\n",
    "   \n",
    "classification_evaluation(y_true, y_pred)\n",
    "\n",
    "y_true = df[df.category==\"amazon food review\"]['human_label']\n",
    "y_pred = df[df.category==\"amazon food review\"]['sentiment']\n",
    "\n",
    "print(\"Classification accuracy for Amazon Food Review\\n\")\n",
    "   \n",
    "classification_evaluation(y_true, y_pred)\n",
    "\n",
    "y_true = df[df.category==\"imdb movie review\"]['human_label']\n",
    "y_pred = df[df.category==\"imdb movie review\"]['sentiment']\n",
    "\n",
    "print(\"Classification accuracy for Imdb Movie Review\\n\")\n",
    "   \n",
    "classification_evaluation(y_true, y_pred)"
   ]
  },
  {
   "cell_type": "code",
   "execution_count": null,
   "id": "41e61ad1-e22e-4f47-af86-d7be68e74a22",
   "metadata": {},
   "outputs": [],
   "source": []
  }
 ],
 "metadata": {
  "kernelspec": {
   "display_name": "AI500Env",
   "language": "python",
   "name": "ai500env"
  },
  "language_info": {
   "codemirror_mode": {
    "name": "ipython",
    "version": 3
   },
   "file_extension": ".py",
   "mimetype": "text/x-python",
   "name": "python",
   "nbconvert_exporter": "python",
   "pygments_lexer": "ipython3",
   "version": "3.12.11"
  }
 },
 "nbformat": 4,
 "nbformat_minor": 5
}
