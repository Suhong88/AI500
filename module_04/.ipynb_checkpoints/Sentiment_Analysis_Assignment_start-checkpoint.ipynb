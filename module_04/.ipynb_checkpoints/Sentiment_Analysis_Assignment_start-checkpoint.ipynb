{
 "cells": [
  {
   "cell_type": "markdown",
   "id": "f7c6a5d5",
   "metadata": {},
   "source": [
    "# 📝 Assignment: Sentiment Analysis with Transformers"
   ]
  },
  {
   "cell_type": "markdown",
   "id": "e8e8e4ff",
   "metadata": {},
   "source": [
    "### 🎯 Learning Objectives\n",
    "- Use a pre-trained transformer model for sentiment analysis.\n",
    "- Apply NLP pipelines to text datasets.\n",
    "- Visualize and interpret sentiment predictions.\n"
   ]
  },
  {
   "cell_type": "markdown",
   "id": "b58603dd",
   "metadata": {},
   "source": [
    "### 📂 Step 1: Load a Review Dataset\n",
    "Load a dataset containing reviews. You can choose from IMDb, Yelp, Amazon, or any dataset with a column like \"review\" or \"comment\".\n",
    "\n",
    "Example placeholder:\n",
    "```python\n",
    "import pandas as pd\n",
    "\n",
    "# Load your dataset (update the path and separator if needed)\n",
    "df = pd.read_csv(\"your_dataset.csv\")\n",
    "df = df[['review_column_name']].dropna()\n",
    "df.head()\n",
    "```\n"
   ]
  },
  {
   "cell_type": "markdown",
   "id": "1982d596",
   "metadata": {},
   "source": [
    "### 🤗 Step 2: Choose a Different Pre-trained Model\n",
    "Select a different model from Hugging Face such as:\n",
    "- `cardiffnlp/twitter-roberta-base-sentiment`\n",
    "- `finiteautomata/bertweet-base-sentiment-analysis`\n",
    "\n",
    "```python\n",
    "from transformers import pipeline\n",
    "\n",
    "# Replace with your chosen model\n",
    "sentiment_pipeline = pipeline(\"sentiment-analysis\", model=\"cardiffnlp/twitter-roberta-base-sentiment\")\n",
    "```"
   ]
  },
  {
   "cell_type": "markdown",
   "id": "d2165366",
   "metadata": {},
   "source": [
    "### ⚙️ Step 3: Apply Sentiment Analysis to 100 Comments\n",
    "\n",
    "```python\n",
    "# Truncate long comments if needed\n",
    "sample_comments = df['review_column_name'].dropna().astype(str).tolist()[:100]\n",
    "sample_comments = [c[:512] for c in sample_comments]\n",
    "results = sentiment_pipeline(sample_comments, batch_size=8)\n",
    "```"
   ]
  },
  {
   "cell_type": "markdown",
   "id": "8b82e266",
   "metadata": {},
   "source": [
    "### 📊 Step 4: Combine Results and Visualize Sentiment Distribution\n",
    "\n",
    "```python\n",
    "import matplotlib.pyplot as plt\n",
    "\n",
    "# Combine results\n",
    "df_sample = df.head(100).copy()\n",
    "df_sample['sentiment_label'] = [r['label'] for r in results]\n",
    "df_sample['sentiment_score'] = [r['score'] for r in results]\n",
    "\n",
    "# Bar plot\n",
    "df_sample['sentiment_label'].value_counts().plot(kind='bar', title='Sentiment Distribution')\n",
    "plt.xlabel(\"Sentiment\")\n",
    "plt.ylabel(\"Count\")\n",
    "plt.grid(axis='y')\n",
    "plt.show()\n",
    "```"
   ]
  },
  {
   "cell_type": "markdown",
   "id": "57524916",
   "metadata": {},
   "source": [
    "### 🧠 Step 5: Reflection and Submission\n",
    "\n",
    "Write a short summary of:\n",
    "- What did you learn?\n",
    "- Any surprising patterns in sentiment?\n",
    "- Were there any reviews you feel were misclassified?\n",
    "\n",
    "Save your notebook and export your CSV:\n",
    "```python\n",
    "df_sample.to_csv(\"your_sentiment_output.csv\", index=False)\n",
    "```"
   ]
  }
 ],
 "metadata": {
  "kernelspec": {
   "display_name": "Python (ai500)",
   "language": "python",
   "name": "ai500"
  },
  "language_info": {
   "codemirror_mode": {
    "name": "ipython",
    "version": 3
   },
   "file_extension": ".py",
   "mimetype": "text/x-python",
   "name": "python",
   "nbconvert_exporter": "python",
   "pygments_lexer": "ipython3",
   "version": "3.9.21"
  }
 },
 "nbformat": 4,
 "nbformat_minor": 5
}
