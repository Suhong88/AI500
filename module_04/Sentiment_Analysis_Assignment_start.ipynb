{
 "cells": [
  {
   "cell_type": "markdown",
   "id": "008f4d36-57b8-40f0-835f-f3fa59670413",
   "metadata": {
    "tags": []
   },
   "source": [
    "# Take home assignment: Sentiment Analysis with BERT Transformers\n",
    "\n",
    "- For this assignment, you will work with the file **hotel_food_movie_reviews.csv**, which contains 30 reviews drawn from three sources: **Boston Airbnb**, **Amazon Fine Food**, and **IMDB Movie Reviews**. Begin by carefully reviewing each entry and assigning your own evaluation in the **human_label** column, classifying each review as **Positive**, **Negative**, or **Neutral**. Once you have completed your labeling, upload the dataset to the HPC server.  \n",
    "\n",
    "- Next, use the model **cardiffnlp/twitter-roberta-base-sentiment** to perform sentiment analysis on each review and save the model’s predictions in a new column named **sentiment**. Compare your human evaluation (**y_true)*) with the model’s predictions (**sentiment:y_pred)**) by running the `classification_evaluation` function provided in the next cell. This will allow you to assess areas of agreement and disagreement between human and machine labels.  \n",
    "\n",
    "- In addition, conduct an analysis of model performance across the three review sources (**Airbnb**, **Amazon Fine Food**, and **IMDB Movie Reviews**). Discuss whether the model performs differently across these categories and provide possible explanations for your findings.  \n",
    "\n",
    "**Optional extension:** Apply a different BERT-based sentiment model (ensuring that it outputs the same three labels: **Positive**, **Negative**, and **Neutral**) to analyze the dataset. Compare its performance with **twitter-roberta-base-sentiment** and discuss whether the alternative model improves prediction accuracy.  \n",
    "\n",
    " **Finally, put your discussion of the results at the end of this notebook as Markdown cell and format it clearly and professionally.**"
   ]
  },
  {
   "cell_type": "code",
   "execution_count": 1,
   "id": "4e9b6f9d-beca-4c40-bb67-1c04e899af50",
   "metadata": {
    "tags": []
   },
   "outputs": [
    {
     "name": "stderr",
     "output_type": "stream",
     "text": [
      "/home/sli/.conda/envs/AI500/lib/python3.12/site-packages/tqdm/auto.py:21: TqdmWarning: IProgress not found. Please update jupyter and ipywidgets. See https://ipywidgets.readthedocs.io/en/stable/user_install.html\n",
      "  from .autonotebook import tqdm as notebook_tqdm\n"
     ]
    }
   ],
   "source": [
    "import os\n",
    "import pandas as pd\n",
    "from transformers import pipeline\n",
    "from sklearn.metrics import confusion_matrix, ConfusionMatrixDisplay, classification_report\n",
    "\n",
    "# create a function to generate confusion matrix and classification report for sentiment analysis\n",
    "\n",
    "def classification_evaluation(y_true, y_pred):\n",
    "    # Fixed class order used everywhere\n",
    "    classes = [\"Positive\", \"Neutral\", \"Negative\"]\n",
    "\n",
    "    # generate Confusion matrix (fixed label order)\n",
    "    cm = confusion_matrix(y_true, y_pred, labels=classes)\n",
    "    disp = ConfusionMatrixDisplay(confusion_matrix=cm, display_labels=classes)\n",
    "    disp.plot(cmap=\"Blues\", values_format=\"d\")\n",
    "    plt.title(\"Confusion Matrix - Sentiment Analysis\")\n",
    "    plt.show()\n",
    "\n",
    "    # generate classification report with the SAME labels & names. Use three decimal places\n",
    "    print(classification_report(y_true, y_pred, labels=classes, target_names=classes, digits=3))"
   ]
  },
  {
   "cell_type": "code",
   "execution_count": null,
   "id": "baf2964d-c3d7-4e3a-be68-4998e930c843",
   "metadata": {},
   "outputs": [],
   "source": []
  }
 ],
 "metadata": {
  "kernelspec": {
   "display_name": "AI500",
   "language": "python",
   "name": "ai500"
  },
  "language_info": {
   "codemirror_mode": {
    "name": "ipython",
    "version": 3
   },
   "file_extension": ".py",
   "mimetype": "text/x-python",
   "name": "python",
   "nbconvert_exporter": "python",
   "pygments_lexer": "ipython3",
   "version": "3.12.11"
  }
 },
 "nbformat": 4,
 "nbformat_minor": 5
}
